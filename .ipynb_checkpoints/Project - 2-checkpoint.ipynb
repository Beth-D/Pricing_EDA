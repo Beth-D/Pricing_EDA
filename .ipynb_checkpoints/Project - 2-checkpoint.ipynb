{
 "cells": [
  {
   "cell_type": "markdown",
   "metadata": {},
   "source": [
    "\n",
    "# Price Change Analysis\n",
    "\n",
    "## Project Goal\n",
    "\n",
    "You want to track the daily percentage change of one of the three equities that you are interested in. Analyse equity. \n",
    "\n",
    "\n",
    "### Working with Quandl's API\n",
    "1. You would first need to signup for a Quandl account [here](https://www.quandl.com/).\n",
    "2. Get the API Key from [here](https://www.quandl.com/account/api).\n",
    "3. Read the quick start guide [here](https://www.quandl.com/data/EOD-End-of-Day-US-Stock-Prices/usage/quickstart/python).\n",
    "\n",
    "\n",
    "### Pointers \n",
    "1. Use the following line of code to set the API key for the quandl library\n",
    "    - `quandl.ApiConfig.api_key = YOUR_API_KEY`\n",
    "2. Get the data from quandl using the `quandl code`. An example code to do this is as follows.\n",
    "    - `data = quandl.get('EOD/AAPL',start_date='2017-02-05',end_date='2017-09-12')`\n",
    "3. A simple way to calculate the SMA (Simple Moving Average), is as follows.\n",
    "    - `data['Adj_Close'].rolling(NUMBER_OF_DAYS).mean()`\n",
    "4. A simple way to calculate the daily percentage change of adjusted closing price is as follows.\n",
    "    - `data['Adj_Close'].pct_change(1)`\n",
    "5. Use timedelta to get the date of `X` days from the current day.\n",
    "6. Checkout Python's library called `smtplib` for sending an email.\n",
    "\n",
    "\n",
    "### Things to keep in mind\n",
    "1. No pricing data can be retrieved on days falling on a weekend, therefore, the script might throw an error if it is run on a Sunday or Monday, so make sure the logic is robust so that it can calculate the percentage change even if it is run on, one of the specified days.\n",
    "2. Split your code into seperate functions."
   ]
  },
  {
   "cell_type": "code",
   "execution_count": 31,
   "metadata": {},
   "outputs": [],
   "source": [
    "API_Key = 'feZwk1CoFQkejxZua4xi'"
   ]
  },
  {
   "cell_type": "code",
   "execution_count": 32,
   "metadata": {},
   "outputs": [
    {
     "data": {
      "text/html": [
       "        <script type=\"text/javascript\">\n",
       "        window.PlotlyConfig = {MathJaxConfig: 'local'};\n",
       "        if (window.MathJax) {MathJax.Hub.Config({SVG: {font: \"STIX-Web\"}});}\n",
       "        if (typeof require !== 'undefined') {\n",
       "        require.undef(\"plotly\");\n",
       "        requirejs.config({\n",
       "            paths: {\n",
       "                'plotly': ['https://cdn.plot.ly/plotly-latest.min']\n",
       "            }\n",
       "        });\n",
       "        require(['plotly'], function(Plotly) {\n",
       "            window._Plotly = Plotly;\n",
       "        });\n",
       "        }\n",
       "        </script>\n",
       "        "
      ]
     },
     "metadata": {},
     "output_type": "display_data"
    }
   ],
   "source": [
    "import quandl\n",
    "import pandas as pd\n",
    "import array\n",
    "import plotly.offline as py\n",
    "import plotly.graph_objs as go\n",
    "import plotly.figure_factory as ff\n",
    "py.init_notebook_mode(connected=True)\n",
    "import plotly.express as px\n",
    "\n",
    "import plotly.graph_objects as go\n"
   ]
  },
  {
   "cell_type": "code",
   "execution_count": 33,
   "metadata": {},
   "outputs": [],
   "source": [
    "quandl.ApiConfig.api_key = API_Key"
   ]
  },
  {
   "cell_type": "code",
   "execution_count": 34,
   "metadata": {},
   "outputs": [],
   "source": [
    "data = quandl.get('EOD/AAPL', start_date='2017-02-05', end_date='2017-09-12')"
   ]
  },
  {
   "cell_type": "code",
   "execution_count": 35,
   "metadata": {},
   "outputs": [
    {
     "data": {
      "text/plain": [
       "pandas.core.frame.DataFrame"
      ]
     },
     "execution_count": 35,
     "metadata": {},
     "output_type": "execute_result"
    }
   ],
   "source": [
    "type(data)"
   ]
  },
  {
   "cell_type": "code",
   "execution_count": 36,
   "metadata": {},
   "outputs": [
    {
     "data": {
      "text/html": [
       "<div>\n",
       "<style scoped>\n",
       "    .dataframe tbody tr th:only-of-type {\n",
       "        vertical-align: middle;\n",
       "    }\n",
       "\n",
       "    .dataframe tbody tr th {\n",
       "        vertical-align: top;\n",
       "    }\n",
       "\n",
       "    .dataframe thead th {\n",
       "        text-align: right;\n",
       "    }\n",
       "</style>\n",
       "<table border=\"1\" class=\"dataframe\">\n",
       "  <thead>\n",
       "    <tr style=\"text-align: right;\">\n",
       "      <th></th>\n",
       "      <th>Open</th>\n",
       "      <th>High</th>\n",
       "      <th>Low</th>\n",
       "      <th>Close</th>\n",
       "      <th>Volume</th>\n",
       "      <th>Dividend</th>\n",
       "      <th>Split</th>\n",
       "      <th>Adj_Open</th>\n",
       "      <th>Adj_High</th>\n",
       "      <th>Adj_Low</th>\n",
       "      <th>Adj_Close</th>\n",
       "      <th>Adj_Volume</th>\n",
       "    </tr>\n",
       "    <tr>\n",
       "      <th>Date</th>\n",
       "      <th></th>\n",
       "      <th></th>\n",
       "      <th></th>\n",
       "      <th></th>\n",
       "      <th></th>\n",
       "      <th></th>\n",
       "      <th></th>\n",
       "      <th></th>\n",
       "      <th></th>\n",
       "      <th></th>\n",
       "      <th></th>\n",
       "      <th></th>\n",
       "    </tr>\n",
       "  </thead>\n",
       "  <tbody>\n",
       "    <tr>\n",
       "      <td>2017-02-06</td>\n",
       "      <td>129.13</td>\n",
       "      <td>130.500</td>\n",
       "      <td>128.90</td>\n",
       "      <td>130.29</td>\n",
       "      <td>26845924.0</td>\n",
       "      <td>0.00</td>\n",
       "      <td>1.0</td>\n",
       "      <td>123.043738</td>\n",
       "      <td>124.349166</td>\n",
       "      <td>122.824578</td>\n",
       "      <td>124.149063</td>\n",
       "      <td>26845924.0</td>\n",
       "    </tr>\n",
       "    <tr>\n",
       "      <td>2017-02-07</td>\n",
       "      <td>130.54</td>\n",
       "      <td>132.090</td>\n",
       "      <td>130.45</td>\n",
       "      <td>131.53</td>\n",
       "      <td>38183841.0</td>\n",
       "      <td>0.00</td>\n",
       "      <td>1.0</td>\n",
       "      <td>124.387280</td>\n",
       "      <td>125.864224</td>\n",
       "      <td>124.301522</td>\n",
       "      <td>125.330619</td>\n",
       "      <td>38183841.0</td>\n",
       "    </tr>\n",
       "    <tr>\n",
       "      <td>2017-02-08</td>\n",
       "      <td>131.35</td>\n",
       "      <td>132.220</td>\n",
       "      <td>131.22</td>\n",
       "      <td>132.04</td>\n",
       "      <td>23004072.0</td>\n",
       "      <td>0.00</td>\n",
       "      <td>1.0</td>\n",
       "      <td>125.159103</td>\n",
       "      <td>125.988097</td>\n",
       "      <td>125.035230</td>\n",
       "      <td>125.816581</td>\n",
       "      <td>23004072.0</td>\n",
       "    </tr>\n",
       "    <tr>\n",
       "      <td>2017-02-09</td>\n",
       "      <td>131.65</td>\n",
       "      <td>132.445</td>\n",
       "      <td>131.12</td>\n",
       "      <td>132.42</td>\n",
       "      <td>28349859.0</td>\n",
       "      <td>0.57</td>\n",
       "      <td>1.0</td>\n",
       "      <td>125.984939</td>\n",
       "      <td>126.745729</td>\n",
       "      <td>125.477745</td>\n",
       "      <td>126.721805</td>\n",
       "      <td>28349859.0</td>\n",
       "    </tr>\n",
       "    <tr>\n",
       "      <td>2017-02-10</td>\n",
       "      <td>132.46</td>\n",
       "      <td>132.940</td>\n",
       "      <td>132.05</td>\n",
       "      <td>132.12</td>\n",
       "      <td>20065458.0</td>\n",
       "      <td>0.00</td>\n",
       "      <td>1.0</td>\n",
       "      <td>126.760084</td>\n",
       "      <td>127.219429</td>\n",
       "      <td>126.367726</td>\n",
       "      <td>126.434714</td>\n",
       "      <td>20065458.0</td>\n",
       "    </tr>\n",
       "  </tbody>\n",
       "</table>\n",
       "</div>"
      ],
      "text/plain": [
       "              Open     High     Low   Close      Volume  Dividend  Split  \\\n",
       "Date                                                                       \n",
       "2017-02-06  129.13  130.500  128.90  130.29  26845924.0      0.00    1.0   \n",
       "2017-02-07  130.54  132.090  130.45  131.53  38183841.0      0.00    1.0   \n",
       "2017-02-08  131.35  132.220  131.22  132.04  23004072.0      0.00    1.0   \n",
       "2017-02-09  131.65  132.445  131.12  132.42  28349859.0      0.57    1.0   \n",
       "2017-02-10  132.46  132.940  132.05  132.12  20065458.0      0.00    1.0   \n",
       "\n",
       "              Adj_Open    Adj_High     Adj_Low   Adj_Close  Adj_Volume  \n",
       "Date                                                                    \n",
       "2017-02-06  123.043738  124.349166  122.824578  124.149063  26845924.0  \n",
       "2017-02-07  124.387280  125.864224  124.301522  125.330619  38183841.0  \n",
       "2017-02-08  125.159103  125.988097  125.035230  125.816581  23004072.0  \n",
       "2017-02-09  125.984939  126.745729  125.477745  126.721805  28349859.0  \n",
       "2017-02-10  126.760084  127.219429  126.367726  126.434714  20065458.0  "
      ]
     },
     "execution_count": 36,
     "metadata": {},
     "output_type": "execute_result"
    }
   ],
   "source": [
    "data.head()"
   ]
  },
  {
   "cell_type": "code",
   "execution_count": 37,
   "metadata": {},
   "outputs": [
    {
     "data": {
      "text/plain": [
       "<bound method Series.sum of Date\n",
       "2017-02-06    129.13\n",
       "2017-02-07    130.54\n",
       "2017-02-08    131.35\n",
       "2017-02-09    131.65\n",
       "2017-02-10    132.46\n",
       "               ...  \n",
       "2017-09-06    162.71\n",
       "2017-09-07    162.09\n",
       "2017-09-08    160.86\n",
       "2017-09-11    160.50\n",
       "2017-09-12    162.61\n",
       "Name: Open, Length: 152, dtype: float64>"
      ]
     },
     "execution_count": 37,
     "metadata": {},
     "output_type": "execute_result"
    }
   ],
   "source": [
    "data['Open'].sum"
   ]
  },
  {
   "cell_type": "code",
   "execution_count": 38,
   "metadata": {},
   "outputs": [
    {
     "data": {
      "text/html": [
       "<div>\n",
       "<style scoped>\n",
       "    .dataframe tbody tr th:only-of-type {\n",
       "        vertical-align: middle;\n",
       "    }\n",
       "\n",
       "    .dataframe tbody tr th {\n",
       "        vertical-align: top;\n",
       "    }\n",
       "\n",
       "    .dataframe thead th {\n",
       "        text-align: right;\n",
       "    }\n",
       "</style>\n",
       "<table border=\"1\" class=\"dataframe\">\n",
       "  <thead>\n",
       "    <tr style=\"text-align: right;\">\n",
       "      <th></th>\n",
       "      <th>Open</th>\n",
       "      <th>High</th>\n",
       "      <th>Low</th>\n",
       "      <th>Close</th>\n",
       "      <th>Volume</th>\n",
       "      <th>Dividend</th>\n",
       "      <th>Split</th>\n",
       "      <th>Adj_Open</th>\n",
       "      <th>Adj_High</th>\n",
       "      <th>Adj_Low</th>\n",
       "      <th>Adj_Close</th>\n",
       "      <th>Adj_Volume</th>\n",
       "    </tr>\n",
       "    <tr>\n",
       "      <th>Date</th>\n",
       "      <th></th>\n",
       "      <th></th>\n",
       "      <th></th>\n",
       "      <th></th>\n",
       "      <th></th>\n",
       "      <th></th>\n",
       "      <th></th>\n",
       "      <th></th>\n",
       "      <th></th>\n",
       "      <th></th>\n",
       "      <th></th>\n",
       "      <th></th>\n",
       "    </tr>\n",
       "  </thead>\n",
       "  <tbody>\n",
       "    <tr>\n",
       "      <td>2017-09-06</td>\n",
       "      <td>162.71</td>\n",
       "      <td>162.99</td>\n",
       "      <td>160.52</td>\n",
       "      <td>161.91</td>\n",
       "      <td>21651726.0</td>\n",
       "      <td>0.0</td>\n",
       "      <td>1.0</td>\n",
       "      <td>156.979745</td>\n",
       "      <td>157.249884</td>\n",
       "      <td>154.866871</td>\n",
       "      <td>156.207919</td>\n",
       "      <td>21651726.0</td>\n",
       "    </tr>\n",
       "    <tr>\n",
       "      <td>2017-09-07</td>\n",
       "      <td>162.09</td>\n",
       "      <td>162.24</td>\n",
       "      <td>160.36</td>\n",
       "      <td>161.26</td>\n",
       "      <td>21928502.0</td>\n",
       "      <td>0.0</td>\n",
       "      <td>1.0</td>\n",
       "      <td>156.381580</td>\n",
       "      <td>156.526297</td>\n",
       "      <td>154.712506</td>\n",
       "      <td>155.580810</td>\n",
       "      <td>21928502.0</td>\n",
       "    </tr>\n",
       "    <tr>\n",
       "      <td>2017-09-08</td>\n",
       "      <td>160.86</td>\n",
       "      <td>161.15</td>\n",
       "      <td>158.53</td>\n",
       "      <td>158.63</td>\n",
       "      <td>28611535.0</td>\n",
       "      <td>0.0</td>\n",
       "      <td>1.0</td>\n",
       "      <td>155.194897</td>\n",
       "      <td>155.474684</td>\n",
       "      <td>152.946954</td>\n",
       "      <td>153.043432</td>\n",
       "      <td>28611535.0</td>\n",
       "    </tr>\n",
       "    <tr>\n",
       "      <td>2017-09-11</td>\n",
       "      <td>160.50</td>\n",
       "      <td>162.05</td>\n",
       "      <td>159.89</td>\n",
       "      <td>161.50</td>\n",
       "      <td>31580798.0</td>\n",
       "      <td>0.0</td>\n",
       "      <td>1.0</td>\n",
       "      <td>154.847576</td>\n",
       "      <td>156.342988</td>\n",
       "      <td>154.259058</td>\n",
       "      <td>155.812358</td>\n",
       "      <td>31580798.0</td>\n",
       "    </tr>\n",
       "    <tr>\n",
       "      <td>2017-09-12</td>\n",
       "      <td>162.61</td>\n",
       "      <td>163.96</td>\n",
       "      <td>158.77</td>\n",
       "      <td>160.86</td>\n",
       "      <td>71714046.0</td>\n",
       "      <td>0.0</td>\n",
       "      <td>1.0</td>\n",
       "      <td>156.883266</td>\n",
       "      <td>158.185723</td>\n",
       "      <td>153.178502</td>\n",
       "      <td>155.194897</td>\n",
       "      <td>71714046.0</td>\n",
       "    </tr>\n",
       "  </tbody>\n",
       "</table>\n",
       "</div>"
      ],
      "text/plain": [
       "              Open    High     Low   Close      Volume  Dividend  Split  \\\n",
       "Date                                                                      \n",
       "2017-09-06  162.71  162.99  160.52  161.91  21651726.0       0.0    1.0   \n",
       "2017-09-07  162.09  162.24  160.36  161.26  21928502.0       0.0    1.0   \n",
       "2017-09-08  160.86  161.15  158.53  158.63  28611535.0       0.0    1.0   \n",
       "2017-09-11  160.50  162.05  159.89  161.50  31580798.0       0.0    1.0   \n",
       "2017-09-12  162.61  163.96  158.77  160.86  71714046.0       0.0    1.0   \n",
       "\n",
       "              Adj_Open    Adj_High     Adj_Low   Adj_Close  Adj_Volume  \n",
       "Date                                                                    \n",
       "2017-09-06  156.979745  157.249884  154.866871  156.207919  21651726.0  \n",
       "2017-09-07  156.381580  156.526297  154.712506  155.580810  21928502.0  \n",
       "2017-09-08  155.194897  155.474684  152.946954  153.043432  28611535.0  \n",
       "2017-09-11  154.847576  156.342988  154.259058  155.812358  31580798.0  \n",
       "2017-09-12  156.883266  158.185723  153.178502  155.194897  71714046.0  "
      ]
     },
     "execution_count": 38,
     "metadata": {},
     "output_type": "execute_result"
    }
   ],
   "source": [
    "data.tail()"
   ]
  },
  {
   "cell_type": "code",
   "execution_count": 39,
   "metadata": {},
   "outputs": [
    {
     "data": {
      "text/plain": [
       "(152, 12)"
      ]
     },
     "execution_count": 39,
     "metadata": {},
     "output_type": "execute_result"
    }
   ],
   "source": [
    "data.shape"
   ]
  },
  {
   "cell_type": "code",
   "execution_count": 40,
   "metadata": {},
   "outputs": [
    {
     "name": "stdout",
     "output_type": "stream",
     "text": [
      "DatetimeIndex(['2017-02-06', '2017-02-07', '2017-02-08', '2017-02-09',\n",
      "               '2017-02-10', '2017-02-13', '2017-02-14', '2017-02-15',\n",
      "               '2017-02-16', '2017-02-17',\n",
      "               ...\n",
      "               '2017-08-29', '2017-08-30', '2017-08-31', '2017-09-01',\n",
      "               '2017-09-05', '2017-09-06', '2017-09-07', '2017-09-08',\n",
      "               '2017-09-11', '2017-09-12'],\n",
      "              dtype='datetime64[ns]', name='Date', length=152, freq=None)\n"
     ]
    }
   ],
   "source": [
    "print(data.index)"
   ]
  },
  {
   "cell_type": "code",
   "execution_count": 41,
   "metadata": {},
   "outputs": [
    {
     "name": "stdout",
     "output_type": "stream",
     "text": [
      "Index(['Open', 'High', 'Low', 'Close', 'Volume', 'Dividend', 'Split',\n",
      "       'Adj_Open', 'Adj_High', 'Adj_Low', 'Adj_Close', 'Adj_Volume'],\n",
      "      dtype='object')\n"
     ]
    }
   ],
   "source": [
    "print(data.columns)"
   ]
  },
  {
   "cell_type": "code",
   "execution_count": 42,
   "metadata": {},
   "outputs": [
    {
     "name": "stdout",
     "output_type": "stream",
     "text": [
      "Open          float64\n",
      "High          float64\n",
      "Low           float64\n",
      "Close         float64\n",
      "Volume        float64\n",
      "Dividend      float64\n",
      "Split         float64\n",
      "Adj_Open      float64\n",
      "Adj_High      float64\n",
      "Adj_Low       float64\n",
      "Adj_Close     float64\n",
      "Adj_Volume    float64\n",
      "dtype: object\n"
     ]
    }
   ],
   "source": [
    "print(data.dtypes)"
   ]
  },
  {
   "cell_type": "code",
   "execution_count": 43,
   "metadata": {},
   "outputs": [
    {
     "data": {
      "text/html": [
       "<div>\n",
       "<style scoped>\n",
       "    .dataframe tbody tr th:only-of-type {\n",
       "        vertical-align: middle;\n",
       "    }\n",
       "\n",
       "    .dataframe tbody tr th {\n",
       "        vertical-align: top;\n",
       "    }\n",
       "\n",
       "    .dataframe thead th {\n",
       "        text-align: right;\n",
       "    }\n",
       "</style>\n",
       "<table border=\"1\" class=\"dataframe\">\n",
       "  <thead>\n",
       "    <tr style=\"text-align: right;\">\n",
       "      <th></th>\n",
       "      <th>Open</th>\n",
       "      <th>High</th>\n",
       "      <th>Low</th>\n",
       "      <th>Close</th>\n",
       "      <th>Volume</th>\n",
       "      <th>Dividend</th>\n",
       "      <th>Split</th>\n",
       "      <th>Adj_Open</th>\n",
       "      <th>Adj_High</th>\n",
       "      <th>Adj_Low</th>\n",
       "      <th>Adj_Close</th>\n",
       "      <th>Adj_Volume</th>\n",
       "    </tr>\n",
       "  </thead>\n",
       "  <tbody>\n",
       "    <tr>\n",
       "      <td>count</td>\n",
       "      <td>152.000000</td>\n",
       "      <td>152.000000</td>\n",
       "      <td>152.000000</td>\n",
       "      <td>152.000000</td>\n",
       "      <td>1.520000e+02</td>\n",
       "      <td>152.000000</td>\n",
       "      <td>152.0</td>\n",
       "      <td>152.000000</td>\n",
       "      <td>152.000000</td>\n",
       "      <td>152.000000</td>\n",
       "      <td>152.000000</td>\n",
       "      <td>1.520000e+02</td>\n",
       "    </tr>\n",
       "    <tr>\n",
       "      <td>mean</td>\n",
       "      <td>147.717385</td>\n",
       "      <td>148.630206</td>\n",
       "      <td>146.720564</td>\n",
       "      <td>147.752204</td>\n",
       "      <td>2.620399e+07</td>\n",
       "      <td>0.012039</td>\n",
       "      <td>1.0</td>\n",
       "      <td>141.784499</td>\n",
       "      <td>142.660648</td>\n",
       "      <td>140.826843</td>\n",
       "      <td>141.817208</td>\n",
       "      <td>2.620399e+07</td>\n",
       "    </tr>\n",
       "    <tr>\n",
       "      <td>std</td>\n",
       "      <td>8.411145</td>\n",
       "      <td>8.478524</td>\n",
       "      <td>8.128856</td>\n",
       "      <td>8.241796</td>\n",
       "      <td>1.018850e+07</td>\n",
       "      <td>0.085221</td>\n",
       "      <td>0.0</td>\n",
       "      <td>8.452804</td>\n",
       "      <td>8.518752</td>\n",
       "      <td>8.174291</td>\n",
       "      <td>8.285513</td>\n",
       "      <td>1.018850e+07</td>\n",
       "    </tr>\n",
       "    <tr>\n",
       "      <td>min</td>\n",
       "      <td>129.130000</td>\n",
       "      <td>130.500000</td>\n",
       "      <td>128.900000</td>\n",
       "      <td>130.290000</td>\n",
       "      <td>1.424635e+07</td>\n",
       "      <td>0.000000</td>\n",
       "      <td>1.0</td>\n",
       "      <td>123.043738</td>\n",
       "      <td>124.349166</td>\n",
       "      <td>122.824578</td>\n",
       "      <td>124.149063</td>\n",
       "      <td>1.424635e+07</td>\n",
       "    </tr>\n",
       "    <tr>\n",
       "      <td>25%</td>\n",
       "      <td>141.575000</td>\n",
       "      <td>142.322500</td>\n",
       "      <td>140.807500</td>\n",
       "      <td>141.587500</td>\n",
       "      <td>2.006121e+07</td>\n",
       "      <td>0.000000</td>\n",
       "      <td>1.0</td>\n",
       "      <td>135.482854</td>\n",
       "      <td>136.198188</td>\n",
       "      <td>134.748380</td>\n",
       "      <td>135.494816</td>\n",
       "      <td>2.006121e+07</td>\n",
       "    </tr>\n",
       "    <tr>\n",
       "      <td>50%</td>\n",
       "      <td>145.665000</td>\n",
       "      <td>147.005000</td>\n",
       "      <td>144.880000</td>\n",
       "      <td>145.850000</td>\n",
       "      <td>2.317749e+07</td>\n",
       "      <td>0.000000</td>\n",
       "      <td>1.0</td>\n",
       "      <td>139.933670</td>\n",
       "      <td>140.981035</td>\n",
       "      <td>139.054461</td>\n",
       "      <td>140.145065</td>\n",
       "      <td>2.317749e+07</td>\n",
       "    </tr>\n",
       "    <tr>\n",
       "      <td>75%</td>\n",
       "      <td>154.000000</td>\n",
       "      <td>154.885000</td>\n",
       "      <td>153.315000</td>\n",
       "      <td>153.960000</td>\n",
       "      <td>2.804289e+07</td>\n",
       "      <td>0.000000</td>\n",
       "      <td>1.0</td>\n",
       "      <td>147.976277</td>\n",
       "      <td>148.610461</td>\n",
       "      <td>147.313267</td>\n",
       "      <td>147.913820</td>\n",
       "      <td>2.804289e+07</td>\n",
       "    </tr>\n",
       "    <tr>\n",
       "      <td>max</td>\n",
       "      <td>164.800000</td>\n",
       "      <td>164.940000</td>\n",
       "      <td>163.630000</td>\n",
       "      <td>164.050000</td>\n",
       "      <td>7.230733e+07</td>\n",
       "      <td>0.630000</td>\n",
       "      <td>1.0</td>\n",
       "      <td>158.996140</td>\n",
       "      <td>159.131209</td>\n",
       "      <td>157.867344</td>\n",
       "      <td>158.272553</td>\n",
       "      <td>7.230733e+07</td>\n",
       "    </tr>\n",
       "  </tbody>\n",
       "</table>\n",
       "</div>"
      ],
      "text/plain": [
       "             Open        High         Low       Close        Volume  \\\n",
       "count  152.000000  152.000000  152.000000  152.000000  1.520000e+02   \n",
       "mean   147.717385  148.630206  146.720564  147.752204  2.620399e+07   \n",
       "std      8.411145    8.478524    8.128856    8.241796  1.018850e+07   \n",
       "min    129.130000  130.500000  128.900000  130.290000  1.424635e+07   \n",
       "25%    141.575000  142.322500  140.807500  141.587500  2.006121e+07   \n",
       "50%    145.665000  147.005000  144.880000  145.850000  2.317749e+07   \n",
       "75%    154.000000  154.885000  153.315000  153.960000  2.804289e+07   \n",
       "max    164.800000  164.940000  163.630000  164.050000  7.230733e+07   \n",
       "\n",
       "         Dividend  Split    Adj_Open    Adj_High     Adj_Low   Adj_Close  \\\n",
       "count  152.000000  152.0  152.000000  152.000000  152.000000  152.000000   \n",
       "mean     0.012039    1.0  141.784499  142.660648  140.826843  141.817208   \n",
       "std      0.085221    0.0    8.452804    8.518752    8.174291    8.285513   \n",
       "min      0.000000    1.0  123.043738  124.349166  122.824578  124.149063   \n",
       "25%      0.000000    1.0  135.482854  136.198188  134.748380  135.494816   \n",
       "50%      0.000000    1.0  139.933670  140.981035  139.054461  140.145065   \n",
       "75%      0.000000    1.0  147.976277  148.610461  147.313267  147.913820   \n",
       "max      0.630000    1.0  158.996140  159.131209  157.867344  158.272553   \n",
       "\n",
       "         Adj_Volume  \n",
       "count  1.520000e+02  \n",
       "mean   2.620399e+07  \n",
       "std    1.018850e+07  \n",
       "min    1.424635e+07  \n",
       "25%    2.006121e+07  \n",
       "50%    2.317749e+07  \n",
       "75%    2.804289e+07  \n",
       "max    7.230733e+07  "
      ]
     },
     "execution_count": 43,
     "metadata": {},
     "output_type": "execute_result"
    }
   ],
   "source": [
    "data.describe()"
   ]
  },
  {
   "cell_type": "code",
   "execution_count": 44,
   "metadata": {},
   "outputs": [],
   "source": [
    "#data = quandl.get(\"EIA/PET_RWTC_D\", returns=\"numpy\")"
   ]
  },
  {
   "cell_type": "code",
   "execution_count": 45,
   "metadata": {},
   "outputs": [
    {
     "data": {
      "text/plain": [
       "pandas.core.frame.DataFrame"
      ]
     },
     "execution_count": 45,
     "metadata": {},
     "output_type": "execute_result"
    }
   ],
   "source": [
    "type(data)"
   ]
  },
  {
   "cell_type": "code",
   "execution_count": 46,
   "metadata": {},
   "outputs": [],
   "source": [
    "#data = quandl.get(\"FRED/GDP\", start_date=\"2001-12-31\", end_date=\"2005-12-31\")"
   ]
  },
  {
   "cell_type": "code",
   "execution_count": 47,
   "metadata": {},
   "outputs": [
    {
     "data": {
      "text/plain": [
       "pandas.core.frame.DataFrame"
      ]
     },
     "execution_count": 47,
     "metadata": {},
     "output_type": "execute_result"
    }
   ],
   "source": [
    "type(data)"
   ]
  },
  {
   "cell_type": "code",
   "execution_count": 48,
   "metadata": {},
   "outputs": [
    {
     "data": {
      "text/html": [
       "<div>\n",
       "<style scoped>\n",
       "    .dataframe tbody tr th:only-of-type {\n",
       "        vertical-align: middle;\n",
       "    }\n",
       "\n",
       "    .dataframe tbody tr th {\n",
       "        vertical-align: top;\n",
       "    }\n",
       "\n",
       "    .dataframe thead th {\n",
       "        text-align: right;\n",
       "    }\n",
       "</style>\n",
       "<table border=\"1\" class=\"dataframe\">\n",
       "  <thead>\n",
       "    <tr style=\"text-align: right;\">\n",
       "      <th></th>\n",
       "      <th>Open</th>\n",
       "      <th>High</th>\n",
       "      <th>Low</th>\n",
       "      <th>Close</th>\n",
       "      <th>Volume</th>\n",
       "      <th>Dividend</th>\n",
       "      <th>Split</th>\n",
       "      <th>Adj_Open</th>\n",
       "      <th>Adj_High</th>\n",
       "      <th>Adj_Low</th>\n",
       "      <th>Adj_Close</th>\n",
       "      <th>Adj_Volume</th>\n",
       "    </tr>\n",
       "  </thead>\n",
       "  <tbody>\n",
       "    <tr>\n",
       "      <td>count</td>\n",
       "      <td>152.000000</td>\n",
       "      <td>152.000000</td>\n",
       "      <td>152.000000</td>\n",
       "      <td>152.000000</td>\n",
       "      <td>1.520000e+02</td>\n",
       "      <td>152.000000</td>\n",
       "      <td>152.0</td>\n",
       "      <td>152.000000</td>\n",
       "      <td>152.000000</td>\n",
       "      <td>152.000000</td>\n",
       "      <td>152.000000</td>\n",
       "      <td>1.520000e+02</td>\n",
       "    </tr>\n",
       "    <tr>\n",
       "      <td>mean</td>\n",
       "      <td>147.717385</td>\n",
       "      <td>148.630206</td>\n",
       "      <td>146.720564</td>\n",
       "      <td>147.752204</td>\n",
       "      <td>2.620399e+07</td>\n",
       "      <td>0.012039</td>\n",
       "      <td>1.0</td>\n",
       "      <td>141.784499</td>\n",
       "      <td>142.660648</td>\n",
       "      <td>140.826843</td>\n",
       "      <td>141.817208</td>\n",
       "      <td>2.620399e+07</td>\n",
       "    </tr>\n",
       "    <tr>\n",
       "      <td>std</td>\n",
       "      <td>8.411145</td>\n",
       "      <td>8.478524</td>\n",
       "      <td>8.128856</td>\n",
       "      <td>8.241796</td>\n",
       "      <td>1.018850e+07</td>\n",
       "      <td>0.085221</td>\n",
       "      <td>0.0</td>\n",
       "      <td>8.452804</td>\n",
       "      <td>8.518752</td>\n",
       "      <td>8.174291</td>\n",
       "      <td>8.285513</td>\n",
       "      <td>1.018850e+07</td>\n",
       "    </tr>\n",
       "    <tr>\n",
       "      <td>min</td>\n",
       "      <td>129.130000</td>\n",
       "      <td>130.500000</td>\n",
       "      <td>128.900000</td>\n",
       "      <td>130.290000</td>\n",
       "      <td>1.424635e+07</td>\n",
       "      <td>0.000000</td>\n",
       "      <td>1.0</td>\n",
       "      <td>123.043738</td>\n",
       "      <td>124.349166</td>\n",
       "      <td>122.824578</td>\n",
       "      <td>124.149063</td>\n",
       "      <td>1.424635e+07</td>\n",
       "    </tr>\n",
       "    <tr>\n",
       "      <td>25%</td>\n",
       "      <td>141.575000</td>\n",
       "      <td>142.322500</td>\n",
       "      <td>140.807500</td>\n",
       "      <td>141.587500</td>\n",
       "      <td>2.006121e+07</td>\n",
       "      <td>0.000000</td>\n",
       "      <td>1.0</td>\n",
       "      <td>135.482854</td>\n",
       "      <td>136.198188</td>\n",
       "      <td>134.748380</td>\n",
       "      <td>135.494816</td>\n",
       "      <td>2.006121e+07</td>\n",
       "    </tr>\n",
       "    <tr>\n",
       "      <td>50%</td>\n",
       "      <td>145.665000</td>\n",
       "      <td>147.005000</td>\n",
       "      <td>144.880000</td>\n",
       "      <td>145.850000</td>\n",
       "      <td>2.317749e+07</td>\n",
       "      <td>0.000000</td>\n",
       "      <td>1.0</td>\n",
       "      <td>139.933670</td>\n",
       "      <td>140.981035</td>\n",
       "      <td>139.054461</td>\n",
       "      <td>140.145065</td>\n",
       "      <td>2.317749e+07</td>\n",
       "    </tr>\n",
       "    <tr>\n",
       "      <td>75%</td>\n",
       "      <td>154.000000</td>\n",
       "      <td>154.885000</td>\n",
       "      <td>153.315000</td>\n",
       "      <td>153.960000</td>\n",
       "      <td>2.804289e+07</td>\n",
       "      <td>0.000000</td>\n",
       "      <td>1.0</td>\n",
       "      <td>147.976277</td>\n",
       "      <td>148.610461</td>\n",
       "      <td>147.313267</td>\n",
       "      <td>147.913820</td>\n",
       "      <td>2.804289e+07</td>\n",
       "    </tr>\n",
       "    <tr>\n",
       "      <td>max</td>\n",
       "      <td>164.800000</td>\n",
       "      <td>164.940000</td>\n",
       "      <td>163.630000</td>\n",
       "      <td>164.050000</td>\n",
       "      <td>7.230733e+07</td>\n",
       "      <td>0.630000</td>\n",
       "      <td>1.0</td>\n",
       "      <td>158.996140</td>\n",
       "      <td>159.131209</td>\n",
       "      <td>157.867344</td>\n",
       "      <td>158.272553</td>\n",
       "      <td>7.230733e+07</td>\n",
       "    </tr>\n",
       "  </tbody>\n",
       "</table>\n",
       "</div>"
      ],
      "text/plain": [
       "             Open        High         Low       Close        Volume  \\\n",
       "count  152.000000  152.000000  152.000000  152.000000  1.520000e+02   \n",
       "mean   147.717385  148.630206  146.720564  147.752204  2.620399e+07   \n",
       "std      8.411145    8.478524    8.128856    8.241796  1.018850e+07   \n",
       "min    129.130000  130.500000  128.900000  130.290000  1.424635e+07   \n",
       "25%    141.575000  142.322500  140.807500  141.587500  2.006121e+07   \n",
       "50%    145.665000  147.005000  144.880000  145.850000  2.317749e+07   \n",
       "75%    154.000000  154.885000  153.315000  153.960000  2.804289e+07   \n",
       "max    164.800000  164.940000  163.630000  164.050000  7.230733e+07   \n",
       "\n",
       "         Dividend  Split    Adj_Open    Adj_High     Adj_Low   Adj_Close  \\\n",
       "count  152.000000  152.0  152.000000  152.000000  152.000000  152.000000   \n",
       "mean     0.012039    1.0  141.784499  142.660648  140.826843  141.817208   \n",
       "std      0.085221    0.0    8.452804    8.518752    8.174291    8.285513   \n",
       "min      0.000000    1.0  123.043738  124.349166  122.824578  124.149063   \n",
       "25%      0.000000    1.0  135.482854  136.198188  134.748380  135.494816   \n",
       "50%      0.000000    1.0  139.933670  140.981035  139.054461  140.145065   \n",
       "75%      0.000000    1.0  147.976277  148.610461  147.313267  147.913820   \n",
       "max      0.630000    1.0  158.996140  159.131209  157.867344  158.272553   \n",
       "\n",
       "         Adj_Volume  \n",
       "count  1.520000e+02  \n",
       "mean   2.620399e+07  \n",
       "std    1.018850e+07  \n",
       "min    1.424635e+07  \n",
       "25%    2.006121e+07  \n",
       "50%    2.317749e+07  \n",
       "75%    2.804289e+07  \n",
       "max    7.230733e+07  "
      ]
     },
     "execution_count": 48,
     "metadata": {},
     "output_type": "execute_result"
    }
   ],
   "source": [
    "data.describe()"
   ]
  },
  {
   "cell_type": "code",
   "execution_count": 49,
   "metadata": {},
   "outputs": [
    {
     "data": {
      "text/html": [
       "<div>\n",
       "<style scoped>\n",
       "    .dataframe tbody tr th:only-of-type {\n",
       "        vertical-align: middle;\n",
       "    }\n",
       "\n",
       "    .dataframe tbody tr th {\n",
       "        vertical-align: top;\n",
       "    }\n",
       "\n",
       "    .dataframe thead th {\n",
       "        text-align: right;\n",
       "    }\n",
       "</style>\n",
       "<table border=\"1\" class=\"dataframe\">\n",
       "  <thead>\n",
       "    <tr style=\"text-align: right;\">\n",
       "      <th></th>\n",
       "      <th>Open</th>\n",
       "      <th>High</th>\n",
       "      <th>Low</th>\n",
       "      <th>Close</th>\n",
       "      <th>Volume</th>\n",
       "      <th>Dividend</th>\n",
       "      <th>Split</th>\n",
       "      <th>Adj_Open</th>\n",
       "      <th>Adj_High</th>\n",
       "      <th>Adj_Low</th>\n",
       "      <th>Adj_Close</th>\n",
       "      <th>Adj_Volume</th>\n",
       "    </tr>\n",
       "    <tr>\n",
       "      <th>Date</th>\n",
       "      <th></th>\n",
       "      <th></th>\n",
       "      <th></th>\n",
       "      <th></th>\n",
       "      <th></th>\n",
       "      <th></th>\n",
       "      <th></th>\n",
       "      <th></th>\n",
       "      <th></th>\n",
       "      <th></th>\n",
       "      <th></th>\n",
       "      <th></th>\n",
       "    </tr>\n",
       "  </thead>\n",
       "  <tbody>\n",
       "    <tr>\n",
       "      <td>2017-08-02</td>\n",
       "      <td>159.28</td>\n",
       "      <td>159.7500</td>\n",
       "      <td>156.1600</td>\n",
       "      <td>157.140000</td>\n",
       "      <td>69936800.0</td>\n",
       "      <td>0.00</td>\n",
       "      <td>1.0</td>\n",
       "      <td>153.049749</td>\n",
       "      <td>153.501365</td>\n",
       "      <td>150.051789</td>\n",
       "      <td>150.993456</td>\n",
       "      <td>69936800.0</td>\n",
       "    </tr>\n",
       "    <tr>\n",
       "      <td>2017-08-03</td>\n",
       "      <td>157.05</td>\n",
       "      <td>157.2100</td>\n",
       "      <td>155.0200</td>\n",
       "      <td>155.570000</td>\n",
       "      <td>27097296.0</td>\n",
       "      <td>0.00</td>\n",
       "      <td>1.0</td>\n",
       "      <td>150.906976</td>\n",
       "      <td>151.060718</td>\n",
       "      <td>148.956380</td>\n",
       "      <td>149.484866</td>\n",
       "      <td>27097296.0</td>\n",
       "    </tr>\n",
       "    <tr>\n",
       "      <td>2017-08-04</td>\n",
       "      <td>156.07</td>\n",
       "      <td>157.4000</td>\n",
       "      <td>155.6900</td>\n",
       "      <td>156.390000</td>\n",
       "      <td>20559852.0</td>\n",
       "      <td>0.00</td>\n",
       "      <td>1.0</td>\n",
       "      <td>149.965309</td>\n",
       "      <td>151.243286</td>\n",
       "      <td>149.600173</td>\n",
       "      <td>150.272792</td>\n",
       "      <td>20559852.0</td>\n",
       "    </tr>\n",
       "    <tr>\n",
       "      <td>2017-08-07</td>\n",
       "      <td>157.06</td>\n",
       "      <td>158.9200</td>\n",
       "      <td>156.6701</td>\n",
       "      <td>158.810000</td>\n",
       "      <td>21870321.0</td>\n",
       "      <td>0.00</td>\n",
       "      <td>1.0</td>\n",
       "      <td>150.916585</td>\n",
       "      <td>152.703831</td>\n",
       "      <td>150.541936</td>\n",
       "      <td>152.598134</td>\n",
       "      <td>21870321.0</td>\n",
       "    </tr>\n",
       "    <tr>\n",
       "      <td>2017-08-08</td>\n",
       "      <td>158.60</td>\n",
       "      <td>161.8300</td>\n",
       "      <td>158.2700</td>\n",
       "      <td>160.080000</td>\n",
       "      <td>36205896.0</td>\n",
       "      <td>0.00</td>\n",
       "      <td>1.0</td>\n",
       "      <td>152.396348</td>\n",
       "      <td>155.500006</td>\n",
       "      <td>152.079256</td>\n",
       "      <td>153.818457</td>\n",
       "      <td>36205896.0</td>\n",
       "    </tr>\n",
       "    <tr>\n",
       "      <td>2017-08-09</td>\n",
       "      <td>159.26</td>\n",
       "      <td>161.2700</td>\n",
       "      <td>159.1100</td>\n",
       "      <td>161.059998</td>\n",
       "      <td>26131530.0</td>\n",
       "      <td>0.00</td>\n",
       "      <td>1.0</td>\n",
       "      <td>153.030532</td>\n",
       "      <td>154.961910</td>\n",
       "      <td>152.886399</td>\n",
       "      <td>154.760123</td>\n",
       "      <td>26131530.0</td>\n",
       "    </tr>\n",
       "    <tr>\n",
       "      <td>2017-08-10</td>\n",
       "      <td>159.90</td>\n",
       "      <td>160.0000</td>\n",
       "      <td>154.6300</td>\n",
       "      <td>155.320000</td>\n",
       "      <td>40804273.0</td>\n",
       "      <td>0.63</td>\n",
       "      <td>1.0</td>\n",
       "      <td>154.268706</td>\n",
       "      <td>154.365184</td>\n",
       "      <td>149.184303</td>\n",
       "      <td>149.850003</td>\n",
       "      <td>40804273.0</td>\n",
       "    </tr>\n",
       "    <tr>\n",
       "      <td>2017-08-11</td>\n",
       "      <td>156.60</td>\n",
       "      <td>158.5728</td>\n",
       "      <td>156.0700</td>\n",
       "      <td>157.480000</td>\n",
       "      <td>26257096.0</td>\n",
       "      <td>0.00</td>\n",
       "      <td>1.0</td>\n",
       "      <td>151.084924</td>\n",
       "      <td>152.988247</td>\n",
       "      <td>150.573589</td>\n",
       "      <td>151.933933</td>\n",
       "      <td>26257096.0</td>\n",
       "    </tr>\n",
       "    <tr>\n",
       "      <td>2017-08-14</td>\n",
       "      <td>159.32</td>\n",
       "      <td>160.2100</td>\n",
       "      <td>158.7500</td>\n",
       "      <td>159.850000</td>\n",
       "      <td>22122734.0</td>\n",
       "      <td>0.00</td>\n",
       "      <td>1.0</td>\n",
       "      <td>153.709132</td>\n",
       "      <td>154.567789</td>\n",
       "      <td>153.159206</td>\n",
       "      <td>154.220467</td>\n",
       "      <td>22122734.0</td>\n",
       "    </tr>\n",
       "    <tr>\n",
       "      <td>2017-08-15</td>\n",
       "      <td>160.66</td>\n",
       "      <td>162.1950</td>\n",
       "      <td>160.1400</td>\n",
       "      <td>161.600000</td>\n",
       "      <td>29465487.0</td>\n",
       "      <td>0.00</td>\n",
       "      <td>1.0</td>\n",
       "      <td>155.001941</td>\n",
       "      <td>156.482882</td>\n",
       "      <td>154.500254</td>\n",
       "      <td>155.908836</td>\n",
       "      <td>29465487.0</td>\n",
       "    </tr>\n",
       "    <tr>\n",
       "      <td>2017-08-16</td>\n",
       "      <td>161.94</td>\n",
       "      <td>162.5100</td>\n",
       "      <td>160.1500</td>\n",
       "      <td>160.950000</td>\n",
       "      <td>27671612.0</td>\n",
       "      <td>0.00</td>\n",
       "      <td>1.0</td>\n",
       "      <td>156.236862</td>\n",
       "      <td>156.786788</td>\n",
       "      <td>154.509902</td>\n",
       "      <td>155.281728</td>\n",
       "      <td>27671612.0</td>\n",
       "    </tr>\n",
       "    <tr>\n",
       "      <td>2017-08-17</td>\n",
       "      <td>160.52</td>\n",
       "      <td>160.7100</td>\n",
       "      <td>157.8400</td>\n",
       "      <td>157.860000</td>\n",
       "      <td>27940565.0</td>\n",
       "      <td>0.00</td>\n",
       "      <td>1.0</td>\n",
       "      <td>154.866871</td>\n",
       "      <td>155.050180</td>\n",
       "      <td>152.281254</td>\n",
       "      <td>152.300550</td>\n",
       "      <td>27940565.0</td>\n",
       "    </tr>\n",
       "    <tr>\n",
       "      <td>2017-08-18</td>\n",
       "      <td>157.86</td>\n",
       "      <td>159.5000</td>\n",
       "      <td>156.7200</td>\n",
       "      <td>157.500000</td>\n",
       "      <td>27428069.0</td>\n",
       "      <td>0.00</td>\n",
       "      <td>1.0</td>\n",
       "      <td>152.300550</td>\n",
       "      <td>153.882793</td>\n",
       "      <td>151.200698</td>\n",
       "      <td>151.953228</td>\n",
       "      <td>27428069.0</td>\n",
       "    </tr>\n",
       "    <tr>\n",
       "      <td>2017-08-21</td>\n",
       "      <td>157.50</td>\n",
       "      <td>157.8900</td>\n",
       "      <td>155.1101</td>\n",
       "      <td>157.210000</td>\n",
       "      <td>26368528.0</td>\n",
       "      <td>0.00</td>\n",
       "      <td>1.0</td>\n",
       "      <td>151.953228</td>\n",
       "      <td>152.329493</td>\n",
       "      <td>149.647495</td>\n",
       "      <td>151.673441</td>\n",
       "      <td>26368528.0</td>\n",
       "    </tr>\n",
       "    <tr>\n",
       "      <td>2017-08-22</td>\n",
       "      <td>158.23</td>\n",
       "      <td>160.0000</td>\n",
       "      <td>158.0200</td>\n",
       "      <td>159.780000</td>\n",
       "      <td>21604585.0</td>\n",
       "      <td>0.00</td>\n",
       "      <td>1.0</td>\n",
       "      <td>152.657519</td>\n",
       "      <td>154.365184</td>\n",
       "      <td>152.454915</td>\n",
       "      <td>154.152932</td>\n",
       "      <td>21604585.0</td>\n",
       "    </tr>\n",
       "    <tr>\n",
       "      <td>2017-08-23</td>\n",
       "      <td>159.07</td>\n",
       "      <td>160.4700</td>\n",
       "      <td>158.8800</td>\n",
       "      <td>159.980000</td>\n",
       "      <td>19399081.0</td>\n",
       "      <td>0.00</td>\n",
       "      <td>1.0</td>\n",
       "      <td>153.467937</td>\n",
       "      <td>154.818632</td>\n",
       "      <td>153.284628</td>\n",
       "      <td>154.345889</td>\n",
       "      <td>19399081.0</td>\n",
       "    </tr>\n",
       "    <tr>\n",
       "      <td>2017-08-24</td>\n",
       "      <td>160.43</td>\n",
       "      <td>160.7400</td>\n",
       "      <td>158.5500</td>\n",
       "      <td>159.270000</td>\n",
       "      <td>19818918.0</td>\n",
       "      <td>0.00</td>\n",
       "      <td>1.0</td>\n",
       "      <td>154.780041</td>\n",
       "      <td>155.079123</td>\n",
       "      <td>152.966250</td>\n",
       "      <td>153.660893</td>\n",
       "      <td>19818918.0</td>\n",
       "    </tr>\n",
       "    <tr>\n",
       "      <td>2017-08-25</td>\n",
       "      <td>159.65</td>\n",
       "      <td>160.5600</td>\n",
       "      <td>159.2700</td>\n",
       "      <td>159.860000</td>\n",
       "      <td>25480063.0</td>\n",
       "      <td>0.00</td>\n",
       "      <td>1.0</td>\n",
       "      <td>154.027510</td>\n",
       "      <td>154.905462</td>\n",
       "      <td>153.660893</td>\n",
       "      <td>154.230115</td>\n",
       "      <td>25480063.0</td>\n",
       "    </tr>\n",
       "    <tr>\n",
       "      <td>2017-08-28</td>\n",
       "      <td>160.14</td>\n",
       "      <td>162.0000</td>\n",
       "      <td>159.9300</td>\n",
       "      <td>161.470000</td>\n",
       "      <td>25965972.0</td>\n",
       "      <td>0.00</td>\n",
       "      <td>1.0</td>\n",
       "      <td>154.500254</td>\n",
       "      <td>156.294749</td>\n",
       "      <td>154.297650</td>\n",
       "      <td>155.783414</td>\n",
       "      <td>25965972.0</td>\n",
       "    </tr>\n",
       "    <tr>\n",
       "      <td>2017-08-29</td>\n",
       "      <td>160.10</td>\n",
       "      <td>163.1200</td>\n",
       "      <td>160.0000</td>\n",
       "      <td>162.910000</td>\n",
       "      <td>29516910.0</td>\n",
       "      <td>0.00</td>\n",
       "      <td>1.0</td>\n",
       "      <td>154.461663</td>\n",
       "      <td>157.375305</td>\n",
       "      <td>154.365184</td>\n",
       "      <td>157.172701</td>\n",
       "      <td>29516910.0</td>\n",
       "    </tr>\n",
       "    <tr>\n",
       "      <td>2017-08-30</td>\n",
       "      <td>163.80</td>\n",
       "      <td>163.8900</td>\n",
       "      <td>162.6100</td>\n",
       "      <td>163.350000</td>\n",
       "      <td>27269584.0</td>\n",
       "      <td>0.00</td>\n",
       "      <td>1.0</td>\n",
       "      <td>158.031357</td>\n",
       "      <td>158.118188</td>\n",
       "      <td>156.883266</td>\n",
       "      <td>157.597205</td>\n",
       "      <td>27269584.0</td>\n",
       "    </tr>\n",
       "    <tr>\n",
       "      <td>2017-08-31</td>\n",
       "      <td>163.64</td>\n",
       "      <td>164.5200</td>\n",
       "      <td>163.4800</td>\n",
       "      <td>164.000000</td>\n",
       "      <td>26785096.0</td>\n",
       "      <td>0.00</td>\n",
       "      <td>1.0</td>\n",
       "      <td>157.876992</td>\n",
       "      <td>158.726001</td>\n",
       "      <td>157.722627</td>\n",
       "      <td>158.224314</td>\n",
       "      <td>26785096.0</td>\n",
       "    </tr>\n",
       "    <tr>\n",
       "      <td>2017-09-01</td>\n",
       "      <td>164.80</td>\n",
       "      <td>164.9400</td>\n",
       "      <td>163.6300</td>\n",
       "      <td>164.050000</td>\n",
       "      <td>16591051.0</td>\n",
       "      <td>0.00</td>\n",
       "      <td>1.0</td>\n",
       "      <td>158.996140</td>\n",
       "      <td>159.131209</td>\n",
       "      <td>157.867344</td>\n",
       "      <td>158.272553</td>\n",
       "      <td>16591051.0</td>\n",
       "    </tr>\n",
       "    <tr>\n",
       "      <td>2017-09-05</td>\n",
       "      <td>163.75</td>\n",
       "      <td>164.2500</td>\n",
       "      <td>160.5600</td>\n",
       "      <td>162.080000</td>\n",
       "      <td>29536314.0</td>\n",
       "      <td>0.00</td>\n",
       "      <td>1.0</td>\n",
       "      <td>157.983118</td>\n",
       "      <td>158.465510</td>\n",
       "      <td>154.905462</td>\n",
       "      <td>156.371932</td>\n",
       "      <td>29536314.0</td>\n",
       "    </tr>\n",
       "    <tr>\n",
       "      <td>2017-09-06</td>\n",
       "      <td>162.71</td>\n",
       "      <td>162.9900</td>\n",
       "      <td>160.5200</td>\n",
       "      <td>161.910000</td>\n",
       "      <td>21651726.0</td>\n",
       "      <td>0.00</td>\n",
       "      <td>1.0</td>\n",
       "      <td>156.979745</td>\n",
       "      <td>157.249884</td>\n",
       "      <td>154.866871</td>\n",
       "      <td>156.207919</td>\n",
       "      <td>21651726.0</td>\n",
       "    </tr>\n",
       "    <tr>\n",
       "      <td>2017-09-07</td>\n",
       "      <td>162.09</td>\n",
       "      <td>162.2400</td>\n",
       "      <td>160.3600</td>\n",
       "      <td>161.260000</td>\n",
       "      <td>21928502.0</td>\n",
       "      <td>0.00</td>\n",
       "      <td>1.0</td>\n",
       "      <td>156.381580</td>\n",
       "      <td>156.526297</td>\n",
       "      <td>154.712506</td>\n",
       "      <td>155.580810</td>\n",
       "      <td>21928502.0</td>\n",
       "    </tr>\n",
       "    <tr>\n",
       "      <td>2017-09-08</td>\n",
       "      <td>160.86</td>\n",
       "      <td>161.1500</td>\n",
       "      <td>158.5300</td>\n",
       "      <td>158.630000</td>\n",
       "      <td>28611535.0</td>\n",
       "      <td>0.00</td>\n",
       "      <td>1.0</td>\n",
       "      <td>155.194897</td>\n",
       "      <td>155.474684</td>\n",
       "      <td>152.946954</td>\n",
       "      <td>153.043432</td>\n",
       "      <td>28611535.0</td>\n",
       "    </tr>\n",
       "    <tr>\n",
       "      <td>2017-09-11</td>\n",
       "      <td>160.50</td>\n",
       "      <td>162.0500</td>\n",
       "      <td>159.8900</td>\n",
       "      <td>161.500000</td>\n",
       "      <td>31580798.0</td>\n",
       "      <td>0.00</td>\n",
       "      <td>1.0</td>\n",
       "      <td>154.847576</td>\n",
       "      <td>156.342988</td>\n",
       "      <td>154.259058</td>\n",
       "      <td>155.812358</td>\n",
       "      <td>31580798.0</td>\n",
       "    </tr>\n",
       "    <tr>\n",
       "      <td>2017-09-12</td>\n",
       "      <td>162.61</td>\n",
       "      <td>163.9600</td>\n",
       "      <td>158.7700</td>\n",
       "      <td>160.860000</td>\n",
       "      <td>71714046.0</td>\n",
       "      <td>0.00</td>\n",
       "      <td>1.0</td>\n",
       "      <td>156.883266</td>\n",
       "      <td>158.185723</td>\n",
       "      <td>153.178502</td>\n",
       "      <td>155.194897</td>\n",
       "      <td>71714046.0</td>\n",
       "    </tr>\n",
       "  </tbody>\n",
       "</table>\n",
       "</div>"
      ],
      "text/plain": [
       "              Open      High       Low       Close      Volume  Dividend  \\\n",
       "Date                                                                       \n",
       "2017-08-02  159.28  159.7500  156.1600  157.140000  69936800.0      0.00   \n",
       "2017-08-03  157.05  157.2100  155.0200  155.570000  27097296.0      0.00   \n",
       "2017-08-04  156.07  157.4000  155.6900  156.390000  20559852.0      0.00   \n",
       "2017-08-07  157.06  158.9200  156.6701  158.810000  21870321.0      0.00   \n",
       "2017-08-08  158.60  161.8300  158.2700  160.080000  36205896.0      0.00   \n",
       "2017-08-09  159.26  161.2700  159.1100  161.059998  26131530.0      0.00   \n",
       "2017-08-10  159.90  160.0000  154.6300  155.320000  40804273.0      0.63   \n",
       "2017-08-11  156.60  158.5728  156.0700  157.480000  26257096.0      0.00   \n",
       "2017-08-14  159.32  160.2100  158.7500  159.850000  22122734.0      0.00   \n",
       "2017-08-15  160.66  162.1950  160.1400  161.600000  29465487.0      0.00   \n",
       "2017-08-16  161.94  162.5100  160.1500  160.950000  27671612.0      0.00   \n",
       "2017-08-17  160.52  160.7100  157.8400  157.860000  27940565.0      0.00   \n",
       "2017-08-18  157.86  159.5000  156.7200  157.500000  27428069.0      0.00   \n",
       "2017-08-21  157.50  157.8900  155.1101  157.210000  26368528.0      0.00   \n",
       "2017-08-22  158.23  160.0000  158.0200  159.780000  21604585.0      0.00   \n",
       "2017-08-23  159.07  160.4700  158.8800  159.980000  19399081.0      0.00   \n",
       "2017-08-24  160.43  160.7400  158.5500  159.270000  19818918.0      0.00   \n",
       "2017-08-25  159.65  160.5600  159.2700  159.860000  25480063.0      0.00   \n",
       "2017-08-28  160.14  162.0000  159.9300  161.470000  25965972.0      0.00   \n",
       "2017-08-29  160.10  163.1200  160.0000  162.910000  29516910.0      0.00   \n",
       "2017-08-30  163.80  163.8900  162.6100  163.350000  27269584.0      0.00   \n",
       "2017-08-31  163.64  164.5200  163.4800  164.000000  26785096.0      0.00   \n",
       "2017-09-01  164.80  164.9400  163.6300  164.050000  16591051.0      0.00   \n",
       "2017-09-05  163.75  164.2500  160.5600  162.080000  29536314.0      0.00   \n",
       "2017-09-06  162.71  162.9900  160.5200  161.910000  21651726.0      0.00   \n",
       "2017-09-07  162.09  162.2400  160.3600  161.260000  21928502.0      0.00   \n",
       "2017-09-08  160.86  161.1500  158.5300  158.630000  28611535.0      0.00   \n",
       "2017-09-11  160.50  162.0500  159.8900  161.500000  31580798.0      0.00   \n",
       "2017-09-12  162.61  163.9600  158.7700  160.860000  71714046.0      0.00   \n",
       "\n",
       "            Split    Adj_Open    Adj_High     Adj_Low   Adj_Close  Adj_Volume  \n",
       "Date                                                                           \n",
       "2017-08-02    1.0  153.049749  153.501365  150.051789  150.993456  69936800.0  \n",
       "2017-08-03    1.0  150.906976  151.060718  148.956380  149.484866  27097296.0  \n",
       "2017-08-04    1.0  149.965309  151.243286  149.600173  150.272792  20559852.0  \n",
       "2017-08-07    1.0  150.916585  152.703831  150.541936  152.598134  21870321.0  \n",
       "2017-08-08    1.0  152.396348  155.500006  152.079256  153.818457  36205896.0  \n",
       "2017-08-09    1.0  153.030532  154.961910  152.886399  154.760123  26131530.0  \n",
       "2017-08-10    1.0  154.268706  154.365184  149.184303  149.850003  40804273.0  \n",
       "2017-08-11    1.0  151.084924  152.988247  150.573589  151.933933  26257096.0  \n",
       "2017-08-14    1.0  153.709132  154.567789  153.159206  154.220467  22122734.0  \n",
       "2017-08-15    1.0  155.001941  156.482882  154.500254  155.908836  29465487.0  \n",
       "2017-08-16    1.0  156.236862  156.786788  154.509902  155.281728  27671612.0  \n",
       "2017-08-17    1.0  154.866871  155.050180  152.281254  152.300550  27940565.0  \n",
       "2017-08-18    1.0  152.300550  153.882793  151.200698  151.953228  27428069.0  \n",
       "2017-08-21    1.0  151.953228  152.329493  149.647495  151.673441  26368528.0  \n",
       "2017-08-22    1.0  152.657519  154.365184  152.454915  154.152932  21604585.0  \n",
       "2017-08-23    1.0  153.467937  154.818632  153.284628  154.345889  19399081.0  \n",
       "2017-08-24    1.0  154.780041  155.079123  152.966250  153.660893  19818918.0  \n",
       "2017-08-25    1.0  154.027510  154.905462  153.660893  154.230115  25480063.0  \n",
       "2017-08-28    1.0  154.500254  156.294749  154.297650  155.783414  25965972.0  \n",
       "2017-08-29    1.0  154.461663  157.375305  154.365184  157.172701  29516910.0  \n",
       "2017-08-30    1.0  158.031357  158.118188  156.883266  157.597205  27269584.0  \n",
       "2017-08-31    1.0  157.876992  158.726001  157.722627  158.224314  26785096.0  \n",
       "2017-09-01    1.0  158.996140  159.131209  157.867344  158.272553  16591051.0  \n",
       "2017-09-05    1.0  157.983118  158.465510  154.905462  156.371932  29536314.0  \n",
       "2017-09-06    1.0  156.979745  157.249884  154.866871  156.207919  21651726.0  \n",
       "2017-09-07    1.0  156.381580  156.526297  154.712506  155.580810  21928502.0  \n",
       "2017-09-08    1.0  155.194897  155.474684  152.946954  153.043432  28611535.0  \n",
       "2017-09-11    1.0  154.847576  156.342988  154.259058  155.812358  31580798.0  \n",
       "2017-09-12    1.0  156.883266  158.185723  153.178502  155.194897  71714046.0  "
      ]
     },
     "execution_count": 49,
     "metadata": {},
     "output_type": "execute_result"
    }
   ],
   "source": [
    "data[data.index > '2017-08-01']"
   ]
  },
  {
   "cell_type": "code",
   "execution_count": 50,
   "metadata": {},
   "outputs": [
    {
     "data": {
      "text/html": [
       "<div>\n",
       "<style scoped>\n",
       "    .dataframe tbody tr th:only-of-type {\n",
       "        vertical-align: middle;\n",
       "    }\n",
       "\n",
       "    .dataframe tbody tr th {\n",
       "        vertical-align: top;\n",
       "    }\n",
       "\n",
       "    .dataframe thead th {\n",
       "        text-align: right;\n",
       "    }\n",
       "</style>\n",
       "<table border=\"1\" class=\"dataframe\">\n",
       "  <thead>\n",
       "    <tr style=\"text-align: right;\">\n",
       "      <th></th>\n",
       "      <th>Open</th>\n",
       "      <th>High</th>\n",
       "      <th>Low</th>\n",
       "      <th>Close</th>\n",
       "      <th>Volume</th>\n",
       "      <th>Dividend</th>\n",
       "      <th>Split</th>\n",
       "      <th>Adj_Open</th>\n",
       "      <th>Adj_High</th>\n",
       "      <th>Adj_Low</th>\n",
       "      <th>Adj_Close</th>\n",
       "      <th>Adj_Volume</th>\n",
       "      <th>Date</th>\n",
       "    </tr>\n",
       "    <tr>\n",
       "      <th>Date</th>\n",
       "      <th></th>\n",
       "      <th></th>\n",
       "      <th></th>\n",
       "      <th></th>\n",
       "      <th></th>\n",
       "      <th></th>\n",
       "      <th></th>\n",
       "      <th></th>\n",
       "      <th></th>\n",
       "      <th></th>\n",
       "      <th></th>\n",
       "      <th></th>\n",
       "      <th></th>\n",
       "    </tr>\n",
       "  </thead>\n",
       "  <tbody>\n",
       "    <tr>\n",
       "      <td>2017-02-06</td>\n",
       "      <td>129.13</td>\n",
       "      <td>130.500</td>\n",
       "      <td>128.90</td>\n",
       "      <td>130.29</td>\n",
       "      <td>26845924.0</td>\n",
       "      <td>0.00</td>\n",
       "      <td>1.0</td>\n",
       "      <td>123.043738</td>\n",
       "      <td>124.349166</td>\n",
       "      <td>122.824578</td>\n",
       "      <td>124.149063</td>\n",
       "      <td>26845924.0</td>\n",
       "      <td>2017-02-06</td>\n",
       "    </tr>\n",
       "    <tr>\n",
       "      <td>2017-02-07</td>\n",
       "      <td>130.54</td>\n",
       "      <td>132.090</td>\n",
       "      <td>130.45</td>\n",
       "      <td>131.53</td>\n",
       "      <td>38183841.0</td>\n",
       "      <td>0.00</td>\n",
       "      <td>1.0</td>\n",
       "      <td>124.387280</td>\n",
       "      <td>125.864224</td>\n",
       "      <td>124.301522</td>\n",
       "      <td>125.330619</td>\n",
       "      <td>38183841.0</td>\n",
       "      <td>2017-02-07</td>\n",
       "    </tr>\n",
       "    <tr>\n",
       "      <td>2017-02-08</td>\n",
       "      <td>131.35</td>\n",
       "      <td>132.220</td>\n",
       "      <td>131.22</td>\n",
       "      <td>132.04</td>\n",
       "      <td>23004072.0</td>\n",
       "      <td>0.00</td>\n",
       "      <td>1.0</td>\n",
       "      <td>125.159103</td>\n",
       "      <td>125.988097</td>\n",
       "      <td>125.035230</td>\n",
       "      <td>125.816581</td>\n",
       "      <td>23004072.0</td>\n",
       "      <td>2017-02-08</td>\n",
       "    </tr>\n",
       "    <tr>\n",
       "      <td>2017-02-09</td>\n",
       "      <td>131.65</td>\n",
       "      <td>132.445</td>\n",
       "      <td>131.12</td>\n",
       "      <td>132.42</td>\n",
       "      <td>28349859.0</td>\n",
       "      <td>0.57</td>\n",
       "      <td>1.0</td>\n",
       "      <td>125.984939</td>\n",
       "      <td>126.745729</td>\n",
       "      <td>125.477745</td>\n",
       "      <td>126.721805</td>\n",
       "      <td>28349859.0</td>\n",
       "      <td>2017-02-09</td>\n",
       "    </tr>\n",
       "    <tr>\n",
       "      <td>2017-02-10</td>\n",
       "      <td>132.46</td>\n",
       "      <td>132.940</td>\n",
       "      <td>132.05</td>\n",
       "      <td>132.12</td>\n",
       "      <td>20065458.0</td>\n",
       "      <td>0.00</td>\n",
       "      <td>1.0</td>\n",
       "      <td>126.760084</td>\n",
       "      <td>127.219429</td>\n",
       "      <td>126.367726</td>\n",
       "      <td>126.434714</td>\n",
       "      <td>20065458.0</td>\n",
       "      <td>2017-02-10</td>\n",
       "    </tr>\n",
       "  </tbody>\n",
       "</table>\n",
       "</div>"
      ],
      "text/plain": [
       "              Open     High     Low   Close      Volume  Dividend  Split  \\\n",
       "Date                                                                       \n",
       "2017-02-06  129.13  130.500  128.90  130.29  26845924.0      0.00    1.0   \n",
       "2017-02-07  130.54  132.090  130.45  131.53  38183841.0      0.00    1.0   \n",
       "2017-02-08  131.35  132.220  131.22  132.04  23004072.0      0.00    1.0   \n",
       "2017-02-09  131.65  132.445  131.12  132.42  28349859.0      0.57    1.0   \n",
       "2017-02-10  132.46  132.940  132.05  132.12  20065458.0      0.00    1.0   \n",
       "\n",
       "              Adj_Open    Adj_High     Adj_Low   Adj_Close  Adj_Volume  \\\n",
       "Date                                                                     \n",
       "2017-02-06  123.043738  124.349166  122.824578  124.149063  26845924.0   \n",
       "2017-02-07  124.387280  125.864224  124.301522  125.330619  38183841.0   \n",
       "2017-02-08  125.159103  125.988097  125.035230  125.816581  23004072.0   \n",
       "2017-02-09  125.984939  126.745729  125.477745  126.721805  28349859.0   \n",
       "2017-02-10  126.760084  127.219429  126.367726  126.434714  20065458.0   \n",
       "\n",
       "                 Date  \n",
       "Date                   \n",
       "2017-02-06 2017-02-06  \n",
       "2017-02-07 2017-02-07  \n",
       "2017-02-08 2017-02-08  \n",
       "2017-02-09 2017-02-09  \n",
       "2017-02-10 2017-02-10  "
      ]
     },
     "execution_count": 50,
     "metadata": {},
     "output_type": "execute_result"
    }
   ],
   "source": [
    "data['Date'] = data.index\n",
    "data.head()"
   ]
  },
  {
   "cell_type": "code",
   "execution_count": 52,
   "metadata": {},
   "outputs": [
    {
     "data": {
      "application/vnd.plotly.v1+json": {
       "config": {
        "plotlyServerURL": "https://plot.ly"
       },
       "data": [
        {
         "hovertemplate": "Date=%{x}<br>Adj_Close=%{y}<extra></extra>",
         "legendgroup": "",
         "line": {
          "color": "#636efa",
          "dash": "solid"
         },
         "mode": "lines",
         "name": "",
         "showlegend": false,
         "type": "scatter",
         "x": [
          "2017-02-06T00:00:00",
          "2017-02-07T00:00:00",
          "2017-02-08T00:00:00",
          "2017-02-09T00:00:00",
          "2017-02-10T00:00:00",
          "2017-02-13T00:00:00",
          "2017-02-14T00:00:00",
          "2017-02-15T00:00:00",
          "2017-02-16T00:00:00",
          "2017-02-17T00:00:00",
          "2017-02-21T00:00:00",
          "2017-02-22T00:00:00",
          "2017-02-23T00:00:00",
          "2017-02-24T00:00:00",
          "2017-02-27T00:00:00",
          "2017-02-28T00:00:00",
          "2017-03-01T00:00:00",
          "2017-03-02T00:00:00",
          "2017-03-03T00:00:00",
          "2017-03-06T00:00:00",
          "2017-03-07T00:00:00",
          "2017-03-08T00:00:00",
          "2017-03-09T00:00:00",
          "2017-03-10T00:00:00",
          "2017-03-13T00:00:00",
          "2017-03-14T00:00:00",
          "2017-03-15T00:00:00",
          "2017-03-16T00:00:00",
          "2017-03-17T00:00:00",
          "2017-03-20T00:00:00",
          "2017-03-21T00:00:00",
          "2017-03-22T00:00:00",
          "2017-03-23T00:00:00",
          "2017-03-24T00:00:00",
          "2017-03-27T00:00:00",
          "2017-03-28T00:00:00",
          "2017-03-29T00:00:00",
          "2017-03-30T00:00:00",
          "2017-03-31T00:00:00",
          "2017-04-03T00:00:00",
          "2017-04-04T00:00:00",
          "2017-04-05T00:00:00",
          "2017-04-06T00:00:00",
          "2017-04-07T00:00:00",
          "2017-04-10T00:00:00",
          "2017-04-11T00:00:00",
          "2017-04-12T00:00:00",
          "2017-04-13T00:00:00",
          "2017-04-17T00:00:00",
          "2017-04-18T00:00:00",
          "2017-04-19T00:00:00",
          "2017-04-20T00:00:00",
          "2017-04-21T00:00:00",
          "2017-04-24T00:00:00",
          "2017-04-25T00:00:00",
          "2017-04-26T00:00:00",
          "2017-04-27T00:00:00",
          "2017-04-28T00:00:00",
          "2017-05-01T00:00:00",
          "2017-05-02T00:00:00",
          "2017-05-03T00:00:00",
          "2017-05-04T00:00:00",
          "2017-05-05T00:00:00",
          "2017-05-08T00:00:00",
          "2017-05-09T00:00:00",
          "2017-05-10T00:00:00",
          "2017-05-11T00:00:00",
          "2017-05-12T00:00:00",
          "2017-05-15T00:00:00",
          "2017-05-16T00:00:00",
          "2017-05-17T00:00:00",
          "2017-05-18T00:00:00",
          "2017-05-19T00:00:00",
          "2017-05-22T00:00:00",
          "2017-05-23T00:00:00",
          "2017-05-24T00:00:00",
          "2017-05-25T00:00:00",
          "2017-05-26T00:00:00",
          "2017-05-30T00:00:00",
          "2017-05-31T00:00:00",
          "2017-06-01T00:00:00",
          "2017-06-02T00:00:00",
          "2017-06-05T00:00:00",
          "2017-06-06T00:00:00",
          "2017-06-07T00:00:00",
          "2017-06-08T00:00:00",
          "2017-06-09T00:00:00",
          "2017-06-12T00:00:00",
          "2017-06-13T00:00:00",
          "2017-06-14T00:00:00",
          "2017-06-15T00:00:00",
          "2017-06-16T00:00:00",
          "2017-06-19T00:00:00",
          "2017-06-20T00:00:00",
          "2017-06-21T00:00:00",
          "2017-06-22T00:00:00",
          "2017-06-23T00:00:00",
          "2017-06-26T00:00:00",
          "2017-06-27T00:00:00",
          "2017-06-28T00:00:00",
          "2017-06-29T00:00:00",
          "2017-06-30T00:00:00",
          "2017-07-03T00:00:00",
          "2017-07-05T00:00:00",
          "2017-07-06T00:00:00",
          "2017-07-07T00:00:00",
          "2017-07-10T00:00:00",
          "2017-07-11T00:00:00",
          "2017-07-12T00:00:00",
          "2017-07-13T00:00:00",
          "2017-07-14T00:00:00",
          "2017-07-17T00:00:00",
          "2017-07-18T00:00:00",
          "2017-07-19T00:00:00",
          "2017-07-20T00:00:00",
          "2017-07-21T00:00:00",
          "2017-07-24T00:00:00",
          "2017-07-25T00:00:00",
          "2017-07-26T00:00:00",
          "2017-07-27T00:00:00",
          "2017-07-28T00:00:00",
          "2017-07-31T00:00:00",
          "2017-08-01T00:00:00",
          "2017-08-02T00:00:00",
          "2017-08-03T00:00:00",
          "2017-08-04T00:00:00",
          "2017-08-07T00:00:00",
          "2017-08-08T00:00:00",
          "2017-08-09T00:00:00",
          "2017-08-10T00:00:00",
          "2017-08-11T00:00:00",
          "2017-08-14T00:00:00",
          "2017-08-15T00:00:00",
          "2017-08-16T00:00:00",
          "2017-08-17T00:00:00",
          "2017-08-18T00:00:00",
          "2017-08-21T00:00:00",
          "2017-08-22T00:00:00",
          "2017-08-23T00:00:00",
          "2017-08-24T00:00:00",
          "2017-08-25T00:00:00",
          "2017-08-28T00:00:00",
          "2017-08-29T00:00:00",
          "2017-08-30T00:00:00",
          "2017-08-31T00:00:00",
          "2017-09-01T00:00:00",
          "2017-09-05T00:00:00",
          "2017-09-06T00:00:00",
          "2017-09-07T00:00:00",
          "2017-09-08T00:00:00",
          "2017-09-11T00:00:00",
          "2017-09-12T00:00:00"
         ],
         "xaxis": "x",
         "y": [
          124.14906349512,
          125.33061878512,
          125.81658104149,
          126.72180485237,
          126.43471422063,
          127.55436768444,
          129.20992366083,
          129.67883835935,
          129.52093851189,
          129.87980180157,
          130.81763119861,
          131.20998839533,
          130.65494650728,
          130.77935244771,
          131.03773401628,
          131.09515214263,
          133.77466470558,
          132.98038062442,
          133.76509501786,
          133.34402875797,
          133.51628313701,
          133.01865937532,
          132.71242936813,
          133.15263500347,
          133.21005312982,
          133.0090896876,
          134.41583378315,
          134.63593660082,
          133.96605846008,
          135.37280255563,
          133.82251314421,
          135.33452380473,
          134.85603941849,
          134.5880881622,
          134.81776066759,
          137.61210948325,
          137.91833949044,
          137.73651542367,
          137.4781338551,
          137.516412606,
          138.54036919256,
          137.82264261319,
          137.4781338551,
          137.1719038479,
          137.00921915658,
          135.53548724695,
          135.69817193828,
          134.98044535891,
          135.72688100145,
          135.12399067479,
          134.62636691309,
          136.31063195267,
          136.14794726134,
          137.45899447965,
          138.31069668716,
          137.49727323055,
          137.60253979552,
          137.46856416737,
          140.27248267075,
          141.16246362916,
          140.73182768154,
          140.22463423213,
          142.55006834926,
          146.42579187783,
          147.36362127486,
          146.66503407095,
          147.92823285063,
          149.99413542048,
          149.609781454,
          149.38877792327,
          144.37295866065,
          146.57338511877,
          147.0730452752,
          147.96666824728,
          147.7841001132,
          147.34209305174,
          147.85136205733,
          147.60153197912,
          147.65918507409,
          146.78477980034,
          147.18835146514,
          149.36956022494,
          147.9090151523,
          148.40867530873,
          149.29268943165,
          148.92755316349,
          143.15263481706,
          139.73188451535,
          140.85611986732,
          139.48205443714,
          138.64608456003,
          136.70509702929,
          140.61589863826,
          139.3379216997,
          140.16428272764,
          139.93367034775,
          140.55824554329,
          140.11623848183,
          138.10798900695,
          140.125847331,
          138.05994476114,
          138.38664563266,
          137.88698547623,
          138.45390757679,
          137.14710409074,
          138.54038721925,
          139.38596594551,
          139.83758185613,
          140.03936768854,
          141.98996406845,
          143.21028791203,
          143.70994806846,
          144.20960822489,
          145.11284004613,
          144.45943830311,
          144.39217635897,
          146.14098690647,
          146.76556210201,
          147.45739924168,
          144.67083298467,
          143.65229497349,
          142.91241358801,
          144.18078167741,
          150.99345573334,
          149.48486641489,
          150.27279204618,
          152.59813354341,
          153.818457387,
          154.76012268311,
          149.85000268305,
          151.93393267143,
          154.22046696424,
          155.90883616779,
          155.28172760647,
          152.3005499842,
          151.95322831947,
          151.67344142288,
          154.15293219609,
          154.3458886765,
          153.66089317106,
          154.23011478826,
          155.78341445552,
          157.17270111444,
          157.59720537134,
          158.22431393265,
          158.27255305276,
          156.37193172076,
          156.20791871242,
          155.5808101511,
          153.04343243376,
          155.81235792758,
          155.19489719029
         ],
         "yaxis": "y"
        }
       ],
       "layout": {
        "legend": {
         "tracegroupgap": 0
        },
        "template": {
         "data": {
          "bar": [
           {
            "error_x": {
             "color": "#2a3f5f"
            },
            "error_y": {
             "color": "#2a3f5f"
            },
            "marker": {
             "line": {
              "color": "#E5ECF6",
              "width": 0.5
             }
            },
            "type": "bar"
           }
          ],
          "barpolar": [
           {
            "marker": {
             "line": {
              "color": "#E5ECF6",
              "width": 0.5
             }
            },
            "type": "barpolar"
           }
          ],
          "carpet": [
           {
            "aaxis": {
             "endlinecolor": "#2a3f5f",
             "gridcolor": "white",
             "linecolor": "white",
             "minorgridcolor": "white",
             "startlinecolor": "#2a3f5f"
            },
            "baxis": {
             "endlinecolor": "#2a3f5f",
             "gridcolor": "white",
             "linecolor": "white",
             "minorgridcolor": "white",
             "startlinecolor": "#2a3f5f"
            },
            "type": "carpet"
           }
          ],
          "choropleth": [
           {
            "colorbar": {
             "outlinewidth": 0,
             "ticks": ""
            },
            "type": "choropleth"
           }
          ],
          "contour": [
           {
            "colorbar": {
             "outlinewidth": 0,
             "ticks": ""
            },
            "colorscale": [
             [
              0,
              "#0d0887"
             ],
             [
              0.1111111111111111,
              "#46039f"
             ],
             [
              0.2222222222222222,
              "#7201a8"
             ],
             [
              0.3333333333333333,
              "#9c179e"
             ],
             [
              0.4444444444444444,
              "#bd3786"
             ],
             [
              0.5555555555555556,
              "#d8576b"
             ],
             [
              0.6666666666666666,
              "#ed7953"
             ],
             [
              0.7777777777777778,
              "#fb9f3a"
             ],
             [
              0.8888888888888888,
              "#fdca26"
             ],
             [
              1,
              "#f0f921"
             ]
            ],
            "type": "contour"
           }
          ],
          "contourcarpet": [
           {
            "colorbar": {
             "outlinewidth": 0,
             "ticks": ""
            },
            "type": "contourcarpet"
           }
          ],
          "heatmap": [
           {
            "colorbar": {
             "outlinewidth": 0,
             "ticks": ""
            },
            "colorscale": [
             [
              0,
              "#0d0887"
             ],
             [
              0.1111111111111111,
              "#46039f"
             ],
             [
              0.2222222222222222,
              "#7201a8"
             ],
             [
              0.3333333333333333,
              "#9c179e"
             ],
             [
              0.4444444444444444,
              "#bd3786"
             ],
             [
              0.5555555555555556,
              "#d8576b"
             ],
             [
              0.6666666666666666,
              "#ed7953"
             ],
             [
              0.7777777777777778,
              "#fb9f3a"
             ],
             [
              0.8888888888888888,
              "#fdca26"
             ],
             [
              1,
              "#f0f921"
             ]
            ],
            "type": "heatmap"
           }
          ],
          "heatmapgl": [
           {
            "colorbar": {
             "outlinewidth": 0,
             "ticks": ""
            },
            "colorscale": [
             [
              0,
              "#0d0887"
             ],
             [
              0.1111111111111111,
              "#46039f"
             ],
             [
              0.2222222222222222,
              "#7201a8"
             ],
             [
              0.3333333333333333,
              "#9c179e"
             ],
             [
              0.4444444444444444,
              "#bd3786"
             ],
             [
              0.5555555555555556,
              "#d8576b"
             ],
             [
              0.6666666666666666,
              "#ed7953"
             ],
             [
              0.7777777777777778,
              "#fb9f3a"
             ],
             [
              0.8888888888888888,
              "#fdca26"
             ],
             [
              1,
              "#f0f921"
             ]
            ],
            "type": "heatmapgl"
           }
          ],
          "histogram": [
           {
            "marker": {
             "colorbar": {
              "outlinewidth": 0,
              "ticks": ""
             }
            },
            "type": "histogram"
           }
          ],
          "histogram2d": [
           {
            "colorbar": {
             "outlinewidth": 0,
             "ticks": ""
            },
            "colorscale": [
             [
              0,
              "#0d0887"
             ],
             [
              0.1111111111111111,
              "#46039f"
             ],
             [
              0.2222222222222222,
              "#7201a8"
             ],
             [
              0.3333333333333333,
              "#9c179e"
             ],
             [
              0.4444444444444444,
              "#bd3786"
             ],
             [
              0.5555555555555556,
              "#d8576b"
             ],
             [
              0.6666666666666666,
              "#ed7953"
             ],
             [
              0.7777777777777778,
              "#fb9f3a"
             ],
             [
              0.8888888888888888,
              "#fdca26"
             ],
             [
              1,
              "#f0f921"
             ]
            ],
            "type": "histogram2d"
           }
          ],
          "histogram2dcontour": [
           {
            "colorbar": {
             "outlinewidth": 0,
             "ticks": ""
            },
            "colorscale": [
             [
              0,
              "#0d0887"
             ],
             [
              0.1111111111111111,
              "#46039f"
             ],
             [
              0.2222222222222222,
              "#7201a8"
             ],
             [
              0.3333333333333333,
              "#9c179e"
             ],
             [
              0.4444444444444444,
              "#bd3786"
             ],
             [
              0.5555555555555556,
              "#d8576b"
             ],
             [
              0.6666666666666666,
              "#ed7953"
             ],
             [
              0.7777777777777778,
              "#fb9f3a"
             ],
             [
              0.8888888888888888,
              "#fdca26"
             ],
             [
              1,
              "#f0f921"
             ]
            ],
            "type": "histogram2dcontour"
           }
          ],
          "mesh3d": [
           {
            "colorbar": {
             "outlinewidth": 0,
             "ticks": ""
            },
            "type": "mesh3d"
           }
          ],
          "parcoords": [
           {
            "line": {
             "colorbar": {
              "outlinewidth": 0,
              "ticks": ""
             }
            },
            "type": "parcoords"
           }
          ],
          "pie": [
           {
            "automargin": true,
            "type": "pie"
           }
          ],
          "scatter": [
           {
            "marker": {
             "colorbar": {
              "outlinewidth": 0,
              "ticks": ""
             }
            },
            "type": "scatter"
           }
          ],
          "scatter3d": [
           {
            "line": {
             "colorbar": {
              "outlinewidth": 0,
              "ticks": ""
             }
            },
            "marker": {
             "colorbar": {
              "outlinewidth": 0,
              "ticks": ""
             }
            },
            "type": "scatter3d"
           }
          ],
          "scattercarpet": [
           {
            "marker": {
             "colorbar": {
              "outlinewidth": 0,
              "ticks": ""
             }
            },
            "type": "scattercarpet"
           }
          ],
          "scattergeo": [
           {
            "marker": {
             "colorbar": {
              "outlinewidth": 0,
              "ticks": ""
             }
            },
            "type": "scattergeo"
           }
          ],
          "scattergl": [
           {
            "marker": {
             "colorbar": {
              "outlinewidth": 0,
              "ticks": ""
             }
            },
            "type": "scattergl"
           }
          ],
          "scattermapbox": [
           {
            "marker": {
             "colorbar": {
              "outlinewidth": 0,
              "ticks": ""
             }
            },
            "type": "scattermapbox"
           }
          ],
          "scatterpolar": [
           {
            "marker": {
             "colorbar": {
              "outlinewidth": 0,
              "ticks": ""
             }
            },
            "type": "scatterpolar"
           }
          ],
          "scatterpolargl": [
           {
            "marker": {
             "colorbar": {
              "outlinewidth": 0,
              "ticks": ""
             }
            },
            "type": "scatterpolargl"
           }
          ],
          "scatterternary": [
           {
            "marker": {
             "colorbar": {
              "outlinewidth": 0,
              "ticks": ""
             }
            },
            "type": "scatterternary"
           }
          ],
          "surface": [
           {
            "colorbar": {
             "outlinewidth": 0,
             "ticks": ""
            },
            "colorscale": [
             [
              0,
              "#0d0887"
             ],
             [
              0.1111111111111111,
              "#46039f"
             ],
             [
              0.2222222222222222,
              "#7201a8"
             ],
             [
              0.3333333333333333,
              "#9c179e"
             ],
             [
              0.4444444444444444,
              "#bd3786"
             ],
             [
              0.5555555555555556,
              "#d8576b"
             ],
             [
              0.6666666666666666,
              "#ed7953"
             ],
             [
              0.7777777777777778,
              "#fb9f3a"
             ],
             [
              0.8888888888888888,
              "#fdca26"
             ],
             [
              1,
              "#f0f921"
             ]
            ],
            "type": "surface"
           }
          ],
          "table": [
           {
            "cells": {
             "fill": {
              "color": "#EBF0F8"
             },
             "line": {
              "color": "white"
             }
            },
            "header": {
             "fill": {
              "color": "#C8D4E3"
             },
             "line": {
              "color": "white"
             }
            },
            "type": "table"
           }
          ]
         },
         "layout": {
          "annotationdefaults": {
           "arrowcolor": "#2a3f5f",
           "arrowhead": 0,
           "arrowwidth": 1
          },
          "coloraxis": {
           "colorbar": {
            "outlinewidth": 0,
            "ticks": ""
           }
          },
          "colorscale": {
           "diverging": [
            [
             0,
             "#8e0152"
            ],
            [
             0.1,
             "#c51b7d"
            ],
            [
             0.2,
             "#de77ae"
            ],
            [
             0.3,
             "#f1b6da"
            ],
            [
             0.4,
             "#fde0ef"
            ],
            [
             0.5,
             "#f7f7f7"
            ],
            [
             0.6,
             "#e6f5d0"
            ],
            [
             0.7,
             "#b8e186"
            ],
            [
             0.8,
             "#7fbc41"
            ],
            [
             0.9,
             "#4d9221"
            ],
            [
             1,
             "#276419"
            ]
           ],
           "sequential": [
            [
             0,
             "#0d0887"
            ],
            [
             0.1111111111111111,
             "#46039f"
            ],
            [
             0.2222222222222222,
             "#7201a8"
            ],
            [
             0.3333333333333333,
             "#9c179e"
            ],
            [
             0.4444444444444444,
             "#bd3786"
            ],
            [
             0.5555555555555556,
             "#d8576b"
            ],
            [
             0.6666666666666666,
             "#ed7953"
            ],
            [
             0.7777777777777778,
             "#fb9f3a"
            ],
            [
             0.8888888888888888,
             "#fdca26"
            ],
            [
             1,
             "#f0f921"
            ]
           ],
           "sequentialminus": [
            [
             0,
             "#0d0887"
            ],
            [
             0.1111111111111111,
             "#46039f"
            ],
            [
             0.2222222222222222,
             "#7201a8"
            ],
            [
             0.3333333333333333,
             "#9c179e"
            ],
            [
             0.4444444444444444,
             "#bd3786"
            ],
            [
             0.5555555555555556,
             "#d8576b"
            ],
            [
             0.6666666666666666,
             "#ed7953"
            ],
            [
             0.7777777777777778,
             "#fb9f3a"
            ],
            [
             0.8888888888888888,
             "#fdca26"
            ],
            [
             1,
             "#f0f921"
            ]
           ]
          },
          "colorway": [
           "#636efa",
           "#EF553B",
           "#00cc96",
           "#ab63fa",
           "#FFA15A",
           "#19d3f3",
           "#FF6692",
           "#B6E880",
           "#FF97FF",
           "#FECB52"
          ],
          "font": {
           "color": "#2a3f5f"
          },
          "geo": {
           "bgcolor": "white",
           "lakecolor": "white",
           "landcolor": "#E5ECF6",
           "showlakes": true,
           "showland": true,
           "subunitcolor": "white"
          },
          "hoverlabel": {
           "align": "left"
          },
          "hovermode": "closest",
          "mapbox": {
           "style": "light"
          },
          "paper_bgcolor": "white",
          "plot_bgcolor": "#E5ECF6",
          "polar": {
           "angularaxis": {
            "gridcolor": "white",
            "linecolor": "white",
            "ticks": ""
           },
           "bgcolor": "#E5ECF6",
           "radialaxis": {
            "gridcolor": "white",
            "linecolor": "white",
            "ticks": ""
           }
          },
          "scene": {
           "xaxis": {
            "backgroundcolor": "#E5ECF6",
            "gridcolor": "white",
            "gridwidth": 2,
            "linecolor": "white",
            "showbackground": true,
            "ticks": "",
            "zerolinecolor": "white"
           },
           "yaxis": {
            "backgroundcolor": "#E5ECF6",
            "gridcolor": "white",
            "gridwidth": 2,
            "linecolor": "white",
            "showbackground": true,
            "ticks": "",
            "zerolinecolor": "white"
           },
           "zaxis": {
            "backgroundcolor": "#E5ECF6",
            "gridcolor": "white",
            "gridwidth": 2,
            "linecolor": "white",
            "showbackground": true,
            "ticks": "",
            "zerolinecolor": "white"
           }
          },
          "shapedefaults": {
           "line": {
            "color": "#2a3f5f"
           }
          },
          "ternary": {
           "aaxis": {
            "gridcolor": "white",
            "linecolor": "white",
            "ticks": ""
           },
           "baxis": {
            "gridcolor": "white",
            "linecolor": "white",
            "ticks": ""
           },
           "bgcolor": "#E5ECF6",
           "caxis": {
            "gridcolor": "white",
            "linecolor": "white",
            "ticks": ""
           }
          },
          "title": {
           "x": 0.05
          },
          "xaxis": {
           "automargin": true,
           "gridcolor": "white",
           "linecolor": "white",
           "ticks": "",
           "title": {
            "standoff": 15
           },
           "zerolinecolor": "white",
           "zerolinewidth": 2
          },
          "yaxis": {
           "automargin": true,
           "gridcolor": "white",
           "linecolor": "white",
           "ticks": "",
           "title": {
            "standoff": 15
           },
           "zerolinecolor": "white",
           "zerolinewidth": 2
          }
         }
        },
        "title": {
         "text": "Adjusted Closing Price"
        },
        "xaxis": {
         "anchor": "y",
         "domain": [
          0,
          1
         ],
         "title": {
          "text": "Date"
         }
        },
        "yaxis": {
         "anchor": "x",
         "domain": [
          0,
          1
         ],
         "title": {
          "text": "Adj_Close"
         }
        }
       }
      },
      "text/html": [
       "<div>\n",
       "        \n",
       "        \n",
       "            <div id=\"3ab3cdb7-93fc-4ca6-a27f-1f2a8fac06a6\" class=\"plotly-graph-div\" style=\"height:525px; width:100%;\"></div>\n",
       "            <script type=\"text/javascript\">\n",
       "                require([\"plotly\"], function(Plotly) {\n",
       "                    window.PLOTLYENV=window.PLOTLYENV || {};\n",
       "                    \n",
       "                if (document.getElementById(\"3ab3cdb7-93fc-4ca6-a27f-1f2a8fac06a6\")) {\n",
       "                    Plotly.newPlot(\n",
       "                        '3ab3cdb7-93fc-4ca6-a27f-1f2a8fac06a6',\n",
       "                        [{\"hovertemplate\": \"Date=%{x}<br>Adj_Close=%{y}<extra></extra>\", \"legendgroup\": \"\", \"line\": {\"color\": \"#636efa\", \"dash\": \"solid\"}, \"mode\": \"lines\", \"name\": \"\", \"showlegend\": false, \"type\": \"scatter\", \"x\": [\"2017-02-06T00:00:00\", \"2017-02-07T00:00:00\", \"2017-02-08T00:00:00\", \"2017-02-09T00:00:00\", \"2017-02-10T00:00:00\", \"2017-02-13T00:00:00\", \"2017-02-14T00:00:00\", \"2017-02-15T00:00:00\", \"2017-02-16T00:00:00\", \"2017-02-17T00:00:00\", \"2017-02-21T00:00:00\", \"2017-02-22T00:00:00\", \"2017-02-23T00:00:00\", \"2017-02-24T00:00:00\", \"2017-02-27T00:00:00\", \"2017-02-28T00:00:00\", \"2017-03-01T00:00:00\", \"2017-03-02T00:00:00\", \"2017-03-03T00:00:00\", \"2017-03-06T00:00:00\", \"2017-03-07T00:00:00\", \"2017-03-08T00:00:00\", \"2017-03-09T00:00:00\", \"2017-03-10T00:00:00\", \"2017-03-13T00:00:00\", \"2017-03-14T00:00:00\", \"2017-03-15T00:00:00\", \"2017-03-16T00:00:00\", \"2017-03-17T00:00:00\", \"2017-03-20T00:00:00\", \"2017-03-21T00:00:00\", \"2017-03-22T00:00:00\", \"2017-03-23T00:00:00\", \"2017-03-24T00:00:00\", \"2017-03-27T00:00:00\", \"2017-03-28T00:00:00\", \"2017-03-29T00:00:00\", \"2017-03-30T00:00:00\", \"2017-03-31T00:00:00\", \"2017-04-03T00:00:00\", \"2017-04-04T00:00:00\", \"2017-04-05T00:00:00\", \"2017-04-06T00:00:00\", \"2017-04-07T00:00:00\", \"2017-04-10T00:00:00\", \"2017-04-11T00:00:00\", \"2017-04-12T00:00:00\", \"2017-04-13T00:00:00\", \"2017-04-17T00:00:00\", \"2017-04-18T00:00:00\", \"2017-04-19T00:00:00\", \"2017-04-20T00:00:00\", \"2017-04-21T00:00:00\", \"2017-04-24T00:00:00\", \"2017-04-25T00:00:00\", \"2017-04-26T00:00:00\", \"2017-04-27T00:00:00\", \"2017-04-28T00:00:00\", \"2017-05-01T00:00:00\", \"2017-05-02T00:00:00\", \"2017-05-03T00:00:00\", \"2017-05-04T00:00:00\", \"2017-05-05T00:00:00\", \"2017-05-08T00:00:00\", \"2017-05-09T00:00:00\", \"2017-05-10T00:00:00\", \"2017-05-11T00:00:00\", \"2017-05-12T00:00:00\", \"2017-05-15T00:00:00\", \"2017-05-16T00:00:00\", \"2017-05-17T00:00:00\", \"2017-05-18T00:00:00\", \"2017-05-19T00:00:00\", \"2017-05-22T00:00:00\", \"2017-05-23T00:00:00\", \"2017-05-24T00:00:00\", \"2017-05-25T00:00:00\", \"2017-05-26T00:00:00\", \"2017-05-30T00:00:00\", \"2017-05-31T00:00:00\", \"2017-06-01T00:00:00\", \"2017-06-02T00:00:00\", \"2017-06-05T00:00:00\", \"2017-06-06T00:00:00\", \"2017-06-07T00:00:00\", \"2017-06-08T00:00:00\", \"2017-06-09T00:00:00\", \"2017-06-12T00:00:00\", \"2017-06-13T00:00:00\", \"2017-06-14T00:00:00\", \"2017-06-15T00:00:00\", \"2017-06-16T00:00:00\", \"2017-06-19T00:00:00\", \"2017-06-20T00:00:00\", \"2017-06-21T00:00:00\", \"2017-06-22T00:00:00\", \"2017-06-23T00:00:00\", \"2017-06-26T00:00:00\", \"2017-06-27T00:00:00\", \"2017-06-28T00:00:00\", \"2017-06-29T00:00:00\", \"2017-06-30T00:00:00\", \"2017-07-03T00:00:00\", \"2017-07-05T00:00:00\", \"2017-07-06T00:00:00\", \"2017-07-07T00:00:00\", \"2017-07-10T00:00:00\", \"2017-07-11T00:00:00\", \"2017-07-12T00:00:00\", \"2017-07-13T00:00:00\", \"2017-07-14T00:00:00\", \"2017-07-17T00:00:00\", \"2017-07-18T00:00:00\", \"2017-07-19T00:00:00\", \"2017-07-20T00:00:00\", \"2017-07-21T00:00:00\", \"2017-07-24T00:00:00\", \"2017-07-25T00:00:00\", \"2017-07-26T00:00:00\", \"2017-07-27T00:00:00\", \"2017-07-28T00:00:00\", \"2017-07-31T00:00:00\", \"2017-08-01T00:00:00\", \"2017-08-02T00:00:00\", \"2017-08-03T00:00:00\", \"2017-08-04T00:00:00\", \"2017-08-07T00:00:00\", \"2017-08-08T00:00:00\", \"2017-08-09T00:00:00\", \"2017-08-10T00:00:00\", \"2017-08-11T00:00:00\", \"2017-08-14T00:00:00\", \"2017-08-15T00:00:00\", \"2017-08-16T00:00:00\", \"2017-08-17T00:00:00\", \"2017-08-18T00:00:00\", \"2017-08-21T00:00:00\", \"2017-08-22T00:00:00\", \"2017-08-23T00:00:00\", \"2017-08-24T00:00:00\", \"2017-08-25T00:00:00\", \"2017-08-28T00:00:00\", \"2017-08-29T00:00:00\", \"2017-08-30T00:00:00\", \"2017-08-31T00:00:00\", \"2017-09-01T00:00:00\", \"2017-09-05T00:00:00\", \"2017-09-06T00:00:00\", \"2017-09-07T00:00:00\", \"2017-09-08T00:00:00\", \"2017-09-11T00:00:00\", \"2017-09-12T00:00:00\"], \"xaxis\": \"x\", \"y\": [124.14906349512, 125.33061878512, 125.81658104149, 126.72180485237, 126.43471422063, 127.55436768444, 129.20992366083, 129.67883835935, 129.52093851189, 129.87980180157, 130.81763119861, 131.20998839533, 130.65494650728, 130.77935244771, 131.03773401628, 131.09515214263, 133.77466470558, 132.98038062442, 133.76509501786, 133.34402875797, 133.51628313701, 133.01865937532, 132.71242936813, 133.15263500347, 133.21005312982, 133.0090896876, 134.41583378315, 134.63593660082, 133.96605846008, 135.37280255563, 133.82251314421, 135.33452380473, 134.85603941849, 134.5880881622, 134.81776066759, 137.61210948325, 137.91833949044, 137.73651542367, 137.4781338551, 137.516412606, 138.54036919256, 137.82264261319, 137.4781338551, 137.1719038479, 137.00921915658, 135.53548724695, 135.69817193828, 134.98044535891, 135.72688100145, 135.12399067479, 134.62636691309, 136.31063195267, 136.14794726134, 137.45899447965, 138.31069668716, 137.49727323055, 137.60253979552, 137.46856416737, 140.27248267075, 141.16246362916, 140.73182768154, 140.22463423213, 142.55006834926, 146.42579187783, 147.36362127486, 146.66503407095, 147.92823285063, 149.99413542048, 149.609781454, 149.38877792327, 144.37295866065, 146.57338511877, 147.0730452752, 147.96666824728, 147.7841001132, 147.34209305174, 147.85136205733, 147.60153197912, 147.65918507409, 146.78477980034, 147.18835146514, 149.36956022494, 147.9090151523, 148.40867530873, 149.29268943165, 148.92755316349, 143.15263481706, 139.73188451535, 140.85611986732, 139.48205443714, 138.64608456003, 136.70509702929, 140.61589863826, 139.3379216997, 140.16428272764, 139.93367034775, 140.55824554329, 140.11623848183, 138.10798900695, 140.125847331, 138.05994476114, 138.38664563266, 137.88698547623, 138.45390757679, 137.14710409074, 138.54038721925, 139.38596594551, 139.83758185613, 140.03936768854, 141.98996406845, 143.21028791203, 143.70994806846, 144.20960822489, 145.11284004613, 144.45943830311, 144.39217635897, 146.14098690647, 146.76556210201, 147.45739924168, 144.67083298467, 143.65229497349, 142.91241358801, 144.18078167741, 150.99345573334, 149.48486641489, 150.27279204618, 152.59813354341, 153.818457387, 154.76012268311, 149.85000268305, 151.93393267143, 154.22046696424, 155.90883616779, 155.28172760647, 152.3005499842, 151.95322831947, 151.67344142288, 154.15293219609, 154.3458886765, 153.66089317106, 154.23011478826, 155.78341445552, 157.17270111444, 157.59720537134, 158.22431393265, 158.27255305276, 156.37193172076, 156.20791871242, 155.5808101511, 153.04343243376, 155.81235792758, 155.19489719029], \"yaxis\": \"y\"}],\n",
       "                        {\"legend\": {\"tracegroupgap\": 0}, \"template\": {\"data\": {\"bar\": [{\"error_x\": {\"color\": \"#2a3f5f\"}, \"error_y\": {\"color\": \"#2a3f5f\"}, \"marker\": {\"line\": {\"color\": \"#E5ECF6\", \"width\": 0.5}}, \"type\": \"bar\"}], \"barpolar\": [{\"marker\": {\"line\": {\"color\": \"#E5ECF6\", \"width\": 0.5}}, \"type\": \"barpolar\"}], \"carpet\": [{\"aaxis\": {\"endlinecolor\": \"#2a3f5f\", \"gridcolor\": \"white\", \"linecolor\": \"white\", \"minorgridcolor\": \"white\", \"startlinecolor\": \"#2a3f5f\"}, \"baxis\": {\"endlinecolor\": \"#2a3f5f\", \"gridcolor\": \"white\", \"linecolor\": \"white\", \"minorgridcolor\": \"white\", \"startlinecolor\": \"#2a3f5f\"}, \"type\": \"carpet\"}], \"choropleth\": [{\"colorbar\": {\"outlinewidth\": 0, \"ticks\": \"\"}, \"type\": \"choropleth\"}], \"contour\": [{\"colorbar\": {\"outlinewidth\": 0, \"ticks\": \"\"}, \"colorscale\": [[0.0, \"#0d0887\"], [0.1111111111111111, \"#46039f\"], [0.2222222222222222, \"#7201a8\"], [0.3333333333333333, \"#9c179e\"], [0.4444444444444444, \"#bd3786\"], [0.5555555555555556, \"#d8576b\"], [0.6666666666666666, \"#ed7953\"], [0.7777777777777778, \"#fb9f3a\"], [0.8888888888888888, \"#fdca26\"], [1.0, \"#f0f921\"]], \"type\": \"contour\"}], \"contourcarpet\": [{\"colorbar\": {\"outlinewidth\": 0, \"ticks\": \"\"}, \"type\": \"contourcarpet\"}], \"heatmap\": [{\"colorbar\": {\"outlinewidth\": 0, \"ticks\": \"\"}, \"colorscale\": [[0.0, \"#0d0887\"], [0.1111111111111111, \"#46039f\"], [0.2222222222222222, \"#7201a8\"], [0.3333333333333333, \"#9c179e\"], [0.4444444444444444, \"#bd3786\"], [0.5555555555555556, \"#d8576b\"], [0.6666666666666666, \"#ed7953\"], [0.7777777777777778, \"#fb9f3a\"], [0.8888888888888888, \"#fdca26\"], [1.0, \"#f0f921\"]], \"type\": \"heatmap\"}], \"heatmapgl\": [{\"colorbar\": {\"outlinewidth\": 0, \"ticks\": \"\"}, \"colorscale\": [[0.0, \"#0d0887\"], [0.1111111111111111, \"#46039f\"], [0.2222222222222222, \"#7201a8\"], [0.3333333333333333, \"#9c179e\"], [0.4444444444444444, \"#bd3786\"], [0.5555555555555556, \"#d8576b\"], [0.6666666666666666, \"#ed7953\"], [0.7777777777777778, \"#fb9f3a\"], [0.8888888888888888, \"#fdca26\"], [1.0, \"#f0f921\"]], \"type\": \"heatmapgl\"}], \"histogram\": [{\"marker\": {\"colorbar\": {\"outlinewidth\": 0, \"ticks\": \"\"}}, \"type\": \"histogram\"}], \"histogram2d\": [{\"colorbar\": {\"outlinewidth\": 0, \"ticks\": \"\"}, \"colorscale\": [[0.0, \"#0d0887\"], [0.1111111111111111, \"#46039f\"], [0.2222222222222222, \"#7201a8\"], [0.3333333333333333, \"#9c179e\"], [0.4444444444444444, \"#bd3786\"], [0.5555555555555556, \"#d8576b\"], [0.6666666666666666, \"#ed7953\"], [0.7777777777777778, \"#fb9f3a\"], [0.8888888888888888, \"#fdca26\"], [1.0, \"#f0f921\"]], \"type\": \"histogram2d\"}], \"histogram2dcontour\": [{\"colorbar\": {\"outlinewidth\": 0, \"ticks\": \"\"}, \"colorscale\": [[0.0, \"#0d0887\"], [0.1111111111111111, \"#46039f\"], [0.2222222222222222, \"#7201a8\"], [0.3333333333333333, \"#9c179e\"], [0.4444444444444444, \"#bd3786\"], [0.5555555555555556, \"#d8576b\"], [0.6666666666666666, \"#ed7953\"], [0.7777777777777778, \"#fb9f3a\"], [0.8888888888888888, \"#fdca26\"], [1.0, \"#f0f921\"]], \"type\": \"histogram2dcontour\"}], \"mesh3d\": [{\"colorbar\": {\"outlinewidth\": 0, \"ticks\": \"\"}, \"type\": \"mesh3d\"}], \"parcoords\": [{\"line\": {\"colorbar\": {\"outlinewidth\": 0, \"ticks\": \"\"}}, \"type\": \"parcoords\"}], \"pie\": [{\"automargin\": true, \"type\": \"pie\"}], \"scatter\": [{\"marker\": {\"colorbar\": {\"outlinewidth\": 0, \"ticks\": \"\"}}, \"type\": \"scatter\"}], \"scatter3d\": [{\"line\": {\"colorbar\": {\"outlinewidth\": 0, \"ticks\": \"\"}}, \"marker\": {\"colorbar\": {\"outlinewidth\": 0, \"ticks\": \"\"}}, \"type\": \"scatter3d\"}], \"scattercarpet\": [{\"marker\": {\"colorbar\": {\"outlinewidth\": 0, \"ticks\": \"\"}}, \"type\": \"scattercarpet\"}], \"scattergeo\": [{\"marker\": {\"colorbar\": {\"outlinewidth\": 0, \"ticks\": \"\"}}, \"type\": \"scattergeo\"}], \"scattergl\": [{\"marker\": {\"colorbar\": {\"outlinewidth\": 0, \"ticks\": \"\"}}, \"type\": \"scattergl\"}], \"scattermapbox\": [{\"marker\": {\"colorbar\": {\"outlinewidth\": 0, \"ticks\": \"\"}}, \"type\": \"scattermapbox\"}], \"scatterpolar\": [{\"marker\": {\"colorbar\": {\"outlinewidth\": 0, \"ticks\": \"\"}}, \"type\": \"scatterpolar\"}], \"scatterpolargl\": [{\"marker\": {\"colorbar\": {\"outlinewidth\": 0, \"ticks\": \"\"}}, \"type\": \"scatterpolargl\"}], \"scatterternary\": [{\"marker\": {\"colorbar\": {\"outlinewidth\": 0, \"ticks\": \"\"}}, \"type\": \"scatterternary\"}], \"surface\": [{\"colorbar\": {\"outlinewidth\": 0, \"ticks\": \"\"}, \"colorscale\": [[0.0, \"#0d0887\"], [0.1111111111111111, \"#46039f\"], [0.2222222222222222, \"#7201a8\"], [0.3333333333333333, \"#9c179e\"], [0.4444444444444444, \"#bd3786\"], [0.5555555555555556, \"#d8576b\"], [0.6666666666666666, \"#ed7953\"], [0.7777777777777778, \"#fb9f3a\"], [0.8888888888888888, \"#fdca26\"], [1.0, \"#f0f921\"]], \"type\": \"surface\"}], \"table\": [{\"cells\": {\"fill\": {\"color\": \"#EBF0F8\"}, \"line\": {\"color\": \"white\"}}, \"header\": {\"fill\": {\"color\": \"#C8D4E3\"}, \"line\": {\"color\": \"white\"}}, \"type\": \"table\"}]}, \"layout\": {\"annotationdefaults\": {\"arrowcolor\": \"#2a3f5f\", \"arrowhead\": 0, \"arrowwidth\": 1}, \"coloraxis\": {\"colorbar\": {\"outlinewidth\": 0, \"ticks\": \"\"}}, \"colorscale\": {\"diverging\": [[0, \"#8e0152\"], [0.1, \"#c51b7d\"], [0.2, \"#de77ae\"], [0.3, \"#f1b6da\"], [0.4, \"#fde0ef\"], [0.5, \"#f7f7f7\"], [0.6, \"#e6f5d0\"], [0.7, \"#b8e186\"], [0.8, \"#7fbc41\"], [0.9, \"#4d9221\"], [1, \"#276419\"]], \"sequential\": [[0.0, \"#0d0887\"], [0.1111111111111111, \"#46039f\"], [0.2222222222222222, \"#7201a8\"], [0.3333333333333333, \"#9c179e\"], [0.4444444444444444, \"#bd3786\"], [0.5555555555555556, \"#d8576b\"], [0.6666666666666666, \"#ed7953\"], [0.7777777777777778, \"#fb9f3a\"], [0.8888888888888888, \"#fdca26\"], [1.0, \"#f0f921\"]], \"sequentialminus\": [[0.0, \"#0d0887\"], [0.1111111111111111, \"#46039f\"], [0.2222222222222222, \"#7201a8\"], [0.3333333333333333, \"#9c179e\"], [0.4444444444444444, \"#bd3786\"], [0.5555555555555556, \"#d8576b\"], [0.6666666666666666, \"#ed7953\"], [0.7777777777777778, \"#fb9f3a\"], [0.8888888888888888, \"#fdca26\"], [1.0, \"#f0f921\"]]}, \"colorway\": [\"#636efa\", \"#EF553B\", \"#00cc96\", \"#ab63fa\", \"#FFA15A\", \"#19d3f3\", \"#FF6692\", \"#B6E880\", \"#FF97FF\", \"#FECB52\"], \"font\": {\"color\": \"#2a3f5f\"}, \"geo\": {\"bgcolor\": \"white\", \"lakecolor\": \"white\", \"landcolor\": \"#E5ECF6\", \"showlakes\": true, \"showland\": true, \"subunitcolor\": \"white\"}, \"hoverlabel\": {\"align\": \"left\"}, \"hovermode\": \"closest\", \"mapbox\": {\"style\": \"light\"}, \"paper_bgcolor\": \"white\", \"plot_bgcolor\": \"#E5ECF6\", \"polar\": {\"angularaxis\": {\"gridcolor\": \"white\", \"linecolor\": \"white\", \"ticks\": \"\"}, \"bgcolor\": \"#E5ECF6\", \"radialaxis\": {\"gridcolor\": \"white\", \"linecolor\": \"white\", \"ticks\": \"\"}}, \"scene\": {\"xaxis\": {\"backgroundcolor\": \"#E5ECF6\", \"gridcolor\": \"white\", \"gridwidth\": 2, \"linecolor\": \"white\", \"showbackground\": true, \"ticks\": \"\", \"zerolinecolor\": \"white\"}, \"yaxis\": {\"backgroundcolor\": \"#E5ECF6\", \"gridcolor\": \"white\", \"gridwidth\": 2, \"linecolor\": \"white\", \"showbackground\": true, \"ticks\": \"\", \"zerolinecolor\": \"white\"}, \"zaxis\": {\"backgroundcolor\": \"#E5ECF6\", \"gridcolor\": \"white\", \"gridwidth\": 2, \"linecolor\": \"white\", \"showbackground\": true, \"ticks\": \"\", \"zerolinecolor\": \"white\"}}, \"shapedefaults\": {\"line\": {\"color\": \"#2a3f5f\"}}, \"ternary\": {\"aaxis\": {\"gridcolor\": \"white\", \"linecolor\": \"white\", \"ticks\": \"\"}, \"baxis\": {\"gridcolor\": \"white\", \"linecolor\": \"white\", \"ticks\": \"\"}, \"bgcolor\": \"#E5ECF6\", \"caxis\": {\"gridcolor\": \"white\", \"linecolor\": \"white\", \"ticks\": \"\"}}, \"title\": {\"x\": 0.05}, \"xaxis\": {\"automargin\": true, \"gridcolor\": \"white\", \"linecolor\": \"white\", \"ticks\": \"\", \"title\": {\"standoff\": 15}, \"zerolinecolor\": \"white\", \"zerolinewidth\": 2}, \"yaxis\": {\"automargin\": true, \"gridcolor\": \"white\", \"linecolor\": \"white\", \"ticks\": \"\", \"title\": {\"standoff\": 15}, \"zerolinecolor\": \"white\", \"zerolinewidth\": 2}}}, \"title\": {\"text\": \"Adjusted Closing Price\"}, \"xaxis\": {\"anchor\": \"y\", \"domain\": [0.0, 1.0], \"title\": {\"text\": \"Date\"}}, \"yaxis\": {\"anchor\": \"x\", \"domain\": [0.0, 1.0], \"title\": {\"text\": \"Adj_Close\"}}},\n",
       "                        {\"responsive\": true}\n",
       "                    ).then(function(){\n",
       "                            \n",
       "var gd = document.getElementById('3ab3cdb7-93fc-4ca6-a27f-1f2a8fac06a6');\n",
       "var x = new MutationObserver(function (mutations, observer) {{\n",
       "        var display = window.getComputedStyle(gd).display;\n",
       "        if (!display || display === 'none') {{\n",
       "            console.log([gd, 'removed!']);\n",
       "            Plotly.purge(gd);\n",
       "            observer.disconnect();\n",
       "        }}\n",
       "}});\n",
       "\n",
       "// Listen for the removal of the full notebook cells\n",
       "var notebookContainer = gd.closest('#notebook-container');\n",
       "if (notebookContainer) {{\n",
       "    x.observe(notebookContainer, {childList: true});\n",
       "}}\n",
       "\n",
       "// Listen for the clearing of the current output cell\n",
       "var outputEl = gd.closest('.output');\n",
       "if (outputEl) {{\n",
       "    x.observe(outputEl, {childList: true});\n",
       "}}\n",
       "\n",
       "                        })\n",
       "                };\n",
       "                });\n",
       "            </script>\n",
       "        </div>"
      ]
     },
     "metadata": {},
     "output_type": "display_data"
    }
   ],
   "source": [
    "#plot the adjusted closeing price\n",
    "fig = px.line(data, x=\"Date\", y=\"Adj_Close\", title='Adjusted Closing Price')\n",
    "fig.show()"
   ]
  },
  {
   "cell_type": "code",
   "execution_count": 55,
   "metadata": {},
   "outputs": [
    {
     "data": {
      "text/html": [
       "<div>\n",
       "<style scoped>\n",
       "    .dataframe tbody tr th:only-of-type {\n",
       "        vertical-align: middle;\n",
       "    }\n",
       "\n",
       "    .dataframe tbody tr th {\n",
       "        vertical-align: top;\n",
       "    }\n",
       "\n",
       "    .dataframe thead th {\n",
       "        text-align: right;\n",
       "    }\n",
       "</style>\n",
       "<table border=\"1\" class=\"dataframe\">\n",
       "  <thead>\n",
       "    <tr style=\"text-align: right;\">\n",
       "      <th></th>\n",
       "      <th>Open</th>\n",
       "      <th>High</th>\n",
       "      <th>Low</th>\n",
       "      <th>Close</th>\n",
       "      <th>Volume</th>\n",
       "      <th>Dividend</th>\n",
       "      <th>Split</th>\n",
       "      <th>Adj_Open</th>\n",
       "      <th>Adj_High</th>\n",
       "      <th>Adj_Low</th>\n",
       "      <th>Adj_Close</th>\n",
       "      <th>Adj_Volume</th>\n",
       "      <th>Date</th>\n",
       "    </tr>\n",
       "    <tr>\n",
       "      <th>Date</th>\n",
       "      <th></th>\n",
       "      <th></th>\n",
       "      <th></th>\n",
       "      <th></th>\n",
       "      <th></th>\n",
       "      <th></th>\n",
       "      <th></th>\n",
       "      <th></th>\n",
       "      <th></th>\n",
       "      <th></th>\n",
       "      <th></th>\n",
       "      <th></th>\n",
       "      <th></th>\n",
       "    </tr>\n",
       "  </thead>\n",
       "  <tbody>\n",
       "    <tr>\n",
       "      <td>2017-02-06</td>\n",
       "      <td>129.13</td>\n",
       "      <td>130.500</td>\n",
       "      <td>128.90</td>\n",
       "      <td>130.29</td>\n",
       "      <td>26845924.0</td>\n",
       "      <td>0.00</td>\n",
       "      <td>1.0</td>\n",
       "      <td>123.043738</td>\n",
       "      <td>124.349166</td>\n",
       "      <td>122.824578</td>\n",
       "      <td>124.149063</td>\n",
       "      <td>26845924.0</td>\n",
       "      <td>2017-02-06</td>\n",
       "    </tr>\n",
       "    <tr>\n",
       "      <td>2017-02-07</td>\n",
       "      <td>130.54</td>\n",
       "      <td>132.090</td>\n",
       "      <td>130.45</td>\n",
       "      <td>131.53</td>\n",
       "      <td>38183841.0</td>\n",
       "      <td>0.00</td>\n",
       "      <td>1.0</td>\n",
       "      <td>124.387280</td>\n",
       "      <td>125.864224</td>\n",
       "      <td>124.301522</td>\n",
       "      <td>125.330619</td>\n",
       "      <td>38183841.0</td>\n",
       "      <td>2017-02-07</td>\n",
       "    </tr>\n",
       "    <tr>\n",
       "      <td>2017-02-08</td>\n",
       "      <td>131.35</td>\n",
       "      <td>132.220</td>\n",
       "      <td>131.22</td>\n",
       "      <td>132.04</td>\n",
       "      <td>23004072.0</td>\n",
       "      <td>0.00</td>\n",
       "      <td>1.0</td>\n",
       "      <td>125.159103</td>\n",
       "      <td>125.988097</td>\n",
       "      <td>125.035230</td>\n",
       "      <td>125.816581</td>\n",
       "      <td>23004072.0</td>\n",
       "      <td>2017-02-08</td>\n",
       "    </tr>\n",
       "    <tr>\n",
       "      <td>2017-02-09</td>\n",
       "      <td>131.65</td>\n",
       "      <td>132.445</td>\n",
       "      <td>131.12</td>\n",
       "      <td>132.42</td>\n",
       "      <td>28349859.0</td>\n",
       "      <td>0.57</td>\n",
       "      <td>1.0</td>\n",
       "      <td>125.984939</td>\n",
       "      <td>126.745729</td>\n",
       "      <td>125.477745</td>\n",
       "      <td>126.721805</td>\n",
       "      <td>28349859.0</td>\n",
       "      <td>2017-02-09</td>\n",
       "    </tr>\n",
       "    <tr>\n",
       "      <td>2017-02-10</td>\n",
       "      <td>132.46</td>\n",
       "      <td>132.940</td>\n",
       "      <td>132.05</td>\n",
       "      <td>132.12</td>\n",
       "      <td>20065458.0</td>\n",
       "      <td>0.00</td>\n",
       "      <td>1.0</td>\n",
       "      <td>126.760084</td>\n",
       "      <td>127.219429</td>\n",
       "      <td>126.367726</td>\n",
       "      <td>126.434714</td>\n",
       "      <td>20065458.0</td>\n",
       "      <td>2017-02-10</td>\n",
       "    </tr>\n",
       "  </tbody>\n",
       "</table>\n",
       "</div>"
      ],
      "text/plain": [
       "              Open     High     Low   Close      Volume  Dividend  Split  \\\n",
       "Date                                                                       \n",
       "2017-02-06  129.13  130.500  128.90  130.29  26845924.0      0.00    1.0   \n",
       "2017-02-07  130.54  132.090  130.45  131.53  38183841.0      0.00    1.0   \n",
       "2017-02-08  131.35  132.220  131.22  132.04  23004072.0      0.00    1.0   \n",
       "2017-02-09  131.65  132.445  131.12  132.42  28349859.0      0.57    1.0   \n",
       "2017-02-10  132.46  132.940  132.05  132.12  20065458.0      0.00    1.0   \n",
       "\n",
       "              Adj_Open    Adj_High     Adj_Low   Adj_Close  Adj_Volume  \\\n",
       "Date                                                                     \n",
       "2017-02-06  123.043738  124.349166  122.824578  124.149063  26845924.0   \n",
       "2017-02-07  124.387280  125.864224  124.301522  125.330619  38183841.0   \n",
       "2017-02-08  125.159103  125.988097  125.035230  125.816581  23004072.0   \n",
       "2017-02-09  125.984939  126.745729  125.477745  126.721805  28349859.0   \n",
       "2017-02-10  126.760084  127.219429  126.367726  126.434714  20065458.0   \n",
       "\n",
       "                 Date  \n",
       "Date                   \n",
       "2017-02-06 2017-02-06  \n",
       "2017-02-07 2017-02-07  \n",
       "2017-02-08 2017-02-08  \n",
       "2017-02-09 2017-02-09  \n",
       "2017-02-10 2017-02-10  "
      ]
     },
     "execution_count": 55,
     "metadata": {},
     "output_type": "execute_result"
    }
   ],
   "source": [
    "data.head()"
   ]
  },
  {
   "cell_type": "code",
   "execution_count": 56,
   "metadata": {},
   "outputs": [],
   "source": [
    "#get another random \n",
    "disney = quandl.get('EOD/DIS', start_date='2017-02-05', end_date='2017-09-12')"
   ]
  },
  {
   "cell_type": "code",
   "execution_count": 58,
   "metadata": {},
   "outputs": [
    {
     "data": {
      "text/html": [
       "<div>\n",
       "<style scoped>\n",
       "    .dataframe tbody tr th:only-of-type {\n",
       "        vertical-align: middle;\n",
       "    }\n",
       "\n",
       "    .dataframe tbody tr th {\n",
       "        vertical-align: top;\n",
       "    }\n",
       "\n",
       "    .dataframe thead th {\n",
       "        text-align: right;\n",
       "    }\n",
       "</style>\n",
       "<table border=\"1\" class=\"dataframe\">\n",
       "  <thead>\n",
       "    <tr style=\"text-align: right;\">\n",
       "      <th></th>\n",
       "      <th>Open</th>\n",
       "      <th>High</th>\n",
       "      <th>Low</th>\n",
       "      <th>Close</th>\n",
       "      <th>Volume</th>\n",
       "      <th>Dividend</th>\n",
       "      <th>Split</th>\n",
       "      <th>Adj_Open</th>\n",
       "      <th>Adj_High</th>\n",
       "      <th>Adj_Low</th>\n",
       "      <th>Adj_Close</th>\n",
       "      <th>Adj_Volume</th>\n",
       "    </tr>\n",
       "    <tr>\n",
       "      <th>Date</th>\n",
       "      <th></th>\n",
       "      <th></th>\n",
       "      <th></th>\n",
       "      <th></th>\n",
       "      <th></th>\n",
       "      <th></th>\n",
       "      <th></th>\n",
       "      <th></th>\n",
       "      <th></th>\n",
       "      <th></th>\n",
       "      <th></th>\n",
       "      <th></th>\n",
       "    </tr>\n",
       "  </thead>\n",
       "  <tbody>\n",
       "    <tr>\n",
       "      <td>2017-02-06</td>\n",
       "      <td>109.92</td>\n",
       "      <td>110.15</td>\n",
       "      <td>109.3000</td>\n",
       "      <td>109.57</td>\n",
       "      <td>6892699.0</td>\n",
       "      <td>0.0</td>\n",
       "      <td>1.0</td>\n",
       "      <td>105.239866</td>\n",
       "      <td>105.460073</td>\n",
       "      <td>104.646264</td>\n",
       "      <td>104.904768</td>\n",
       "      <td>6892699.0</td>\n",
       "    </tr>\n",
       "    <tr>\n",
       "      <td>2017-02-07</td>\n",
       "      <td>109.65</td>\n",
       "      <td>109.73</td>\n",
       "      <td>108.7739</td>\n",
       "      <td>109.00</td>\n",
       "      <td>10157451.0</td>\n",
       "      <td>0.0</td>\n",
       "      <td>1.0</td>\n",
       "      <td>104.981362</td>\n",
       "      <td>105.057955</td>\n",
       "      <td>104.142564</td>\n",
       "      <td>104.359037</td>\n",
       "      <td>10157451.0</td>\n",
       "    </tr>\n",
       "  </tbody>\n",
       "</table>\n",
       "</div>"
      ],
      "text/plain": [
       "              Open    High       Low   Close      Volume  Dividend  Split  \\\n",
       "Date                                                                        \n",
       "2017-02-06  109.92  110.15  109.3000  109.57   6892699.0       0.0    1.0   \n",
       "2017-02-07  109.65  109.73  108.7739  109.00  10157451.0       0.0    1.0   \n",
       "\n",
       "              Adj_Open    Adj_High     Adj_Low   Adj_Close  Adj_Volume  \n",
       "Date                                                                    \n",
       "2017-02-06  105.239866  105.460073  104.646264  104.904768   6892699.0  \n",
       "2017-02-07  104.981362  105.057955  104.142564  104.359037  10157451.0  "
      ]
     },
     "execution_count": 58,
     "metadata": {},
     "output_type": "execute_result"
    }
   ],
   "source": [
    "disney.head(2)"
   ]
  },
  {
   "cell_type": "code",
   "execution_count": 59,
   "metadata": {},
   "outputs": [],
   "source": [
    "#get another random\n",
    "nike = quandl.get('EOD/NKE', start_date='2017-02-05', end_date='2017-09-12')"
   ]
  },
  {
   "cell_type": "code",
   "execution_count": 60,
   "metadata": {},
   "outputs": [
    {
     "data": {
      "text/html": [
       "<div>\n",
       "<style scoped>\n",
       "    .dataframe tbody tr th:only-of-type {\n",
       "        vertical-align: middle;\n",
       "    }\n",
       "\n",
       "    .dataframe tbody tr th {\n",
       "        vertical-align: top;\n",
       "    }\n",
       "\n",
       "    .dataframe thead th {\n",
       "        text-align: right;\n",
       "    }\n",
       "</style>\n",
       "<table border=\"1\" class=\"dataframe\">\n",
       "  <thead>\n",
       "    <tr style=\"text-align: right;\">\n",
       "      <th></th>\n",
       "      <th>Open</th>\n",
       "      <th>High</th>\n",
       "      <th>Low</th>\n",
       "      <th>Close</th>\n",
       "      <th>Volume</th>\n",
       "      <th>Dividend</th>\n",
       "      <th>Split</th>\n",
       "      <th>Adj_Open</th>\n",
       "      <th>Adj_High</th>\n",
       "      <th>Adj_Low</th>\n",
       "      <th>Adj_Close</th>\n",
       "      <th>Adj_Volume</th>\n",
       "    </tr>\n",
       "    <tr>\n",
       "      <th>Date</th>\n",
       "      <th></th>\n",
       "      <th></th>\n",
       "      <th></th>\n",
       "      <th></th>\n",
       "      <th></th>\n",
       "      <th></th>\n",
       "      <th></th>\n",
       "      <th></th>\n",
       "      <th></th>\n",
       "      <th></th>\n",
       "      <th></th>\n",
       "      <th></th>\n",
       "    </tr>\n",
       "  </thead>\n",
       "  <tbody>\n",
       "    <tr>\n",
       "      <td>2017-02-06</td>\n",
       "      <td>52.09</td>\n",
       "      <td>52.80</td>\n",
       "      <td>52.05</td>\n",
       "      <td>52.80</td>\n",
       "      <td>7354956.0</td>\n",
       "      <td>0.0</td>\n",
       "      <td>1.0</td>\n",
       "      <td>50.160959</td>\n",
       "      <td>50.844665</td>\n",
       "      <td>50.12244</td>\n",
       "      <td>50.844665</td>\n",
       "      <td>7354956.0</td>\n",
       "    </tr>\n",
       "    <tr>\n",
       "      <td>2017-02-07</td>\n",
       "      <td>53.07</td>\n",
       "      <td>53.28</td>\n",
       "      <td>52.67</td>\n",
       "      <td>52.81</td>\n",
       "      <td>6446876.0</td>\n",
       "      <td>0.0</td>\n",
       "      <td>1.0</td>\n",
       "      <td>51.104666</td>\n",
       "      <td>51.306889</td>\n",
       "      <td>50.71948</td>\n",
       "      <td>50.854295</td>\n",
       "      <td>6446876.0</td>\n",
       "    </tr>\n",
       "  </tbody>\n",
       "</table>\n",
       "</div>"
      ],
      "text/plain": [
       "             Open   High    Low  Close     Volume  Dividend  Split   Adj_Open  \\\n",
       "Date                                                                            \n",
       "2017-02-06  52.09  52.80  52.05  52.80  7354956.0       0.0    1.0  50.160959   \n",
       "2017-02-07  53.07  53.28  52.67  52.81  6446876.0       0.0    1.0  51.104666   \n",
       "\n",
       "             Adj_High   Adj_Low  Adj_Close  Adj_Volume  \n",
       "Date                                                    \n",
       "2017-02-06  50.844665  50.12244  50.844665   7354956.0  \n",
       "2017-02-07  51.306889  50.71948  50.854295   6446876.0  "
      ]
     },
     "execution_count": 60,
     "metadata": {},
     "output_type": "execute_result"
    }
   ],
   "source": [
    "nike.head(2)"
   ]
  },
  {
   "cell_type": "code",
   "execution_count": 61,
   "metadata": {},
   "outputs": [],
   "source": [
    "disney['Date'] = disney.index\n",
    "data['Date'] = data.index\n",
    "nike['Date'] = nike.index"
   ]
  },
  {
   "cell_type": "code",
   "execution_count": 62,
   "metadata": {},
   "outputs": [],
   "source": [
    "disney['Name'] = 'Disney'\n",
    "data['Name'] = 'Apple'\n",
    "nike['Name'] = 'Nike'"
   ]
  },
  {
   "cell_type": "code",
   "execution_count": 63,
   "metadata": {},
   "outputs": [],
   "source": [
    "SMA = data['Adj_Close'].rolling(50).mean()\n",
    "SMAd = disney['Adj_Close'].rolling(50).mean()\n",
    "SMAn = nike['Adj_Close'].rolling(50).mean()"
   ]
  },
  {
   "cell_type": "code",
   "execution_count": 64,
   "metadata": {},
   "outputs": [],
   "source": [
    "data['SMA'] = SMA\n",
    "disney['SMA'] = SMAd\n",
    "nike['SMA'] = SMAn"
   ]
  },
  {
   "cell_type": "code",
   "execution_count": 65,
   "metadata": {},
   "outputs": [
    {
     "data": {
      "application/vnd.plotly.v1+json": {
       "config": {
        "plotlyServerURL": "https://plot.ly"
       },
       "data": [
        {
         "hovertemplate": "Date=%{x}<br>SMA=%{y}<extra></extra>",
         "legendgroup": "",
         "line": {
          "color": "#636efa",
          "dash": "solid"
         },
         "mode": "lines",
         "name": "",
         "showlegend": false,
         "type": "scatter",
         "x": [
          "2017-02-06T00:00:00",
          "2017-02-07T00:00:00",
          "2017-02-08T00:00:00",
          "2017-02-09T00:00:00",
          "2017-02-10T00:00:00",
          "2017-02-13T00:00:00",
          "2017-02-14T00:00:00",
          "2017-02-15T00:00:00",
          "2017-02-16T00:00:00",
          "2017-02-17T00:00:00",
          "2017-02-21T00:00:00",
          "2017-02-22T00:00:00",
          "2017-02-23T00:00:00",
          "2017-02-24T00:00:00",
          "2017-02-27T00:00:00",
          "2017-02-28T00:00:00",
          "2017-03-01T00:00:00",
          "2017-03-02T00:00:00",
          "2017-03-03T00:00:00",
          "2017-03-06T00:00:00",
          "2017-03-07T00:00:00",
          "2017-03-08T00:00:00",
          "2017-03-09T00:00:00",
          "2017-03-10T00:00:00",
          "2017-03-13T00:00:00",
          "2017-03-14T00:00:00",
          "2017-03-15T00:00:00",
          "2017-03-16T00:00:00",
          "2017-03-17T00:00:00",
          "2017-03-20T00:00:00",
          "2017-03-21T00:00:00",
          "2017-03-22T00:00:00",
          "2017-03-23T00:00:00",
          "2017-03-24T00:00:00",
          "2017-03-27T00:00:00",
          "2017-03-28T00:00:00",
          "2017-03-29T00:00:00",
          "2017-03-30T00:00:00",
          "2017-03-31T00:00:00",
          "2017-04-03T00:00:00",
          "2017-04-04T00:00:00",
          "2017-04-05T00:00:00",
          "2017-04-06T00:00:00",
          "2017-04-07T00:00:00",
          "2017-04-10T00:00:00",
          "2017-04-11T00:00:00",
          "2017-04-12T00:00:00",
          "2017-04-13T00:00:00",
          "2017-04-17T00:00:00",
          "2017-04-18T00:00:00",
          "2017-04-19T00:00:00",
          "2017-04-20T00:00:00",
          "2017-04-21T00:00:00",
          "2017-04-24T00:00:00",
          "2017-04-25T00:00:00",
          "2017-04-26T00:00:00",
          "2017-04-27T00:00:00",
          "2017-04-28T00:00:00",
          "2017-05-01T00:00:00",
          "2017-05-02T00:00:00",
          "2017-05-03T00:00:00",
          "2017-05-04T00:00:00",
          "2017-05-05T00:00:00",
          "2017-05-08T00:00:00",
          "2017-05-09T00:00:00",
          "2017-05-10T00:00:00",
          "2017-05-11T00:00:00",
          "2017-05-12T00:00:00",
          "2017-05-15T00:00:00",
          "2017-05-16T00:00:00",
          "2017-05-17T00:00:00",
          "2017-05-18T00:00:00",
          "2017-05-19T00:00:00",
          "2017-05-22T00:00:00",
          "2017-05-23T00:00:00",
          "2017-05-24T00:00:00",
          "2017-05-25T00:00:00",
          "2017-05-26T00:00:00",
          "2017-05-30T00:00:00",
          "2017-05-31T00:00:00",
          "2017-06-01T00:00:00",
          "2017-06-02T00:00:00",
          "2017-06-05T00:00:00",
          "2017-06-06T00:00:00",
          "2017-06-07T00:00:00",
          "2017-06-08T00:00:00",
          "2017-06-09T00:00:00",
          "2017-06-12T00:00:00",
          "2017-06-13T00:00:00",
          "2017-06-14T00:00:00",
          "2017-06-15T00:00:00",
          "2017-06-16T00:00:00",
          "2017-06-19T00:00:00",
          "2017-06-20T00:00:00",
          "2017-06-21T00:00:00",
          "2017-06-22T00:00:00",
          "2017-06-23T00:00:00",
          "2017-06-26T00:00:00",
          "2017-06-27T00:00:00",
          "2017-06-28T00:00:00",
          "2017-06-29T00:00:00",
          "2017-06-30T00:00:00",
          "2017-07-03T00:00:00",
          "2017-07-05T00:00:00",
          "2017-07-06T00:00:00",
          "2017-07-07T00:00:00",
          "2017-07-10T00:00:00",
          "2017-07-11T00:00:00",
          "2017-07-12T00:00:00",
          "2017-07-13T00:00:00",
          "2017-07-14T00:00:00",
          "2017-07-17T00:00:00",
          "2017-07-18T00:00:00",
          "2017-07-19T00:00:00",
          "2017-07-20T00:00:00",
          "2017-07-21T00:00:00",
          "2017-07-24T00:00:00",
          "2017-07-25T00:00:00",
          "2017-07-26T00:00:00",
          "2017-07-27T00:00:00",
          "2017-07-28T00:00:00",
          "2017-07-31T00:00:00",
          "2017-08-01T00:00:00",
          "2017-08-02T00:00:00",
          "2017-08-03T00:00:00",
          "2017-08-04T00:00:00",
          "2017-08-07T00:00:00",
          "2017-08-08T00:00:00",
          "2017-08-09T00:00:00",
          "2017-08-10T00:00:00",
          "2017-08-11T00:00:00",
          "2017-08-14T00:00:00",
          "2017-08-15T00:00:00",
          "2017-08-16T00:00:00",
          "2017-08-17T00:00:00",
          "2017-08-18T00:00:00",
          "2017-08-21T00:00:00",
          "2017-08-22T00:00:00",
          "2017-08-23T00:00:00",
          "2017-08-24T00:00:00",
          "2017-08-25T00:00:00",
          "2017-08-28T00:00:00",
          "2017-08-29T00:00:00",
          "2017-08-30T00:00:00",
          "2017-08-31T00:00:00",
          "2017-09-01T00:00:00",
          "2017-09-05T00:00:00",
          "2017-09-06T00:00:00",
          "2017-09-07T00:00:00",
          "2017-09-08T00:00:00",
          "2017-09-11T00:00:00",
          "2017-09-12T00:00:00"
         ],
         "xaxis": "x",
         "y": [
          null,
          null,
          null,
          null,
          null,
          null,
          null,
          null,
          null,
          null,
          null,
          null,
          null,
          null,
          null,
          null,
          null,
          null,
          null,
          null,
          null,
          null,
          null,
          null,
          null,
          null,
          null,
          null,
          null,
          null,
          null,
          null,
          null,
          null,
          null,
          null,
          null,
          null,
          null,
          null,
          null,
          null,
          null,
          null,
          null,
          null,
          null,
          null,
          null,
          133.150661765378,
          133.36020783373743,
          133.5798080970884,
          133.7864354214854,
          134.001179214031,
          134.2386988633616,
          134.4375569742838,
          134.6054092969776,
          134.76120381313797,
          134.97623469631517,
          135.20188793286698,
          135.4001718625256,
          135.5804647792616,
          135.8183672161012,
          136.1312960047036,
          136.45781374987519,
          136.7692113884416,
          137.05228275134257,
          137.3925578472638,
          137.70945157598658,
          138.03034655929258,
          138.24748006976537,
          138.51857458463437,
          138.80578690277576,
          139.10206756765194,
          139.39354850731957,
          139.68020857460235,
          139.94891914008596,
          140.20823104765196,
          140.48209357993218,
          140.71033312482638,
          140.977649891245,
          141.25835061964918,
          141.51941013432537,
          141.79582187725597,
          142.0853204525372,
          142.311629326142,
          142.41631523267438,
          142.456222614508,
          142.52378233475238,
          142.56309517137518,
          142.56520947872457,
          142.54285856704658,
          142.6056138627098,
          142.6489342197458,
          142.712035491167,
          142.799999153183,
          142.89720062528318,
          142.9999164877416,
          143.04753864785158,
          143.14757578097579,
          143.21624733793678,
          143.2577676115366,
          143.29254837583437,
          143.31244663777719,
          143.2891747858488,
          143.3100370656228,
          143.3457055886226,
          143.39308594239776,
          143.38842364275357,
          143.40497365153936,
          143.45454285614917,
          143.52424913287578,
          143.55743993038837,
          143.53118089375437,
          143.47309723431937,
          143.42764008007975,
          143.39189516119657,
          143.3273236948272,
          143.2842760505808,
          143.18991715180877,
          143.17550387806557,
          143.1022844474504,
          143.0444391754946,
          143.1049749252158,
          143.1389902512496,
          143.1976042311384,
          143.29253966085997,
          143.4168781690176,
          143.558896921198,
          143.6202013788522,
          143.71511300297797,
          143.81213113776397,
          143.97212755807377,
          144.10958860402854,
          144.16974581507958,
          144.23025931819916,
          144.4006754503156,
          144.68909640393036,
          144.95889178011396,
          145.24246855479237,
          145.55414915935697,
          145.93571550788155,
          146.26685155740518,
          146.63203723083797,
          146.99323785493817,
          147.36001550903836,
          147.67628923258778,
          147.99812283719956,
          148.34757926008257,
          148.60593096213776,
          148.96097922546656,
          149.29714425661916
         ],
         "yaxis": "y"
        }
       ],
       "layout": {
        "legend": {
         "tracegroupgap": 0
        },
        "template": {
         "data": {
          "bar": [
           {
            "error_x": {
             "color": "#2a3f5f"
            },
            "error_y": {
             "color": "#2a3f5f"
            },
            "marker": {
             "line": {
              "color": "#E5ECF6",
              "width": 0.5
             }
            },
            "type": "bar"
           }
          ],
          "barpolar": [
           {
            "marker": {
             "line": {
              "color": "#E5ECF6",
              "width": 0.5
             }
            },
            "type": "barpolar"
           }
          ],
          "carpet": [
           {
            "aaxis": {
             "endlinecolor": "#2a3f5f",
             "gridcolor": "white",
             "linecolor": "white",
             "minorgridcolor": "white",
             "startlinecolor": "#2a3f5f"
            },
            "baxis": {
             "endlinecolor": "#2a3f5f",
             "gridcolor": "white",
             "linecolor": "white",
             "minorgridcolor": "white",
             "startlinecolor": "#2a3f5f"
            },
            "type": "carpet"
           }
          ],
          "choropleth": [
           {
            "colorbar": {
             "outlinewidth": 0,
             "ticks": ""
            },
            "type": "choropleth"
           }
          ],
          "contour": [
           {
            "colorbar": {
             "outlinewidth": 0,
             "ticks": ""
            },
            "colorscale": [
             [
              0,
              "#0d0887"
             ],
             [
              0.1111111111111111,
              "#46039f"
             ],
             [
              0.2222222222222222,
              "#7201a8"
             ],
             [
              0.3333333333333333,
              "#9c179e"
             ],
             [
              0.4444444444444444,
              "#bd3786"
             ],
             [
              0.5555555555555556,
              "#d8576b"
             ],
             [
              0.6666666666666666,
              "#ed7953"
             ],
             [
              0.7777777777777778,
              "#fb9f3a"
             ],
             [
              0.8888888888888888,
              "#fdca26"
             ],
             [
              1,
              "#f0f921"
             ]
            ],
            "type": "contour"
           }
          ],
          "contourcarpet": [
           {
            "colorbar": {
             "outlinewidth": 0,
             "ticks": ""
            },
            "type": "contourcarpet"
           }
          ],
          "heatmap": [
           {
            "colorbar": {
             "outlinewidth": 0,
             "ticks": ""
            },
            "colorscale": [
             [
              0,
              "#0d0887"
             ],
             [
              0.1111111111111111,
              "#46039f"
             ],
             [
              0.2222222222222222,
              "#7201a8"
             ],
             [
              0.3333333333333333,
              "#9c179e"
             ],
             [
              0.4444444444444444,
              "#bd3786"
             ],
             [
              0.5555555555555556,
              "#d8576b"
             ],
             [
              0.6666666666666666,
              "#ed7953"
             ],
             [
              0.7777777777777778,
              "#fb9f3a"
             ],
             [
              0.8888888888888888,
              "#fdca26"
             ],
             [
              1,
              "#f0f921"
             ]
            ],
            "type": "heatmap"
           }
          ],
          "heatmapgl": [
           {
            "colorbar": {
             "outlinewidth": 0,
             "ticks": ""
            },
            "colorscale": [
             [
              0,
              "#0d0887"
             ],
             [
              0.1111111111111111,
              "#46039f"
             ],
             [
              0.2222222222222222,
              "#7201a8"
             ],
             [
              0.3333333333333333,
              "#9c179e"
             ],
             [
              0.4444444444444444,
              "#bd3786"
             ],
             [
              0.5555555555555556,
              "#d8576b"
             ],
             [
              0.6666666666666666,
              "#ed7953"
             ],
             [
              0.7777777777777778,
              "#fb9f3a"
             ],
             [
              0.8888888888888888,
              "#fdca26"
             ],
             [
              1,
              "#f0f921"
             ]
            ],
            "type": "heatmapgl"
           }
          ],
          "histogram": [
           {
            "marker": {
             "colorbar": {
              "outlinewidth": 0,
              "ticks": ""
             }
            },
            "type": "histogram"
           }
          ],
          "histogram2d": [
           {
            "colorbar": {
             "outlinewidth": 0,
             "ticks": ""
            },
            "colorscale": [
             [
              0,
              "#0d0887"
             ],
             [
              0.1111111111111111,
              "#46039f"
             ],
             [
              0.2222222222222222,
              "#7201a8"
             ],
             [
              0.3333333333333333,
              "#9c179e"
             ],
             [
              0.4444444444444444,
              "#bd3786"
             ],
             [
              0.5555555555555556,
              "#d8576b"
             ],
             [
              0.6666666666666666,
              "#ed7953"
             ],
             [
              0.7777777777777778,
              "#fb9f3a"
             ],
             [
              0.8888888888888888,
              "#fdca26"
             ],
             [
              1,
              "#f0f921"
             ]
            ],
            "type": "histogram2d"
           }
          ],
          "histogram2dcontour": [
           {
            "colorbar": {
             "outlinewidth": 0,
             "ticks": ""
            },
            "colorscale": [
             [
              0,
              "#0d0887"
             ],
             [
              0.1111111111111111,
              "#46039f"
             ],
             [
              0.2222222222222222,
              "#7201a8"
             ],
             [
              0.3333333333333333,
              "#9c179e"
             ],
             [
              0.4444444444444444,
              "#bd3786"
             ],
             [
              0.5555555555555556,
              "#d8576b"
             ],
             [
              0.6666666666666666,
              "#ed7953"
             ],
             [
              0.7777777777777778,
              "#fb9f3a"
             ],
             [
              0.8888888888888888,
              "#fdca26"
             ],
             [
              1,
              "#f0f921"
             ]
            ],
            "type": "histogram2dcontour"
           }
          ],
          "mesh3d": [
           {
            "colorbar": {
             "outlinewidth": 0,
             "ticks": ""
            },
            "type": "mesh3d"
           }
          ],
          "parcoords": [
           {
            "line": {
             "colorbar": {
              "outlinewidth": 0,
              "ticks": ""
             }
            },
            "type": "parcoords"
           }
          ],
          "pie": [
           {
            "automargin": true,
            "type": "pie"
           }
          ],
          "scatter": [
           {
            "marker": {
             "colorbar": {
              "outlinewidth": 0,
              "ticks": ""
             }
            },
            "type": "scatter"
           }
          ],
          "scatter3d": [
           {
            "line": {
             "colorbar": {
              "outlinewidth": 0,
              "ticks": ""
             }
            },
            "marker": {
             "colorbar": {
              "outlinewidth": 0,
              "ticks": ""
             }
            },
            "type": "scatter3d"
           }
          ],
          "scattercarpet": [
           {
            "marker": {
             "colorbar": {
              "outlinewidth": 0,
              "ticks": ""
             }
            },
            "type": "scattercarpet"
           }
          ],
          "scattergeo": [
           {
            "marker": {
             "colorbar": {
              "outlinewidth": 0,
              "ticks": ""
             }
            },
            "type": "scattergeo"
           }
          ],
          "scattergl": [
           {
            "marker": {
             "colorbar": {
              "outlinewidth": 0,
              "ticks": ""
             }
            },
            "type": "scattergl"
           }
          ],
          "scattermapbox": [
           {
            "marker": {
             "colorbar": {
              "outlinewidth": 0,
              "ticks": ""
             }
            },
            "type": "scattermapbox"
           }
          ],
          "scatterpolar": [
           {
            "marker": {
             "colorbar": {
              "outlinewidth": 0,
              "ticks": ""
             }
            },
            "type": "scatterpolar"
           }
          ],
          "scatterpolargl": [
           {
            "marker": {
             "colorbar": {
              "outlinewidth": 0,
              "ticks": ""
             }
            },
            "type": "scatterpolargl"
           }
          ],
          "scatterternary": [
           {
            "marker": {
             "colorbar": {
              "outlinewidth": 0,
              "ticks": ""
             }
            },
            "type": "scatterternary"
           }
          ],
          "surface": [
           {
            "colorbar": {
             "outlinewidth": 0,
             "ticks": ""
            },
            "colorscale": [
             [
              0,
              "#0d0887"
             ],
             [
              0.1111111111111111,
              "#46039f"
             ],
             [
              0.2222222222222222,
              "#7201a8"
             ],
             [
              0.3333333333333333,
              "#9c179e"
             ],
             [
              0.4444444444444444,
              "#bd3786"
             ],
             [
              0.5555555555555556,
              "#d8576b"
             ],
             [
              0.6666666666666666,
              "#ed7953"
             ],
             [
              0.7777777777777778,
              "#fb9f3a"
             ],
             [
              0.8888888888888888,
              "#fdca26"
             ],
             [
              1,
              "#f0f921"
             ]
            ],
            "type": "surface"
           }
          ],
          "table": [
           {
            "cells": {
             "fill": {
              "color": "#EBF0F8"
             },
             "line": {
              "color": "white"
             }
            },
            "header": {
             "fill": {
              "color": "#C8D4E3"
             },
             "line": {
              "color": "white"
             }
            },
            "type": "table"
           }
          ]
         },
         "layout": {
          "annotationdefaults": {
           "arrowcolor": "#2a3f5f",
           "arrowhead": 0,
           "arrowwidth": 1
          },
          "coloraxis": {
           "colorbar": {
            "outlinewidth": 0,
            "ticks": ""
           }
          },
          "colorscale": {
           "diverging": [
            [
             0,
             "#8e0152"
            ],
            [
             0.1,
             "#c51b7d"
            ],
            [
             0.2,
             "#de77ae"
            ],
            [
             0.3,
             "#f1b6da"
            ],
            [
             0.4,
             "#fde0ef"
            ],
            [
             0.5,
             "#f7f7f7"
            ],
            [
             0.6,
             "#e6f5d0"
            ],
            [
             0.7,
             "#b8e186"
            ],
            [
             0.8,
             "#7fbc41"
            ],
            [
             0.9,
             "#4d9221"
            ],
            [
             1,
             "#276419"
            ]
           ],
           "sequential": [
            [
             0,
             "#0d0887"
            ],
            [
             0.1111111111111111,
             "#46039f"
            ],
            [
             0.2222222222222222,
             "#7201a8"
            ],
            [
             0.3333333333333333,
             "#9c179e"
            ],
            [
             0.4444444444444444,
             "#bd3786"
            ],
            [
             0.5555555555555556,
             "#d8576b"
            ],
            [
             0.6666666666666666,
             "#ed7953"
            ],
            [
             0.7777777777777778,
             "#fb9f3a"
            ],
            [
             0.8888888888888888,
             "#fdca26"
            ],
            [
             1,
             "#f0f921"
            ]
           ],
           "sequentialminus": [
            [
             0,
             "#0d0887"
            ],
            [
             0.1111111111111111,
             "#46039f"
            ],
            [
             0.2222222222222222,
             "#7201a8"
            ],
            [
             0.3333333333333333,
             "#9c179e"
            ],
            [
             0.4444444444444444,
             "#bd3786"
            ],
            [
             0.5555555555555556,
             "#d8576b"
            ],
            [
             0.6666666666666666,
             "#ed7953"
            ],
            [
             0.7777777777777778,
             "#fb9f3a"
            ],
            [
             0.8888888888888888,
             "#fdca26"
            ],
            [
             1,
             "#f0f921"
            ]
           ]
          },
          "colorway": [
           "#636efa",
           "#EF553B",
           "#00cc96",
           "#ab63fa",
           "#FFA15A",
           "#19d3f3",
           "#FF6692",
           "#B6E880",
           "#FF97FF",
           "#FECB52"
          ],
          "font": {
           "color": "#2a3f5f"
          },
          "geo": {
           "bgcolor": "white",
           "lakecolor": "white",
           "landcolor": "#E5ECF6",
           "showlakes": true,
           "showland": true,
           "subunitcolor": "white"
          },
          "hoverlabel": {
           "align": "left"
          },
          "hovermode": "closest",
          "mapbox": {
           "style": "light"
          },
          "paper_bgcolor": "white",
          "plot_bgcolor": "#E5ECF6",
          "polar": {
           "angularaxis": {
            "gridcolor": "white",
            "linecolor": "white",
            "ticks": ""
           },
           "bgcolor": "#E5ECF6",
           "radialaxis": {
            "gridcolor": "white",
            "linecolor": "white",
            "ticks": ""
           }
          },
          "scene": {
           "xaxis": {
            "backgroundcolor": "#E5ECF6",
            "gridcolor": "white",
            "gridwidth": 2,
            "linecolor": "white",
            "showbackground": true,
            "ticks": "",
            "zerolinecolor": "white"
           },
           "yaxis": {
            "backgroundcolor": "#E5ECF6",
            "gridcolor": "white",
            "gridwidth": 2,
            "linecolor": "white",
            "showbackground": true,
            "ticks": "",
            "zerolinecolor": "white"
           },
           "zaxis": {
            "backgroundcolor": "#E5ECF6",
            "gridcolor": "white",
            "gridwidth": 2,
            "linecolor": "white",
            "showbackground": true,
            "ticks": "",
            "zerolinecolor": "white"
           }
          },
          "shapedefaults": {
           "line": {
            "color": "#2a3f5f"
           }
          },
          "ternary": {
           "aaxis": {
            "gridcolor": "white",
            "linecolor": "white",
            "ticks": ""
           },
           "baxis": {
            "gridcolor": "white",
            "linecolor": "white",
            "ticks": ""
           },
           "bgcolor": "#E5ECF6",
           "caxis": {
            "gridcolor": "white",
            "linecolor": "white",
            "ticks": ""
           }
          },
          "title": {
           "x": 0.05
          },
          "xaxis": {
           "automargin": true,
           "gridcolor": "white",
           "linecolor": "white",
           "ticks": "",
           "title": {
            "standoff": 15
           },
           "zerolinecolor": "white",
           "zerolinewidth": 2
          },
          "yaxis": {
           "automargin": true,
           "gridcolor": "white",
           "linecolor": "white",
           "ticks": "",
           "title": {
            "standoff": 15
           },
           "zerolinecolor": "white",
           "zerolinewidth": 2
          }
         }
        },
        "title": {
         "text": "SMA Closing Price"
        },
        "xaxis": {
         "anchor": "y",
         "domain": [
          0,
          1
         ],
         "title": {
          "text": "Date"
         }
        },
        "yaxis": {
         "anchor": "x",
         "domain": [
          0,
          1
         ],
         "title": {
          "text": "SMA"
         }
        }
       }
      },
      "text/html": [
       "<div>\n",
       "        \n",
       "        \n",
       "            <div id=\"8f9e37c1-5208-490a-b2e8-8325e30f1b11\" class=\"plotly-graph-div\" style=\"height:525px; width:100%;\"></div>\n",
       "            <script type=\"text/javascript\">\n",
       "                require([\"plotly\"], function(Plotly) {\n",
       "                    window.PLOTLYENV=window.PLOTLYENV || {};\n",
       "                    \n",
       "                if (document.getElementById(\"8f9e37c1-5208-490a-b2e8-8325e30f1b11\")) {\n",
       "                    Plotly.newPlot(\n",
       "                        '8f9e37c1-5208-490a-b2e8-8325e30f1b11',\n",
       "                        [{\"hovertemplate\": \"Date=%{x}<br>SMA=%{y}<extra></extra>\", \"legendgroup\": \"\", \"line\": {\"color\": \"#636efa\", \"dash\": \"solid\"}, \"mode\": \"lines\", \"name\": \"\", \"showlegend\": false, \"type\": \"scatter\", \"x\": [\"2017-02-06T00:00:00\", \"2017-02-07T00:00:00\", \"2017-02-08T00:00:00\", \"2017-02-09T00:00:00\", \"2017-02-10T00:00:00\", \"2017-02-13T00:00:00\", \"2017-02-14T00:00:00\", \"2017-02-15T00:00:00\", \"2017-02-16T00:00:00\", \"2017-02-17T00:00:00\", \"2017-02-21T00:00:00\", \"2017-02-22T00:00:00\", \"2017-02-23T00:00:00\", \"2017-02-24T00:00:00\", \"2017-02-27T00:00:00\", \"2017-02-28T00:00:00\", \"2017-03-01T00:00:00\", \"2017-03-02T00:00:00\", \"2017-03-03T00:00:00\", \"2017-03-06T00:00:00\", \"2017-03-07T00:00:00\", \"2017-03-08T00:00:00\", \"2017-03-09T00:00:00\", \"2017-03-10T00:00:00\", \"2017-03-13T00:00:00\", \"2017-03-14T00:00:00\", \"2017-03-15T00:00:00\", \"2017-03-16T00:00:00\", \"2017-03-17T00:00:00\", \"2017-03-20T00:00:00\", \"2017-03-21T00:00:00\", \"2017-03-22T00:00:00\", \"2017-03-23T00:00:00\", \"2017-03-24T00:00:00\", \"2017-03-27T00:00:00\", \"2017-03-28T00:00:00\", \"2017-03-29T00:00:00\", \"2017-03-30T00:00:00\", \"2017-03-31T00:00:00\", \"2017-04-03T00:00:00\", \"2017-04-04T00:00:00\", \"2017-04-05T00:00:00\", \"2017-04-06T00:00:00\", \"2017-04-07T00:00:00\", \"2017-04-10T00:00:00\", \"2017-04-11T00:00:00\", \"2017-04-12T00:00:00\", \"2017-04-13T00:00:00\", \"2017-04-17T00:00:00\", \"2017-04-18T00:00:00\", \"2017-04-19T00:00:00\", \"2017-04-20T00:00:00\", \"2017-04-21T00:00:00\", \"2017-04-24T00:00:00\", \"2017-04-25T00:00:00\", \"2017-04-26T00:00:00\", \"2017-04-27T00:00:00\", \"2017-04-28T00:00:00\", \"2017-05-01T00:00:00\", \"2017-05-02T00:00:00\", \"2017-05-03T00:00:00\", \"2017-05-04T00:00:00\", \"2017-05-05T00:00:00\", \"2017-05-08T00:00:00\", \"2017-05-09T00:00:00\", \"2017-05-10T00:00:00\", \"2017-05-11T00:00:00\", \"2017-05-12T00:00:00\", \"2017-05-15T00:00:00\", \"2017-05-16T00:00:00\", \"2017-05-17T00:00:00\", \"2017-05-18T00:00:00\", \"2017-05-19T00:00:00\", \"2017-05-22T00:00:00\", \"2017-05-23T00:00:00\", \"2017-05-24T00:00:00\", \"2017-05-25T00:00:00\", \"2017-05-26T00:00:00\", \"2017-05-30T00:00:00\", \"2017-05-31T00:00:00\", \"2017-06-01T00:00:00\", \"2017-06-02T00:00:00\", \"2017-06-05T00:00:00\", \"2017-06-06T00:00:00\", \"2017-06-07T00:00:00\", \"2017-06-08T00:00:00\", \"2017-06-09T00:00:00\", \"2017-06-12T00:00:00\", \"2017-06-13T00:00:00\", \"2017-06-14T00:00:00\", \"2017-06-15T00:00:00\", \"2017-06-16T00:00:00\", \"2017-06-19T00:00:00\", \"2017-06-20T00:00:00\", \"2017-06-21T00:00:00\", \"2017-06-22T00:00:00\", \"2017-06-23T00:00:00\", \"2017-06-26T00:00:00\", \"2017-06-27T00:00:00\", \"2017-06-28T00:00:00\", \"2017-06-29T00:00:00\", \"2017-06-30T00:00:00\", \"2017-07-03T00:00:00\", \"2017-07-05T00:00:00\", \"2017-07-06T00:00:00\", \"2017-07-07T00:00:00\", \"2017-07-10T00:00:00\", \"2017-07-11T00:00:00\", \"2017-07-12T00:00:00\", \"2017-07-13T00:00:00\", \"2017-07-14T00:00:00\", \"2017-07-17T00:00:00\", \"2017-07-18T00:00:00\", \"2017-07-19T00:00:00\", \"2017-07-20T00:00:00\", \"2017-07-21T00:00:00\", \"2017-07-24T00:00:00\", \"2017-07-25T00:00:00\", \"2017-07-26T00:00:00\", \"2017-07-27T00:00:00\", \"2017-07-28T00:00:00\", \"2017-07-31T00:00:00\", \"2017-08-01T00:00:00\", \"2017-08-02T00:00:00\", \"2017-08-03T00:00:00\", \"2017-08-04T00:00:00\", \"2017-08-07T00:00:00\", \"2017-08-08T00:00:00\", \"2017-08-09T00:00:00\", \"2017-08-10T00:00:00\", \"2017-08-11T00:00:00\", \"2017-08-14T00:00:00\", \"2017-08-15T00:00:00\", \"2017-08-16T00:00:00\", \"2017-08-17T00:00:00\", \"2017-08-18T00:00:00\", \"2017-08-21T00:00:00\", \"2017-08-22T00:00:00\", \"2017-08-23T00:00:00\", \"2017-08-24T00:00:00\", \"2017-08-25T00:00:00\", \"2017-08-28T00:00:00\", \"2017-08-29T00:00:00\", \"2017-08-30T00:00:00\", \"2017-08-31T00:00:00\", \"2017-09-01T00:00:00\", \"2017-09-05T00:00:00\", \"2017-09-06T00:00:00\", \"2017-09-07T00:00:00\", \"2017-09-08T00:00:00\", \"2017-09-11T00:00:00\", \"2017-09-12T00:00:00\"], \"xaxis\": \"x\", \"y\": [null, null, null, null, null, null, null, null, null, null, null, null, null, null, null, null, null, null, null, null, null, null, null, null, null, null, null, null, null, null, null, null, null, null, null, null, null, null, null, null, null, null, null, null, null, null, null, null, null, 133.150661765378, 133.36020783373743, 133.5798080970884, 133.7864354214854, 134.001179214031, 134.2386988633616, 134.4375569742838, 134.6054092969776, 134.76120381313797, 134.97623469631517, 135.20188793286698, 135.4001718625256, 135.5804647792616, 135.8183672161012, 136.1312960047036, 136.45781374987519, 136.7692113884416, 137.05228275134257, 137.3925578472638, 137.70945157598658, 138.03034655929258, 138.24748006976537, 138.51857458463437, 138.80578690277576, 139.10206756765194, 139.39354850731957, 139.68020857460235, 139.94891914008596, 140.20823104765196, 140.48209357993218, 140.71033312482638, 140.977649891245, 141.25835061964918, 141.51941013432537, 141.79582187725597, 142.0853204525372, 142.311629326142, 142.41631523267438, 142.456222614508, 142.52378233475238, 142.56309517137518, 142.56520947872457, 142.54285856704658, 142.6056138627098, 142.6489342197458, 142.712035491167, 142.799999153183, 142.89720062528318, 142.9999164877416, 143.04753864785158, 143.14757578097579, 143.21624733793678, 143.2577676115366, 143.29254837583437, 143.31244663777719, 143.2891747858488, 143.3100370656228, 143.3457055886226, 143.39308594239776, 143.38842364275357, 143.40497365153936, 143.45454285614917, 143.52424913287578, 143.55743993038837, 143.53118089375437, 143.47309723431937, 143.42764008007975, 143.39189516119657, 143.3273236948272, 143.2842760505808, 143.18991715180877, 143.17550387806557, 143.1022844474504, 143.0444391754946, 143.1049749252158, 143.1389902512496, 143.1976042311384, 143.29253966085997, 143.4168781690176, 143.558896921198, 143.6202013788522, 143.71511300297797, 143.81213113776397, 143.97212755807377, 144.10958860402854, 144.16974581507958, 144.23025931819916, 144.4006754503156, 144.68909640393036, 144.95889178011396, 145.24246855479237, 145.55414915935697, 145.93571550788155, 146.26685155740518, 146.63203723083797, 146.99323785493817, 147.36001550903836, 147.67628923258778, 147.99812283719956, 148.34757926008257, 148.60593096213776, 148.96097922546656, 149.29714425661916], \"yaxis\": \"y\"}],\n",
       "                        {\"legend\": {\"tracegroupgap\": 0}, \"template\": {\"data\": {\"bar\": [{\"error_x\": {\"color\": \"#2a3f5f\"}, \"error_y\": {\"color\": \"#2a3f5f\"}, \"marker\": {\"line\": {\"color\": \"#E5ECF6\", \"width\": 0.5}}, \"type\": \"bar\"}], \"barpolar\": [{\"marker\": {\"line\": {\"color\": \"#E5ECF6\", \"width\": 0.5}}, \"type\": \"barpolar\"}], \"carpet\": [{\"aaxis\": {\"endlinecolor\": \"#2a3f5f\", \"gridcolor\": \"white\", \"linecolor\": \"white\", \"minorgridcolor\": \"white\", \"startlinecolor\": \"#2a3f5f\"}, \"baxis\": {\"endlinecolor\": \"#2a3f5f\", \"gridcolor\": \"white\", \"linecolor\": \"white\", \"minorgridcolor\": \"white\", \"startlinecolor\": \"#2a3f5f\"}, \"type\": \"carpet\"}], \"choropleth\": [{\"colorbar\": {\"outlinewidth\": 0, \"ticks\": \"\"}, \"type\": \"choropleth\"}], \"contour\": [{\"colorbar\": {\"outlinewidth\": 0, \"ticks\": \"\"}, \"colorscale\": [[0.0, \"#0d0887\"], [0.1111111111111111, \"#46039f\"], [0.2222222222222222, \"#7201a8\"], [0.3333333333333333, \"#9c179e\"], [0.4444444444444444, \"#bd3786\"], [0.5555555555555556, \"#d8576b\"], [0.6666666666666666, \"#ed7953\"], [0.7777777777777778, \"#fb9f3a\"], [0.8888888888888888, \"#fdca26\"], [1.0, \"#f0f921\"]], \"type\": \"contour\"}], \"contourcarpet\": [{\"colorbar\": {\"outlinewidth\": 0, \"ticks\": \"\"}, \"type\": \"contourcarpet\"}], \"heatmap\": [{\"colorbar\": {\"outlinewidth\": 0, \"ticks\": \"\"}, \"colorscale\": [[0.0, \"#0d0887\"], [0.1111111111111111, \"#46039f\"], [0.2222222222222222, \"#7201a8\"], [0.3333333333333333, \"#9c179e\"], [0.4444444444444444, \"#bd3786\"], [0.5555555555555556, \"#d8576b\"], [0.6666666666666666, \"#ed7953\"], [0.7777777777777778, \"#fb9f3a\"], [0.8888888888888888, \"#fdca26\"], [1.0, \"#f0f921\"]], \"type\": \"heatmap\"}], \"heatmapgl\": [{\"colorbar\": {\"outlinewidth\": 0, \"ticks\": \"\"}, \"colorscale\": [[0.0, \"#0d0887\"], [0.1111111111111111, \"#46039f\"], [0.2222222222222222, \"#7201a8\"], [0.3333333333333333, \"#9c179e\"], [0.4444444444444444, \"#bd3786\"], [0.5555555555555556, \"#d8576b\"], [0.6666666666666666, \"#ed7953\"], [0.7777777777777778, \"#fb9f3a\"], [0.8888888888888888, \"#fdca26\"], [1.0, \"#f0f921\"]], \"type\": \"heatmapgl\"}], \"histogram\": [{\"marker\": {\"colorbar\": {\"outlinewidth\": 0, \"ticks\": \"\"}}, \"type\": \"histogram\"}], \"histogram2d\": [{\"colorbar\": {\"outlinewidth\": 0, \"ticks\": \"\"}, \"colorscale\": [[0.0, \"#0d0887\"], [0.1111111111111111, \"#46039f\"], [0.2222222222222222, \"#7201a8\"], [0.3333333333333333, \"#9c179e\"], [0.4444444444444444, \"#bd3786\"], [0.5555555555555556, \"#d8576b\"], [0.6666666666666666, \"#ed7953\"], [0.7777777777777778, \"#fb9f3a\"], [0.8888888888888888, \"#fdca26\"], [1.0, \"#f0f921\"]], \"type\": \"histogram2d\"}], \"histogram2dcontour\": [{\"colorbar\": {\"outlinewidth\": 0, \"ticks\": \"\"}, \"colorscale\": [[0.0, \"#0d0887\"], [0.1111111111111111, \"#46039f\"], [0.2222222222222222, \"#7201a8\"], [0.3333333333333333, \"#9c179e\"], [0.4444444444444444, \"#bd3786\"], [0.5555555555555556, \"#d8576b\"], [0.6666666666666666, \"#ed7953\"], [0.7777777777777778, \"#fb9f3a\"], [0.8888888888888888, \"#fdca26\"], [1.0, \"#f0f921\"]], \"type\": \"histogram2dcontour\"}], \"mesh3d\": [{\"colorbar\": {\"outlinewidth\": 0, \"ticks\": \"\"}, \"type\": \"mesh3d\"}], \"parcoords\": [{\"line\": {\"colorbar\": {\"outlinewidth\": 0, \"ticks\": \"\"}}, \"type\": \"parcoords\"}], \"pie\": [{\"automargin\": true, \"type\": \"pie\"}], \"scatter\": [{\"marker\": {\"colorbar\": {\"outlinewidth\": 0, \"ticks\": \"\"}}, \"type\": \"scatter\"}], \"scatter3d\": [{\"line\": {\"colorbar\": {\"outlinewidth\": 0, \"ticks\": \"\"}}, \"marker\": {\"colorbar\": {\"outlinewidth\": 0, \"ticks\": \"\"}}, \"type\": \"scatter3d\"}], \"scattercarpet\": [{\"marker\": {\"colorbar\": {\"outlinewidth\": 0, \"ticks\": \"\"}}, \"type\": \"scattercarpet\"}], \"scattergeo\": [{\"marker\": {\"colorbar\": {\"outlinewidth\": 0, \"ticks\": \"\"}}, \"type\": \"scattergeo\"}], \"scattergl\": [{\"marker\": {\"colorbar\": {\"outlinewidth\": 0, \"ticks\": \"\"}}, \"type\": \"scattergl\"}], \"scattermapbox\": [{\"marker\": {\"colorbar\": {\"outlinewidth\": 0, \"ticks\": \"\"}}, \"type\": \"scattermapbox\"}], \"scatterpolar\": [{\"marker\": {\"colorbar\": {\"outlinewidth\": 0, \"ticks\": \"\"}}, \"type\": \"scatterpolar\"}], \"scatterpolargl\": [{\"marker\": {\"colorbar\": {\"outlinewidth\": 0, \"ticks\": \"\"}}, \"type\": \"scatterpolargl\"}], \"scatterternary\": [{\"marker\": {\"colorbar\": {\"outlinewidth\": 0, \"ticks\": \"\"}}, \"type\": \"scatterternary\"}], \"surface\": [{\"colorbar\": {\"outlinewidth\": 0, \"ticks\": \"\"}, \"colorscale\": [[0.0, \"#0d0887\"], [0.1111111111111111, \"#46039f\"], [0.2222222222222222, \"#7201a8\"], [0.3333333333333333, \"#9c179e\"], [0.4444444444444444, \"#bd3786\"], [0.5555555555555556, \"#d8576b\"], [0.6666666666666666, \"#ed7953\"], [0.7777777777777778, \"#fb9f3a\"], [0.8888888888888888, \"#fdca26\"], [1.0, \"#f0f921\"]], \"type\": \"surface\"}], \"table\": [{\"cells\": {\"fill\": {\"color\": \"#EBF0F8\"}, \"line\": {\"color\": \"white\"}}, \"header\": {\"fill\": {\"color\": \"#C8D4E3\"}, \"line\": {\"color\": \"white\"}}, \"type\": \"table\"}]}, \"layout\": {\"annotationdefaults\": {\"arrowcolor\": \"#2a3f5f\", \"arrowhead\": 0, \"arrowwidth\": 1}, \"coloraxis\": {\"colorbar\": {\"outlinewidth\": 0, \"ticks\": \"\"}}, \"colorscale\": {\"diverging\": [[0, \"#8e0152\"], [0.1, \"#c51b7d\"], [0.2, \"#de77ae\"], [0.3, \"#f1b6da\"], [0.4, \"#fde0ef\"], [0.5, \"#f7f7f7\"], [0.6, \"#e6f5d0\"], [0.7, \"#b8e186\"], [0.8, \"#7fbc41\"], [0.9, \"#4d9221\"], [1, \"#276419\"]], \"sequential\": [[0.0, \"#0d0887\"], [0.1111111111111111, \"#46039f\"], [0.2222222222222222, \"#7201a8\"], [0.3333333333333333, \"#9c179e\"], [0.4444444444444444, \"#bd3786\"], [0.5555555555555556, \"#d8576b\"], [0.6666666666666666, \"#ed7953\"], [0.7777777777777778, \"#fb9f3a\"], [0.8888888888888888, \"#fdca26\"], [1.0, \"#f0f921\"]], \"sequentialminus\": [[0.0, \"#0d0887\"], [0.1111111111111111, \"#46039f\"], [0.2222222222222222, \"#7201a8\"], [0.3333333333333333, \"#9c179e\"], [0.4444444444444444, \"#bd3786\"], [0.5555555555555556, \"#d8576b\"], [0.6666666666666666, \"#ed7953\"], [0.7777777777777778, \"#fb9f3a\"], [0.8888888888888888, \"#fdca26\"], [1.0, \"#f0f921\"]]}, \"colorway\": [\"#636efa\", \"#EF553B\", \"#00cc96\", \"#ab63fa\", \"#FFA15A\", \"#19d3f3\", \"#FF6692\", \"#B6E880\", \"#FF97FF\", \"#FECB52\"], \"font\": {\"color\": \"#2a3f5f\"}, \"geo\": {\"bgcolor\": \"white\", \"lakecolor\": \"white\", \"landcolor\": \"#E5ECF6\", \"showlakes\": true, \"showland\": true, \"subunitcolor\": \"white\"}, \"hoverlabel\": {\"align\": \"left\"}, \"hovermode\": \"closest\", \"mapbox\": {\"style\": \"light\"}, \"paper_bgcolor\": \"white\", \"plot_bgcolor\": \"#E5ECF6\", \"polar\": {\"angularaxis\": {\"gridcolor\": \"white\", \"linecolor\": \"white\", \"ticks\": \"\"}, \"bgcolor\": \"#E5ECF6\", \"radialaxis\": {\"gridcolor\": \"white\", \"linecolor\": \"white\", \"ticks\": \"\"}}, \"scene\": {\"xaxis\": {\"backgroundcolor\": \"#E5ECF6\", \"gridcolor\": \"white\", \"gridwidth\": 2, \"linecolor\": \"white\", \"showbackground\": true, \"ticks\": \"\", \"zerolinecolor\": \"white\"}, \"yaxis\": {\"backgroundcolor\": \"#E5ECF6\", \"gridcolor\": \"white\", \"gridwidth\": 2, \"linecolor\": \"white\", \"showbackground\": true, \"ticks\": \"\", \"zerolinecolor\": \"white\"}, \"zaxis\": {\"backgroundcolor\": \"#E5ECF6\", \"gridcolor\": \"white\", \"gridwidth\": 2, \"linecolor\": \"white\", \"showbackground\": true, \"ticks\": \"\", \"zerolinecolor\": \"white\"}}, \"shapedefaults\": {\"line\": {\"color\": \"#2a3f5f\"}}, \"ternary\": {\"aaxis\": {\"gridcolor\": \"white\", \"linecolor\": \"white\", \"ticks\": \"\"}, \"baxis\": {\"gridcolor\": \"white\", \"linecolor\": \"white\", \"ticks\": \"\"}, \"bgcolor\": \"#E5ECF6\", \"caxis\": {\"gridcolor\": \"white\", \"linecolor\": \"white\", \"ticks\": \"\"}}, \"title\": {\"x\": 0.05}, \"xaxis\": {\"automargin\": true, \"gridcolor\": \"white\", \"linecolor\": \"white\", \"ticks\": \"\", \"title\": {\"standoff\": 15}, \"zerolinecolor\": \"white\", \"zerolinewidth\": 2}, \"yaxis\": {\"automargin\": true, \"gridcolor\": \"white\", \"linecolor\": \"white\", \"ticks\": \"\", \"title\": {\"standoff\": 15}, \"zerolinecolor\": \"white\", \"zerolinewidth\": 2}}}, \"title\": {\"text\": \"SMA Closing Price\"}, \"xaxis\": {\"anchor\": \"y\", \"domain\": [0.0, 1.0], \"title\": {\"text\": \"Date\"}}, \"yaxis\": {\"anchor\": \"x\", \"domain\": [0.0, 1.0], \"title\": {\"text\": \"SMA\"}}},\n",
       "                        {\"responsive\": true}\n",
       "                    ).then(function(){\n",
       "                            \n",
       "var gd = document.getElementById('8f9e37c1-5208-490a-b2e8-8325e30f1b11');\n",
       "var x = new MutationObserver(function (mutations, observer) {{\n",
       "        var display = window.getComputedStyle(gd).display;\n",
       "        if (!display || display === 'none') {{\n",
       "            console.log([gd, 'removed!']);\n",
       "            Plotly.purge(gd);\n",
       "            observer.disconnect();\n",
       "        }}\n",
       "}});\n",
       "\n",
       "// Listen for the removal of the full notebook cells\n",
       "var notebookContainer = gd.closest('#notebook-container');\n",
       "if (notebookContainer) {{\n",
       "    x.observe(notebookContainer, {childList: true});\n",
       "}}\n",
       "\n",
       "// Listen for the clearing of the current output cell\n",
       "var outputEl = gd.closest('.output');\n",
       "if (outputEl) {{\n",
       "    x.observe(outputEl, {childList: true});\n",
       "}}\n",
       "\n",
       "                        })\n",
       "                };\n",
       "                });\n",
       "            </script>\n",
       "        </div>"
      ]
     },
     "metadata": {},
     "output_type": "display_data"
    }
   ],
   "source": [
    "fig = px.line(data, x=\"Date\", y=\"SMA\", title='SMA Closing Price')\n",
    "fig.show()"
   ]
  },
  {
   "cell_type": "code",
   "execution_count": 66,
   "metadata": {},
   "outputs": [],
   "source": [
    "frames = [data, nike, disney]\n",
    "info = pd.concat(frames)"
   ]
  },
  {
   "cell_type": "code",
   "execution_count": 67,
   "metadata": {},
   "outputs": [
    {
     "data": {
      "text/plain": [
       "Index(['Open', 'High', 'Low', 'Close', 'Volume', 'Dividend', 'Split',\n",
       "       'Adj_Open', 'Adj_High', 'Adj_Low', 'Adj_Close', 'Adj_Volume', 'Date',\n",
       "       'Name', 'SMA'],\n",
       "      dtype='object')"
      ]
     },
     "execution_count": 67,
     "metadata": {},
     "output_type": "execute_result"
    }
   ],
   "source": [
    "data.columns"
   ]
  },
  {
   "cell_type": "code",
   "execution_count": 68,
   "metadata": {},
   "outputs": [],
   "source": [
    "apple = data[['Open', 'High', 'Low', 'Close', 'Volume', 'Dividend', 'Split','Adj_Open', 'Adj_High', 'Adj_Low', 'Adj_Close', 'Adj_Volume', 'Date','SMA', 'Name']]\n",
    "disney = disney[['Open', 'High', 'Low', 'Close', 'Volume', 'Dividend', 'Split','Adj_Open', 'Adj_High', 'Adj_Low', 'Adj_Close', 'Adj_Volume', 'Date','SMA', 'Name']]\n",
    "nike = nike[['Open', 'High', 'Low', 'Close', 'Volume', 'Dividend', 'Split','Adj_Open', 'Adj_High', 'Adj_Low', 'Adj_Close', 'Adj_Volume', 'Date','SMA', 'Name']]"
   ]
  },
  {
   "cell_type": "code",
   "execution_count": 69,
   "metadata": {},
   "outputs": [
    {
     "data": {
      "application/vnd.plotly.v1+json": {
       "config": {
        "plotlyServerURL": "https://plot.ly"
       },
       "data": [
        {
         "hovertemplate": "Name=Apple<br>Date=%{x}<br>Adj_Close=%{y}<extra></extra>",
         "legendgroup": "Apple",
         "line": {
          "color": "#636efa",
          "dash": "solid"
         },
         "mode": "lines",
         "name": "Apple",
         "showlegend": true,
         "type": "scatter",
         "x": [
          "2017-02-06T00:00:00",
          "2017-02-07T00:00:00",
          "2017-02-08T00:00:00",
          "2017-02-09T00:00:00",
          "2017-02-10T00:00:00",
          "2017-02-13T00:00:00",
          "2017-02-14T00:00:00",
          "2017-02-15T00:00:00",
          "2017-02-16T00:00:00",
          "2017-02-17T00:00:00",
          "2017-02-21T00:00:00",
          "2017-02-22T00:00:00",
          "2017-02-23T00:00:00",
          "2017-02-24T00:00:00",
          "2017-02-27T00:00:00",
          "2017-02-28T00:00:00",
          "2017-03-01T00:00:00",
          "2017-03-02T00:00:00",
          "2017-03-03T00:00:00",
          "2017-03-06T00:00:00",
          "2017-03-07T00:00:00",
          "2017-03-08T00:00:00",
          "2017-03-09T00:00:00",
          "2017-03-10T00:00:00",
          "2017-03-13T00:00:00",
          "2017-03-14T00:00:00",
          "2017-03-15T00:00:00",
          "2017-03-16T00:00:00",
          "2017-03-17T00:00:00",
          "2017-03-20T00:00:00",
          "2017-03-21T00:00:00",
          "2017-03-22T00:00:00",
          "2017-03-23T00:00:00",
          "2017-03-24T00:00:00",
          "2017-03-27T00:00:00",
          "2017-03-28T00:00:00",
          "2017-03-29T00:00:00",
          "2017-03-30T00:00:00",
          "2017-03-31T00:00:00",
          "2017-04-03T00:00:00",
          "2017-04-04T00:00:00",
          "2017-04-05T00:00:00",
          "2017-04-06T00:00:00",
          "2017-04-07T00:00:00",
          "2017-04-10T00:00:00",
          "2017-04-11T00:00:00",
          "2017-04-12T00:00:00",
          "2017-04-13T00:00:00",
          "2017-04-17T00:00:00",
          "2017-04-18T00:00:00",
          "2017-04-19T00:00:00",
          "2017-04-20T00:00:00",
          "2017-04-21T00:00:00",
          "2017-04-24T00:00:00",
          "2017-04-25T00:00:00",
          "2017-04-26T00:00:00",
          "2017-04-27T00:00:00",
          "2017-04-28T00:00:00",
          "2017-05-01T00:00:00",
          "2017-05-02T00:00:00",
          "2017-05-03T00:00:00",
          "2017-05-04T00:00:00",
          "2017-05-05T00:00:00",
          "2017-05-08T00:00:00",
          "2017-05-09T00:00:00",
          "2017-05-10T00:00:00",
          "2017-05-11T00:00:00",
          "2017-05-12T00:00:00",
          "2017-05-15T00:00:00",
          "2017-05-16T00:00:00",
          "2017-05-17T00:00:00",
          "2017-05-18T00:00:00",
          "2017-05-19T00:00:00",
          "2017-05-22T00:00:00",
          "2017-05-23T00:00:00",
          "2017-05-24T00:00:00",
          "2017-05-25T00:00:00",
          "2017-05-26T00:00:00",
          "2017-05-30T00:00:00",
          "2017-05-31T00:00:00",
          "2017-06-01T00:00:00",
          "2017-06-02T00:00:00",
          "2017-06-05T00:00:00",
          "2017-06-06T00:00:00",
          "2017-06-07T00:00:00",
          "2017-06-08T00:00:00",
          "2017-06-09T00:00:00",
          "2017-06-12T00:00:00",
          "2017-06-13T00:00:00",
          "2017-06-14T00:00:00",
          "2017-06-15T00:00:00",
          "2017-06-16T00:00:00",
          "2017-06-19T00:00:00",
          "2017-06-20T00:00:00",
          "2017-06-21T00:00:00",
          "2017-06-22T00:00:00",
          "2017-06-23T00:00:00",
          "2017-06-26T00:00:00",
          "2017-06-27T00:00:00",
          "2017-06-28T00:00:00",
          "2017-06-29T00:00:00",
          "2017-06-30T00:00:00",
          "2017-07-03T00:00:00",
          "2017-07-05T00:00:00",
          "2017-07-06T00:00:00",
          "2017-07-07T00:00:00",
          "2017-07-10T00:00:00",
          "2017-07-11T00:00:00",
          "2017-07-12T00:00:00",
          "2017-07-13T00:00:00",
          "2017-07-14T00:00:00",
          "2017-07-17T00:00:00",
          "2017-07-18T00:00:00",
          "2017-07-19T00:00:00",
          "2017-07-20T00:00:00",
          "2017-07-21T00:00:00",
          "2017-07-24T00:00:00",
          "2017-07-25T00:00:00",
          "2017-07-26T00:00:00",
          "2017-07-27T00:00:00",
          "2017-07-28T00:00:00",
          "2017-07-31T00:00:00",
          "2017-08-01T00:00:00",
          "2017-08-02T00:00:00",
          "2017-08-03T00:00:00",
          "2017-08-04T00:00:00",
          "2017-08-07T00:00:00",
          "2017-08-08T00:00:00",
          "2017-08-09T00:00:00",
          "2017-08-10T00:00:00",
          "2017-08-11T00:00:00",
          "2017-08-14T00:00:00",
          "2017-08-15T00:00:00",
          "2017-08-16T00:00:00",
          "2017-08-17T00:00:00",
          "2017-08-18T00:00:00",
          "2017-08-21T00:00:00",
          "2017-08-22T00:00:00",
          "2017-08-23T00:00:00",
          "2017-08-24T00:00:00",
          "2017-08-25T00:00:00",
          "2017-08-28T00:00:00",
          "2017-08-29T00:00:00",
          "2017-08-30T00:00:00",
          "2017-08-31T00:00:00",
          "2017-09-01T00:00:00",
          "2017-09-05T00:00:00",
          "2017-09-06T00:00:00",
          "2017-09-07T00:00:00",
          "2017-09-08T00:00:00",
          "2017-09-11T00:00:00",
          "2017-09-12T00:00:00"
         ],
         "xaxis": "x",
         "y": [
          124.14906349512,
          125.33061878512,
          125.81658104149,
          126.72180485237,
          126.43471422063,
          127.55436768444,
          129.20992366083,
          129.67883835935,
          129.52093851189,
          129.87980180157,
          130.81763119861,
          131.20998839533,
          130.65494650728,
          130.77935244771,
          131.03773401628,
          131.09515214263,
          133.77466470558,
          132.98038062442,
          133.76509501786,
          133.34402875797,
          133.51628313701,
          133.01865937532,
          132.71242936813,
          133.15263500347,
          133.21005312982,
          133.0090896876,
          134.41583378315,
          134.63593660082,
          133.96605846008,
          135.37280255563,
          133.82251314421,
          135.33452380473,
          134.85603941849,
          134.5880881622,
          134.81776066759,
          137.61210948325,
          137.91833949044,
          137.73651542367,
          137.4781338551,
          137.516412606,
          138.54036919256,
          137.82264261319,
          137.4781338551,
          137.1719038479,
          137.00921915658,
          135.53548724695,
          135.69817193828,
          134.98044535891,
          135.72688100145,
          135.12399067479,
          134.62636691309,
          136.31063195267,
          136.14794726134,
          137.45899447965,
          138.31069668716,
          137.49727323055,
          137.60253979552,
          137.46856416737,
          140.27248267075,
          141.16246362916,
          140.73182768154,
          140.22463423213,
          142.55006834926,
          146.42579187783,
          147.36362127486,
          146.66503407095,
          147.92823285063,
          149.99413542048,
          149.609781454,
          149.38877792327,
          144.37295866065,
          146.57338511877,
          147.0730452752,
          147.96666824728,
          147.7841001132,
          147.34209305174,
          147.85136205733,
          147.60153197912,
          147.65918507409,
          146.78477980034,
          147.18835146514,
          149.36956022494,
          147.9090151523,
          148.40867530873,
          149.29268943165,
          148.92755316349,
          143.15263481706,
          139.73188451535,
          140.85611986732,
          139.48205443714,
          138.64608456003,
          136.70509702929,
          140.61589863826,
          139.3379216997,
          140.16428272764,
          139.93367034775,
          140.55824554329,
          140.11623848183,
          138.10798900695,
          140.125847331,
          138.05994476114,
          138.38664563266,
          137.88698547623,
          138.45390757679,
          137.14710409074,
          138.54038721925,
          139.38596594551,
          139.83758185613,
          140.03936768854,
          141.98996406845,
          143.21028791203,
          143.70994806846,
          144.20960822489,
          145.11284004613,
          144.45943830311,
          144.39217635897,
          146.14098690647,
          146.76556210201,
          147.45739924168,
          144.67083298467,
          143.65229497349,
          142.91241358801,
          144.18078167741,
          150.99345573334,
          149.48486641489,
          150.27279204618,
          152.59813354341,
          153.818457387,
          154.76012268311,
          149.85000268305,
          151.93393267143,
          154.22046696424,
          155.90883616779,
          155.28172760647,
          152.3005499842,
          151.95322831947,
          151.67344142288,
          154.15293219609,
          154.3458886765,
          153.66089317106,
          154.23011478826,
          155.78341445552,
          157.17270111444,
          157.59720537134,
          158.22431393265,
          158.27255305276,
          156.37193172076,
          156.20791871242,
          155.5808101511,
          153.04343243376,
          155.81235792758,
          155.19489719029
         ],
         "yaxis": "y"
        },
        {
         "hovertemplate": "Name=Nike<br>Date=%{x}<br>Adj_Close=%{y}<extra></extra>",
         "legendgroup": "Nike",
         "line": {
          "color": "#EF553B",
          "dash": "solid"
         },
         "mode": "lines",
         "name": "Nike",
         "showlegend": true,
         "type": "scatter",
         "x": [
          "2017-02-06T00:00:00",
          "2017-02-07T00:00:00",
          "2017-02-08T00:00:00",
          "2017-02-09T00:00:00",
          "2017-02-10T00:00:00",
          "2017-02-13T00:00:00",
          "2017-02-14T00:00:00",
          "2017-02-15T00:00:00",
          "2017-02-16T00:00:00",
          "2017-02-17T00:00:00",
          "2017-02-21T00:00:00",
          "2017-02-22T00:00:00",
          "2017-02-23T00:00:00",
          "2017-02-24T00:00:00",
          "2017-02-27T00:00:00",
          "2017-02-28T00:00:00",
          "2017-03-01T00:00:00",
          "2017-03-02T00:00:00",
          "2017-03-03T00:00:00",
          "2017-03-06T00:00:00",
          "2017-03-07T00:00:00",
          "2017-03-08T00:00:00",
          "2017-03-09T00:00:00",
          "2017-03-10T00:00:00",
          "2017-03-13T00:00:00",
          "2017-03-14T00:00:00",
          "2017-03-15T00:00:00",
          "2017-03-16T00:00:00",
          "2017-03-17T00:00:00",
          "2017-03-20T00:00:00",
          "2017-03-21T00:00:00",
          "2017-03-22T00:00:00",
          "2017-03-23T00:00:00",
          "2017-03-24T00:00:00",
          "2017-03-27T00:00:00",
          "2017-03-28T00:00:00",
          "2017-03-29T00:00:00",
          "2017-03-30T00:00:00",
          "2017-03-31T00:00:00",
          "2017-04-03T00:00:00",
          "2017-04-04T00:00:00",
          "2017-04-05T00:00:00",
          "2017-04-06T00:00:00",
          "2017-04-07T00:00:00",
          "2017-04-10T00:00:00",
          "2017-04-11T00:00:00",
          "2017-04-12T00:00:00",
          "2017-04-13T00:00:00",
          "2017-04-17T00:00:00",
          "2017-04-18T00:00:00",
          "2017-04-19T00:00:00",
          "2017-04-20T00:00:00",
          "2017-04-21T00:00:00",
          "2017-04-24T00:00:00",
          "2017-04-25T00:00:00",
          "2017-04-26T00:00:00",
          "2017-04-27T00:00:00",
          "2017-04-28T00:00:00",
          "2017-05-01T00:00:00",
          "2017-05-02T00:00:00",
          "2017-05-03T00:00:00",
          "2017-05-04T00:00:00",
          "2017-05-05T00:00:00",
          "2017-05-08T00:00:00",
          "2017-05-09T00:00:00",
          "2017-05-10T00:00:00",
          "2017-05-11T00:00:00",
          "2017-05-12T00:00:00",
          "2017-05-15T00:00:00",
          "2017-05-16T00:00:00",
          "2017-05-17T00:00:00",
          "2017-05-18T00:00:00",
          "2017-05-19T00:00:00",
          "2017-05-22T00:00:00",
          "2017-05-23T00:00:00",
          "2017-05-24T00:00:00",
          "2017-05-25T00:00:00",
          "2017-05-26T00:00:00",
          "2017-05-30T00:00:00",
          "2017-05-31T00:00:00",
          "2017-06-01T00:00:00",
          "2017-06-02T00:00:00",
          "2017-06-05T00:00:00",
          "2017-06-06T00:00:00",
          "2017-06-07T00:00:00",
          "2017-06-08T00:00:00",
          "2017-06-09T00:00:00",
          "2017-06-12T00:00:00",
          "2017-06-13T00:00:00",
          "2017-06-14T00:00:00",
          "2017-06-15T00:00:00",
          "2017-06-16T00:00:00",
          "2017-06-19T00:00:00",
          "2017-06-20T00:00:00",
          "2017-06-21T00:00:00",
          "2017-06-22T00:00:00",
          "2017-06-23T00:00:00",
          "2017-06-26T00:00:00",
          "2017-06-27T00:00:00",
          "2017-06-28T00:00:00",
          "2017-06-29T00:00:00",
          "2017-06-30T00:00:00",
          "2017-07-03T00:00:00",
          "2017-07-05T00:00:00",
          "2017-07-06T00:00:00",
          "2017-07-07T00:00:00",
          "2017-07-10T00:00:00",
          "2017-07-11T00:00:00",
          "2017-07-12T00:00:00",
          "2017-07-13T00:00:00",
          "2017-07-14T00:00:00",
          "2017-07-17T00:00:00",
          "2017-07-18T00:00:00",
          "2017-07-19T00:00:00",
          "2017-07-20T00:00:00",
          "2017-07-21T00:00:00",
          "2017-07-24T00:00:00",
          "2017-07-25T00:00:00",
          "2017-07-26T00:00:00",
          "2017-07-27T00:00:00",
          "2017-07-28T00:00:00",
          "2017-07-31T00:00:00",
          "2017-08-01T00:00:00",
          "2017-08-02T00:00:00",
          "2017-08-03T00:00:00",
          "2017-08-04T00:00:00",
          "2017-08-07T00:00:00",
          "2017-08-08T00:00:00",
          "2017-08-09T00:00:00",
          "2017-08-10T00:00:00",
          "2017-08-11T00:00:00",
          "2017-08-14T00:00:00",
          "2017-08-15T00:00:00",
          "2017-08-16T00:00:00",
          "2017-08-17T00:00:00",
          "2017-08-18T00:00:00",
          "2017-08-21T00:00:00",
          "2017-08-22T00:00:00",
          "2017-08-23T00:00:00",
          "2017-08-24T00:00:00",
          "2017-08-25T00:00:00",
          "2017-08-28T00:00:00",
          "2017-08-29T00:00:00",
          "2017-08-30T00:00:00",
          "2017-08-31T00:00:00",
          "2017-09-01T00:00:00",
          "2017-09-05T00:00:00",
          "2017-09-06T00:00:00",
          "2017-09-07T00:00:00",
          "2017-09-08T00:00:00",
          "2017-09-11T00:00:00",
          "2017-09-12T00:00:00"
         ],
         "xaxis": "x",
         "y": [
          50.84466523795116,
          50.85429490939775,
          51.884669754181985,
          53.261712771043165,
          54.13801287268209,
          54.012827143876535,
          54.359495315953474,
          54.54245907343852,
          54.205420572808166,
          54.64838545935092,
          55.2357954175924,
          56.08320650489159,
          55.264684431932146,
          55.71727898992148,
          55.5535745753296,
          55.04320198866077,
          55.80394603294072,
          55.83283504728046,
          54.77027244257444,
          54.83789006287392,
          54.62537754193271,
          54.58673890176158,
          54.44184400111985,
          54.50946162141932,
          54.741293462446095,
          55.3305327250558,
          55.69759980668152,
          55.63964184642483,
          55.83283504728046,
          56.68288513104529,
          56.035687908178886,
          52.08488695068102,
          53.48553765688442,
          54.44184400111985,
          54.02647861928022,
          54.69299516223218,
          54.75095312248887,
          54.13273487975082,
          53.83328541842457,
          53.669071197697285,
          53.16676887547261,
          53.10881091521592,
          53.263365475900436,
          53.234386495772085,
          53.03153363487366,
          53.050852954959225,
          53.678730857740064,
          53.456558676756075,
          54.32592808060647,
          54.20035250005029,
          53.95886099898074,
          54.480482641290976,
          53.94920133893796,
          53.58213425731224,
          53.562814937226676,
          53.28268479598599,
          53.58213425731224,
          53.52417629705555,
          53.118470575258705,
          53.195747855600956,
          52.67412621329073,
          52.61616825303403,
          52.11386593080937,
          52.45195403230674,
          53.02187397483088,
          52.70310519341907,
          52.393996072050044,
          52.35535743187892,
          51.93999205003929,
          50.98368570580386,
          50.037039021611214,
          49.92112310109783,
          50.00806004148287,
          49.814866840627225,
          50.4234254233225,
          50.23989188250964,
          50.56832032396423,
          50.800152164991005,
          51.11892094640281,
          51.18653856670228,
          50.693895904520396,
          51.353013480334425,
          51.382092196914456,
          50.86836820400058,
          51.59533611850135,
          51.56625740192133,
          51.81827294561492,
          52.37076856063551,
          52.64216991538247,
          52.981421608816156,
          51.275470236121016,
          49.53074724131917,
          50.42249454977345,
          49.976620895546304,
          50.974990164794036,
          50.790824959787166,
          51.22700570848763,
          51.64380064613474,
          51.3239347637544,
          51.72134389034815,
          51.537178685341296,
          57.18814260739395,
          56.848890913960254,
          55.792364211552474,
          55.40464799048539,
          56.199466243672894,
          56.92643415817367,
          56.39332435420644,
          56.43209597631314,
          56.16069462156619,
          56.218852054726256,
          56.01530103866604,
          55.87960036129256,
          55.995915227612684,
          57.28507166266072,
          58.10896863242826,
          57.139678079760564,
          57.56616592293435,
          56.56779665368662,
          56.364245637626404,
          56.86827672501361,
          57.23660713502733,
          58.00234667163481,
          57.953882144001426,
          58.29313383743512,
          57.924803427421395,
          57.953882144001426,
          57.63401626162109,
          58.06050410479487,
          57.25599294608069,
          57.15906389081392,
          57.94418923847475,
          56.76165476422017,
          56.74226895316681,
          55.6954351562857,
          53.26251586908979,
          51.96366652851508,
          52.46769761590228,
          51.96366652851508,
          52.18660335562865,
          52.24476078878871,
          52.0799813948352,
          51.1106908421675,
          50.945911448214,
          51.36270638586111,
          51.89763326547148,
          51.55722525117397,
          51.31407666953289,
          50.9542167687041,
          50.76942384665688,
          51.57667713770525,
          51.93653703853405
         ],
         "yaxis": "y"
        },
        {
         "hovertemplate": "Name=Disney<br>Date=%{x}<br>Adj_Close=%{y}<extra></extra>",
         "legendgroup": "Disney",
         "line": {
          "color": "#00cc96",
          "dash": "solid"
         },
         "mode": "lines",
         "name": "Disney",
         "showlegend": true,
         "type": "scatter",
         "x": [
          "2017-02-06T00:00:00",
          "2017-02-07T00:00:00",
          "2017-02-08T00:00:00",
          "2017-02-09T00:00:00",
          "2017-02-10T00:00:00",
          "2017-02-13T00:00:00",
          "2017-02-14T00:00:00",
          "2017-02-15T00:00:00",
          "2017-02-16T00:00:00",
          "2017-02-17T00:00:00",
          "2017-02-21T00:00:00",
          "2017-02-22T00:00:00",
          "2017-02-23T00:00:00",
          "2017-02-24T00:00:00",
          "2017-02-27T00:00:00",
          "2017-02-28T00:00:00",
          "2017-03-01T00:00:00",
          "2017-03-02T00:00:00",
          "2017-03-03T00:00:00",
          "2017-03-06T00:00:00",
          "2017-03-07T00:00:00",
          "2017-03-08T00:00:00",
          "2017-03-09T00:00:00",
          "2017-03-10T00:00:00",
          "2017-03-13T00:00:00",
          "2017-03-14T00:00:00",
          "2017-03-15T00:00:00",
          "2017-03-16T00:00:00",
          "2017-03-17T00:00:00",
          "2017-03-20T00:00:00",
          "2017-03-21T00:00:00",
          "2017-03-22T00:00:00",
          "2017-03-23T00:00:00",
          "2017-03-24T00:00:00",
          "2017-03-27T00:00:00",
          "2017-03-28T00:00:00",
          "2017-03-29T00:00:00",
          "2017-03-30T00:00:00",
          "2017-03-31T00:00:00",
          "2017-04-03T00:00:00",
          "2017-04-04T00:00:00",
          "2017-04-05T00:00:00",
          "2017-04-06T00:00:00",
          "2017-04-07T00:00:00",
          "2017-04-10T00:00:00",
          "2017-04-11T00:00:00",
          "2017-04-12T00:00:00",
          "2017-04-13T00:00:00",
          "2017-04-17T00:00:00",
          "2017-04-18T00:00:00",
          "2017-04-19T00:00:00",
          "2017-04-20T00:00:00",
          "2017-04-21T00:00:00",
          "2017-04-24T00:00:00",
          "2017-04-25T00:00:00",
          "2017-04-26T00:00:00",
          "2017-04-27T00:00:00",
          "2017-04-28T00:00:00",
          "2017-05-01T00:00:00",
          "2017-05-02T00:00:00",
          "2017-05-03T00:00:00",
          "2017-05-04T00:00:00",
          "2017-05-05T00:00:00",
          "2017-05-08T00:00:00",
          "2017-05-09T00:00:00",
          "2017-05-10T00:00:00",
          "2017-05-11T00:00:00",
          "2017-05-12T00:00:00",
          "2017-05-15T00:00:00",
          "2017-05-16T00:00:00",
          "2017-05-17T00:00:00",
          "2017-05-18T00:00:00",
          "2017-05-19T00:00:00",
          "2017-05-22T00:00:00",
          "2017-05-23T00:00:00",
          "2017-05-24T00:00:00",
          "2017-05-25T00:00:00",
          "2017-05-26T00:00:00",
          "2017-05-30T00:00:00",
          "2017-05-31T00:00:00",
          "2017-06-01T00:00:00",
          "2017-06-02T00:00:00",
          "2017-06-05T00:00:00",
          "2017-06-06T00:00:00",
          "2017-06-07T00:00:00",
          "2017-06-08T00:00:00",
          "2017-06-09T00:00:00",
          "2017-06-12T00:00:00",
          "2017-06-13T00:00:00",
          "2017-06-14T00:00:00",
          "2017-06-15T00:00:00",
          "2017-06-16T00:00:00",
          "2017-06-19T00:00:00",
          "2017-06-20T00:00:00",
          "2017-06-21T00:00:00",
          "2017-06-22T00:00:00",
          "2017-06-23T00:00:00",
          "2017-06-26T00:00:00",
          "2017-06-27T00:00:00",
          "2017-06-28T00:00:00",
          "2017-06-29T00:00:00",
          "2017-06-30T00:00:00",
          "2017-07-03T00:00:00",
          "2017-07-05T00:00:00",
          "2017-07-06T00:00:00",
          "2017-07-07T00:00:00",
          "2017-07-10T00:00:00",
          "2017-07-11T00:00:00",
          "2017-07-12T00:00:00",
          "2017-07-13T00:00:00",
          "2017-07-14T00:00:00",
          "2017-07-17T00:00:00",
          "2017-07-18T00:00:00",
          "2017-07-19T00:00:00",
          "2017-07-20T00:00:00",
          "2017-07-21T00:00:00",
          "2017-07-24T00:00:00",
          "2017-07-25T00:00:00",
          "2017-07-26T00:00:00",
          "2017-07-27T00:00:00",
          "2017-07-28T00:00:00",
          "2017-07-31T00:00:00",
          "2017-08-01T00:00:00",
          "2017-08-02T00:00:00",
          "2017-08-03T00:00:00",
          "2017-08-04T00:00:00",
          "2017-08-07T00:00:00",
          "2017-08-08T00:00:00",
          "2017-08-09T00:00:00",
          "2017-08-10T00:00:00",
          "2017-08-11T00:00:00",
          "2017-08-14T00:00:00",
          "2017-08-15T00:00:00",
          "2017-08-16T00:00:00",
          "2017-08-17T00:00:00",
          "2017-08-18T00:00:00",
          "2017-08-21T00:00:00",
          "2017-08-22T00:00:00",
          "2017-08-23T00:00:00",
          "2017-08-24T00:00:00",
          "2017-08-25T00:00:00",
          "2017-08-28T00:00:00",
          "2017-08-29T00:00:00",
          "2017-08-30T00:00:00",
          "2017-08-31T00:00:00",
          "2017-09-01T00:00:00",
          "2017-09-05T00:00:00",
          "2017-09-06T00:00:00",
          "2017-09-07T00:00:00",
          "2017-09-08T00:00:00",
          "2017-09-11T00:00:00",
          "2017-09-12T00:00:00"
         ],
         "xaxis": "x",
         "y": [
          104.90476791552,
          104.35903717068,
          104.35903717068,
          104.82817412677,
          104.60796698411,
          104.98136170426,
          105.63240890863,
          105.48879555473,
          105.99622940519,
          105.3739048716,
          105.32603375364,
          105.43135021317,
          105.05795549301,
          105.62283468504,
          105.5366666727,
          105.40262754239,
          106.31217878378,
          105.88133872207,
          106.50366325565,
          105.95793251082,
          106.1398427591,
          106.12069431191,
          106.30260456019,
          106.19728810066,
          106.77174151628,
          107.52810518017,
          107.10683934205,
          106.95365176455,
          107.00152288252,
          107.91107412392,
          106.99194865893,
          107.30789803752,
          107.46108561502,
          107.36534337908,
          107.59512474533,
          108.2365977261,
          107.73873809923,
          108.36106263282,
          108.56212132829,
          108.38021108001,
          108.22702350251,
          108.18872660813,
          108.2365977261,
          107.7866092172,
          107.6429958633,
          108.25574617329,
          108.22702350251,
          108.38021108001,
          108.93551604844,
          109.32805921578,
          108.88764493047,
          109.9025126314,
          109.56741480562,
          108.85892225969,
          110.27590735155,
          110.65887629529,
          110.90780610873,
          110.67802474248,
          109.84506728983,
          109.50039524046,
          106.86748375221,
          106.4366436905,
          107.22173002518,
          106.67599928034,
          107.29832381393,
          104.99093592786,
          104.91434213911,
          105.01965859864,
          104.4835020774,
          103.38246636413,
          101.78357102399,
          102.13781729695,
          102.94205207882,
          103.04736853835,
          102.46334089914,
          103.1239623271,
          102.70269648898,
          103.79415797865,
          103.7271384135,
          103.34416946975,
          103.60267350678,
          102.61652847664,
          101.98462971946,
          101.0080589129,
          101.41017630384,
          99.878300528855,
          101.12294959603,
          102.48248934632,
          102.02292661383,
          101.6208092229,
          101.4676216454,
          101.0176331365,
          100.88359400619,
          99.514480032296,
          100.33786326135,
          99.782558292918,
          99.916597423229,
          101.07507847806,
          100.92189090056,
          102.31015332164,
          101.20911760837,
          101.72612568243,
          102.88460673726,
          101.13252381962,
          99.696390280576,
          99.667450834921,
          99.927905845814,
          100.16906789294,
          100.68997791472,
          100.60315957776,
          101.37487812855,
          101.085483672,
          102.01154593295,
          103.04371949464,
          103.56462951643,
          103.30417450553,
          103.21735616857,
          102.65786021924,
          103.15947727726,
          106.11130073404,
          106.0727148065,
          106.04377536085,
          106.69973612902,
          104.82831864335,
          105.26241032817,
          103.88296341863,
          102.59033484605,
          103.1980632048,
          99.19477322256,
          97.767093903593,
          98.384468744227,
          97.815326313018,
          97.921437613752,
          98.587044863811,
          97.796033349248,
          97.140072581074,
          97.593457229665,
          99.136894331251,
          97.911791131867,
          97.931084095637,
          98.789620983394,
          98.934318211667,
          98.943964693552,
          99.2333591501,
          97.622396675319,
          97.911791131867,
          98.008255950716,
          97.911791131867,
          93.628753174965,
          93.63839965685,
          93.65769262062,
          94.429411171413
         ],
         "yaxis": "y"
        }
       ],
       "layout": {
        "legend": {
         "title": {
          "text": "Name"
         },
         "tracegroupgap": 0
        },
        "margin": {
         "t": 60
        },
        "template": {
         "data": {
          "bar": [
           {
            "error_x": {
             "color": "#2a3f5f"
            },
            "error_y": {
             "color": "#2a3f5f"
            },
            "marker": {
             "line": {
              "color": "#E5ECF6",
              "width": 0.5
             }
            },
            "type": "bar"
           }
          ],
          "barpolar": [
           {
            "marker": {
             "line": {
              "color": "#E5ECF6",
              "width": 0.5
             }
            },
            "type": "barpolar"
           }
          ],
          "carpet": [
           {
            "aaxis": {
             "endlinecolor": "#2a3f5f",
             "gridcolor": "white",
             "linecolor": "white",
             "minorgridcolor": "white",
             "startlinecolor": "#2a3f5f"
            },
            "baxis": {
             "endlinecolor": "#2a3f5f",
             "gridcolor": "white",
             "linecolor": "white",
             "minorgridcolor": "white",
             "startlinecolor": "#2a3f5f"
            },
            "type": "carpet"
           }
          ],
          "choropleth": [
           {
            "colorbar": {
             "outlinewidth": 0,
             "ticks": ""
            },
            "type": "choropleth"
           }
          ],
          "contour": [
           {
            "colorbar": {
             "outlinewidth": 0,
             "ticks": ""
            },
            "colorscale": [
             [
              0,
              "#0d0887"
             ],
             [
              0.1111111111111111,
              "#46039f"
             ],
             [
              0.2222222222222222,
              "#7201a8"
             ],
             [
              0.3333333333333333,
              "#9c179e"
             ],
             [
              0.4444444444444444,
              "#bd3786"
             ],
             [
              0.5555555555555556,
              "#d8576b"
             ],
             [
              0.6666666666666666,
              "#ed7953"
             ],
             [
              0.7777777777777778,
              "#fb9f3a"
             ],
             [
              0.8888888888888888,
              "#fdca26"
             ],
             [
              1,
              "#f0f921"
             ]
            ],
            "type": "contour"
           }
          ],
          "contourcarpet": [
           {
            "colorbar": {
             "outlinewidth": 0,
             "ticks": ""
            },
            "type": "contourcarpet"
           }
          ],
          "heatmap": [
           {
            "colorbar": {
             "outlinewidth": 0,
             "ticks": ""
            },
            "colorscale": [
             [
              0,
              "#0d0887"
             ],
             [
              0.1111111111111111,
              "#46039f"
             ],
             [
              0.2222222222222222,
              "#7201a8"
             ],
             [
              0.3333333333333333,
              "#9c179e"
             ],
             [
              0.4444444444444444,
              "#bd3786"
             ],
             [
              0.5555555555555556,
              "#d8576b"
             ],
             [
              0.6666666666666666,
              "#ed7953"
             ],
             [
              0.7777777777777778,
              "#fb9f3a"
             ],
             [
              0.8888888888888888,
              "#fdca26"
             ],
             [
              1,
              "#f0f921"
             ]
            ],
            "type": "heatmap"
           }
          ],
          "heatmapgl": [
           {
            "colorbar": {
             "outlinewidth": 0,
             "ticks": ""
            },
            "colorscale": [
             [
              0,
              "#0d0887"
             ],
             [
              0.1111111111111111,
              "#46039f"
             ],
             [
              0.2222222222222222,
              "#7201a8"
             ],
             [
              0.3333333333333333,
              "#9c179e"
             ],
             [
              0.4444444444444444,
              "#bd3786"
             ],
             [
              0.5555555555555556,
              "#d8576b"
             ],
             [
              0.6666666666666666,
              "#ed7953"
             ],
             [
              0.7777777777777778,
              "#fb9f3a"
             ],
             [
              0.8888888888888888,
              "#fdca26"
             ],
             [
              1,
              "#f0f921"
             ]
            ],
            "type": "heatmapgl"
           }
          ],
          "histogram": [
           {
            "marker": {
             "colorbar": {
              "outlinewidth": 0,
              "ticks": ""
             }
            },
            "type": "histogram"
           }
          ],
          "histogram2d": [
           {
            "colorbar": {
             "outlinewidth": 0,
             "ticks": ""
            },
            "colorscale": [
             [
              0,
              "#0d0887"
             ],
             [
              0.1111111111111111,
              "#46039f"
             ],
             [
              0.2222222222222222,
              "#7201a8"
             ],
             [
              0.3333333333333333,
              "#9c179e"
             ],
             [
              0.4444444444444444,
              "#bd3786"
             ],
             [
              0.5555555555555556,
              "#d8576b"
             ],
             [
              0.6666666666666666,
              "#ed7953"
             ],
             [
              0.7777777777777778,
              "#fb9f3a"
             ],
             [
              0.8888888888888888,
              "#fdca26"
             ],
             [
              1,
              "#f0f921"
             ]
            ],
            "type": "histogram2d"
           }
          ],
          "histogram2dcontour": [
           {
            "colorbar": {
             "outlinewidth": 0,
             "ticks": ""
            },
            "colorscale": [
             [
              0,
              "#0d0887"
             ],
             [
              0.1111111111111111,
              "#46039f"
             ],
             [
              0.2222222222222222,
              "#7201a8"
             ],
             [
              0.3333333333333333,
              "#9c179e"
             ],
             [
              0.4444444444444444,
              "#bd3786"
             ],
             [
              0.5555555555555556,
              "#d8576b"
             ],
             [
              0.6666666666666666,
              "#ed7953"
             ],
             [
              0.7777777777777778,
              "#fb9f3a"
             ],
             [
              0.8888888888888888,
              "#fdca26"
             ],
             [
              1,
              "#f0f921"
             ]
            ],
            "type": "histogram2dcontour"
           }
          ],
          "mesh3d": [
           {
            "colorbar": {
             "outlinewidth": 0,
             "ticks": ""
            },
            "type": "mesh3d"
           }
          ],
          "parcoords": [
           {
            "line": {
             "colorbar": {
              "outlinewidth": 0,
              "ticks": ""
             }
            },
            "type": "parcoords"
           }
          ],
          "pie": [
           {
            "automargin": true,
            "type": "pie"
           }
          ],
          "scatter": [
           {
            "marker": {
             "colorbar": {
              "outlinewidth": 0,
              "ticks": ""
             }
            },
            "type": "scatter"
           }
          ],
          "scatter3d": [
           {
            "line": {
             "colorbar": {
              "outlinewidth": 0,
              "ticks": ""
             }
            },
            "marker": {
             "colorbar": {
              "outlinewidth": 0,
              "ticks": ""
             }
            },
            "type": "scatter3d"
           }
          ],
          "scattercarpet": [
           {
            "marker": {
             "colorbar": {
              "outlinewidth": 0,
              "ticks": ""
             }
            },
            "type": "scattercarpet"
           }
          ],
          "scattergeo": [
           {
            "marker": {
             "colorbar": {
              "outlinewidth": 0,
              "ticks": ""
             }
            },
            "type": "scattergeo"
           }
          ],
          "scattergl": [
           {
            "marker": {
             "colorbar": {
              "outlinewidth": 0,
              "ticks": ""
             }
            },
            "type": "scattergl"
           }
          ],
          "scattermapbox": [
           {
            "marker": {
             "colorbar": {
              "outlinewidth": 0,
              "ticks": ""
             }
            },
            "type": "scattermapbox"
           }
          ],
          "scatterpolar": [
           {
            "marker": {
             "colorbar": {
              "outlinewidth": 0,
              "ticks": ""
             }
            },
            "type": "scatterpolar"
           }
          ],
          "scatterpolargl": [
           {
            "marker": {
             "colorbar": {
              "outlinewidth": 0,
              "ticks": ""
             }
            },
            "type": "scatterpolargl"
           }
          ],
          "scatterternary": [
           {
            "marker": {
             "colorbar": {
              "outlinewidth": 0,
              "ticks": ""
             }
            },
            "type": "scatterternary"
           }
          ],
          "surface": [
           {
            "colorbar": {
             "outlinewidth": 0,
             "ticks": ""
            },
            "colorscale": [
             [
              0,
              "#0d0887"
             ],
             [
              0.1111111111111111,
              "#46039f"
             ],
             [
              0.2222222222222222,
              "#7201a8"
             ],
             [
              0.3333333333333333,
              "#9c179e"
             ],
             [
              0.4444444444444444,
              "#bd3786"
             ],
             [
              0.5555555555555556,
              "#d8576b"
             ],
             [
              0.6666666666666666,
              "#ed7953"
             ],
             [
              0.7777777777777778,
              "#fb9f3a"
             ],
             [
              0.8888888888888888,
              "#fdca26"
             ],
             [
              1,
              "#f0f921"
             ]
            ],
            "type": "surface"
           }
          ],
          "table": [
           {
            "cells": {
             "fill": {
              "color": "#EBF0F8"
             },
             "line": {
              "color": "white"
             }
            },
            "header": {
             "fill": {
              "color": "#C8D4E3"
             },
             "line": {
              "color": "white"
             }
            },
            "type": "table"
           }
          ]
         },
         "layout": {
          "annotationdefaults": {
           "arrowcolor": "#2a3f5f",
           "arrowhead": 0,
           "arrowwidth": 1
          },
          "coloraxis": {
           "colorbar": {
            "outlinewidth": 0,
            "ticks": ""
           }
          },
          "colorscale": {
           "diverging": [
            [
             0,
             "#8e0152"
            ],
            [
             0.1,
             "#c51b7d"
            ],
            [
             0.2,
             "#de77ae"
            ],
            [
             0.3,
             "#f1b6da"
            ],
            [
             0.4,
             "#fde0ef"
            ],
            [
             0.5,
             "#f7f7f7"
            ],
            [
             0.6,
             "#e6f5d0"
            ],
            [
             0.7,
             "#b8e186"
            ],
            [
             0.8,
             "#7fbc41"
            ],
            [
             0.9,
             "#4d9221"
            ],
            [
             1,
             "#276419"
            ]
           ],
           "sequential": [
            [
             0,
             "#0d0887"
            ],
            [
             0.1111111111111111,
             "#46039f"
            ],
            [
             0.2222222222222222,
             "#7201a8"
            ],
            [
             0.3333333333333333,
             "#9c179e"
            ],
            [
             0.4444444444444444,
             "#bd3786"
            ],
            [
             0.5555555555555556,
             "#d8576b"
            ],
            [
             0.6666666666666666,
             "#ed7953"
            ],
            [
             0.7777777777777778,
             "#fb9f3a"
            ],
            [
             0.8888888888888888,
             "#fdca26"
            ],
            [
             1,
             "#f0f921"
            ]
           ],
           "sequentialminus": [
            [
             0,
             "#0d0887"
            ],
            [
             0.1111111111111111,
             "#46039f"
            ],
            [
             0.2222222222222222,
             "#7201a8"
            ],
            [
             0.3333333333333333,
             "#9c179e"
            ],
            [
             0.4444444444444444,
             "#bd3786"
            ],
            [
             0.5555555555555556,
             "#d8576b"
            ],
            [
             0.6666666666666666,
             "#ed7953"
            ],
            [
             0.7777777777777778,
             "#fb9f3a"
            ],
            [
             0.8888888888888888,
             "#fdca26"
            ],
            [
             1,
             "#f0f921"
            ]
           ]
          },
          "colorway": [
           "#636efa",
           "#EF553B",
           "#00cc96",
           "#ab63fa",
           "#FFA15A",
           "#19d3f3",
           "#FF6692",
           "#B6E880",
           "#FF97FF",
           "#FECB52"
          ],
          "font": {
           "color": "#2a3f5f"
          },
          "geo": {
           "bgcolor": "white",
           "lakecolor": "white",
           "landcolor": "#E5ECF6",
           "showlakes": true,
           "showland": true,
           "subunitcolor": "white"
          },
          "hoverlabel": {
           "align": "left"
          },
          "hovermode": "closest",
          "mapbox": {
           "style": "light"
          },
          "paper_bgcolor": "white",
          "plot_bgcolor": "#E5ECF6",
          "polar": {
           "angularaxis": {
            "gridcolor": "white",
            "linecolor": "white",
            "ticks": ""
           },
           "bgcolor": "#E5ECF6",
           "radialaxis": {
            "gridcolor": "white",
            "linecolor": "white",
            "ticks": ""
           }
          },
          "scene": {
           "xaxis": {
            "backgroundcolor": "#E5ECF6",
            "gridcolor": "white",
            "gridwidth": 2,
            "linecolor": "white",
            "showbackground": true,
            "ticks": "",
            "zerolinecolor": "white"
           },
           "yaxis": {
            "backgroundcolor": "#E5ECF6",
            "gridcolor": "white",
            "gridwidth": 2,
            "linecolor": "white",
            "showbackground": true,
            "ticks": "",
            "zerolinecolor": "white"
           },
           "zaxis": {
            "backgroundcolor": "#E5ECF6",
            "gridcolor": "white",
            "gridwidth": 2,
            "linecolor": "white",
            "showbackground": true,
            "ticks": "",
            "zerolinecolor": "white"
           }
          },
          "shapedefaults": {
           "line": {
            "color": "#2a3f5f"
           }
          },
          "ternary": {
           "aaxis": {
            "gridcolor": "white",
            "linecolor": "white",
            "ticks": ""
           },
           "baxis": {
            "gridcolor": "white",
            "linecolor": "white",
            "ticks": ""
           },
           "bgcolor": "#E5ECF6",
           "caxis": {
            "gridcolor": "white",
            "linecolor": "white",
            "ticks": ""
           }
          },
          "title": {
           "x": 0.05
          },
          "xaxis": {
           "automargin": true,
           "gridcolor": "white",
           "linecolor": "white",
           "ticks": "",
           "title": {
            "standoff": 15
           },
           "zerolinecolor": "white",
           "zerolinewidth": 2
          },
          "yaxis": {
           "automargin": true,
           "gridcolor": "white",
           "linecolor": "white",
           "ticks": "",
           "title": {
            "standoff": 15
           },
           "zerolinecolor": "white",
           "zerolinewidth": 2
          }
         }
        },
        "xaxis": {
         "anchor": "y",
         "domain": [
          0,
          1
         ],
         "title": {
          "text": "Date"
         }
        },
        "yaxis": {
         "anchor": "x",
         "domain": [
          0,
          1
         ],
         "title": {
          "text": "Adj_Close"
         }
        }
       }
      },
      "text/html": [
       "<div>\n",
       "        \n",
       "        \n",
       "            <div id=\"7f2683c0-b618-4927-b419-047974b3fd71\" class=\"plotly-graph-div\" style=\"height:525px; width:100%;\"></div>\n",
       "            <script type=\"text/javascript\">\n",
       "                require([\"plotly\"], function(Plotly) {\n",
       "                    window.PLOTLYENV=window.PLOTLYENV || {};\n",
       "                    \n",
       "                if (document.getElementById(\"7f2683c0-b618-4927-b419-047974b3fd71\")) {\n",
       "                    Plotly.newPlot(\n",
       "                        '7f2683c0-b618-4927-b419-047974b3fd71',\n",
       "                        [{\"hovertemplate\": \"Name=Apple<br>Date=%{x}<br>Adj_Close=%{y}<extra></extra>\", \"legendgroup\": \"Apple\", \"line\": {\"color\": \"#636efa\", \"dash\": \"solid\"}, \"mode\": \"lines\", \"name\": \"Apple\", \"showlegend\": true, \"type\": \"scatter\", \"x\": [\"2017-02-06T00:00:00\", \"2017-02-07T00:00:00\", \"2017-02-08T00:00:00\", \"2017-02-09T00:00:00\", \"2017-02-10T00:00:00\", \"2017-02-13T00:00:00\", \"2017-02-14T00:00:00\", \"2017-02-15T00:00:00\", \"2017-02-16T00:00:00\", \"2017-02-17T00:00:00\", \"2017-02-21T00:00:00\", \"2017-02-22T00:00:00\", \"2017-02-23T00:00:00\", \"2017-02-24T00:00:00\", \"2017-02-27T00:00:00\", \"2017-02-28T00:00:00\", \"2017-03-01T00:00:00\", \"2017-03-02T00:00:00\", \"2017-03-03T00:00:00\", \"2017-03-06T00:00:00\", \"2017-03-07T00:00:00\", \"2017-03-08T00:00:00\", \"2017-03-09T00:00:00\", \"2017-03-10T00:00:00\", \"2017-03-13T00:00:00\", \"2017-03-14T00:00:00\", \"2017-03-15T00:00:00\", \"2017-03-16T00:00:00\", \"2017-03-17T00:00:00\", \"2017-03-20T00:00:00\", \"2017-03-21T00:00:00\", \"2017-03-22T00:00:00\", \"2017-03-23T00:00:00\", \"2017-03-24T00:00:00\", \"2017-03-27T00:00:00\", \"2017-03-28T00:00:00\", \"2017-03-29T00:00:00\", \"2017-03-30T00:00:00\", \"2017-03-31T00:00:00\", \"2017-04-03T00:00:00\", \"2017-04-04T00:00:00\", \"2017-04-05T00:00:00\", \"2017-04-06T00:00:00\", \"2017-04-07T00:00:00\", \"2017-04-10T00:00:00\", \"2017-04-11T00:00:00\", \"2017-04-12T00:00:00\", \"2017-04-13T00:00:00\", \"2017-04-17T00:00:00\", \"2017-04-18T00:00:00\", \"2017-04-19T00:00:00\", \"2017-04-20T00:00:00\", \"2017-04-21T00:00:00\", \"2017-04-24T00:00:00\", \"2017-04-25T00:00:00\", \"2017-04-26T00:00:00\", \"2017-04-27T00:00:00\", \"2017-04-28T00:00:00\", \"2017-05-01T00:00:00\", \"2017-05-02T00:00:00\", \"2017-05-03T00:00:00\", \"2017-05-04T00:00:00\", \"2017-05-05T00:00:00\", \"2017-05-08T00:00:00\", \"2017-05-09T00:00:00\", \"2017-05-10T00:00:00\", \"2017-05-11T00:00:00\", \"2017-05-12T00:00:00\", \"2017-05-15T00:00:00\", \"2017-05-16T00:00:00\", \"2017-05-17T00:00:00\", \"2017-05-18T00:00:00\", \"2017-05-19T00:00:00\", \"2017-05-22T00:00:00\", \"2017-05-23T00:00:00\", \"2017-05-24T00:00:00\", \"2017-05-25T00:00:00\", \"2017-05-26T00:00:00\", \"2017-05-30T00:00:00\", \"2017-05-31T00:00:00\", \"2017-06-01T00:00:00\", \"2017-06-02T00:00:00\", \"2017-06-05T00:00:00\", \"2017-06-06T00:00:00\", \"2017-06-07T00:00:00\", \"2017-06-08T00:00:00\", \"2017-06-09T00:00:00\", \"2017-06-12T00:00:00\", \"2017-06-13T00:00:00\", \"2017-06-14T00:00:00\", \"2017-06-15T00:00:00\", \"2017-06-16T00:00:00\", \"2017-06-19T00:00:00\", \"2017-06-20T00:00:00\", \"2017-06-21T00:00:00\", \"2017-06-22T00:00:00\", \"2017-06-23T00:00:00\", \"2017-06-26T00:00:00\", \"2017-06-27T00:00:00\", \"2017-06-28T00:00:00\", \"2017-06-29T00:00:00\", \"2017-06-30T00:00:00\", \"2017-07-03T00:00:00\", \"2017-07-05T00:00:00\", \"2017-07-06T00:00:00\", \"2017-07-07T00:00:00\", \"2017-07-10T00:00:00\", \"2017-07-11T00:00:00\", \"2017-07-12T00:00:00\", \"2017-07-13T00:00:00\", \"2017-07-14T00:00:00\", \"2017-07-17T00:00:00\", \"2017-07-18T00:00:00\", \"2017-07-19T00:00:00\", \"2017-07-20T00:00:00\", \"2017-07-21T00:00:00\", \"2017-07-24T00:00:00\", \"2017-07-25T00:00:00\", \"2017-07-26T00:00:00\", \"2017-07-27T00:00:00\", \"2017-07-28T00:00:00\", \"2017-07-31T00:00:00\", \"2017-08-01T00:00:00\", \"2017-08-02T00:00:00\", \"2017-08-03T00:00:00\", \"2017-08-04T00:00:00\", \"2017-08-07T00:00:00\", \"2017-08-08T00:00:00\", \"2017-08-09T00:00:00\", \"2017-08-10T00:00:00\", \"2017-08-11T00:00:00\", \"2017-08-14T00:00:00\", \"2017-08-15T00:00:00\", \"2017-08-16T00:00:00\", \"2017-08-17T00:00:00\", \"2017-08-18T00:00:00\", \"2017-08-21T00:00:00\", \"2017-08-22T00:00:00\", \"2017-08-23T00:00:00\", \"2017-08-24T00:00:00\", \"2017-08-25T00:00:00\", \"2017-08-28T00:00:00\", \"2017-08-29T00:00:00\", \"2017-08-30T00:00:00\", \"2017-08-31T00:00:00\", \"2017-09-01T00:00:00\", \"2017-09-05T00:00:00\", \"2017-09-06T00:00:00\", \"2017-09-07T00:00:00\", \"2017-09-08T00:00:00\", \"2017-09-11T00:00:00\", \"2017-09-12T00:00:00\"], \"xaxis\": \"x\", \"y\": [124.14906349512, 125.33061878512, 125.81658104149, 126.72180485237, 126.43471422063, 127.55436768444, 129.20992366083, 129.67883835935, 129.52093851189, 129.87980180157, 130.81763119861, 131.20998839533, 130.65494650728, 130.77935244771, 131.03773401628, 131.09515214263, 133.77466470558, 132.98038062442, 133.76509501786, 133.34402875797, 133.51628313701, 133.01865937532, 132.71242936813, 133.15263500347, 133.21005312982, 133.0090896876, 134.41583378315, 134.63593660082, 133.96605846008, 135.37280255563, 133.82251314421, 135.33452380473, 134.85603941849, 134.5880881622, 134.81776066759, 137.61210948325, 137.91833949044, 137.73651542367, 137.4781338551, 137.516412606, 138.54036919256, 137.82264261319, 137.4781338551, 137.1719038479, 137.00921915658, 135.53548724695, 135.69817193828, 134.98044535891, 135.72688100145, 135.12399067479, 134.62636691309, 136.31063195267, 136.14794726134, 137.45899447965, 138.31069668716, 137.49727323055, 137.60253979552, 137.46856416737, 140.27248267075, 141.16246362916, 140.73182768154, 140.22463423213, 142.55006834926, 146.42579187783, 147.36362127486, 146.66503407095, 147.92823285063, 149.99413542048, 149.609781454, 149.38877792327, 144.37295866065, 146.57338511877, 147.0730452752, 147.96666824728, 147.7841001132, 147.34209305174, 147.85136205733, 147.60153197912, 147.65918507409, 146.78477980034, 147.18835146514, 149.36956022494, 147.9090151523, 148.40867530873, 149.29268943165, 148.92755316349, 143.15263481706, 139.73188451535, 140.85611986732, 139.48205443714, 138.64608456003, 136.70509702929, 140.61589863826, 139.3379216997, 140.16428272764, 139.93367034775, 140.55824554329, 140.11623848183, 138.10798900695, 140.125847331, 138.05994476114, 138.38664563266, 137.88698547623, 138.45390757679, 137.14710409074, 138.54038721925, 139.38596594551, 139.83758185613, 140.03936768854, 141.98996406845, 143.21028791203, 143.70994806846, 144.20960822489, 145.11284004613, 144.45943830311, 144.39217635897, 146.14098690647, 146.76556210201, 147.45739924168, 144.67083298467, 143.65229497349, 142.91241358801, 144.18078167741, 150.99345573334, 149.48486641489, 150.27279204618, 152.59813354341, 153.818457387, 154.76012268311, 149.85000268305, 151.93393267143, 154.22046696424, 155.90883616779, 155.28172760647, 152.3005499842, 151.95322831947, 151.67344142288, 154.15293219609, 154.3458886765, 153.66089317106, 154.23011478826, 155.78341445552, 157.17270111444, 157.59720537134, 158.22431393265, 158.27255305276, 156.37193172076, 156.20791871242, 155.5808101511, 153.04343243376, 155.81235792758, 155.19489719029], \"yaxis\": \"y\"}, {\"hovertemplate\": \"Name=Nike<br>Date=%{x}<br>Adj_Close=%{y}<extra></extra>\", \"legendgroup\": \"Nike\", \"line\": {\"color\": \"#EF553B\", \"dash\": \"solid\"}, \"mode\": \"lines\", \"name\": \"Nike\", \"showlegend\": true, \"type\": \"scatter\", \"x\": [\"2017-02-06T00:00:00\", \"2017-02-07T00:00:00\", \"2017-02-08T00:00:00\", \"2017-02-09T00:00:00\", \"2017-02-10T00:00:00\", \"2017-02-13T00:00:00\", \"2017-02-14T00:00:00\", \"2017-02-15T00:00:00\", \"2017-02-16T00:00:00\", \"2017-02-17T00:00:00\", \"2017-02-21T00:00:00\", \"2017-02-22T00:00:00\", \"2017-02-23T00:00:00\", \"2017-02-24T00:00:00\", \"2017-02-27T00:00:00\", \"2017-02-28T00:00:00\", \"2017-03-01T00:00:00\", \"2017-03-02T00:00:00\", \"2017-03-03T00:00:00\", \"2017-03-06T00:00:00\", \"2017-03-07T00:00:00\", \"2017-03-08T00:00:00\", \"2017-03-09T00:00:00\", \"2017-03-10T00:00:00\", \"2017-03-13T00:00:00\", \"2017-03-14T00:00:00\", \"2017-03-15T00:00:00\", \"2017-03-16T00:00:00\", \"2017-03-17T00:00:00\", \"2017-03-20T00:00:00\", \"2017-03-21T00:00:00\", \"2017-03-22T00:00:00\", \"2017-03-23T00:00:00\", \"2017-03-24T00:00:00\", \"2017-03-27T00:00:00\", \"2017-03-28T00:00:00\", \"2017-03-29T00:00:00\", \"2017-03-30T00:00:00\", \"2017-03-31T00:00:00\", \"2017-04-03T00:00:00\", \"2017-04-04T00:00:00\", \"2017-04-05T00:00:00\", \"2017-04-06T00:00:00\", \"2017-04-07T00:00:00\", \"2017-04-10T00:00:00\", \"2017-04-11T00:00:00\", \"2017-04-12T00:00:00\", \"2017-04-13T00:00:00\", \"2017-04-17T00:00:00\", \"2017-04-18T00:00:00\", \"2017-04-19T00:00:00\", \"2017-04-20T00:00:00\", \"2017-04-21T00:00:00\", \"2017-04-24T00:00:00\", \"2017-04-25T00:00:00\", \"2017-04-26T00:00:00\", \"2017-04-27T00:00:00\", \"2017-04-28T00:00:00\", \"2017-05-01T00:00:00\", \"2017-05-02T00:00:00\", \"2017-05-03T00:00:00\", \"2017-05-04T00:00:00\", \"2017-05-05T00:00:00\", \"2017-05-08T00:00:00\", \"2017-05-09T00:00:00\", \"2017-05-10T00:00:00\", \"2017-05-11T00:00:00\", \"2017-05-12T00:00:00\", \"2017-05-15T00:00:00\", \"2017-05-16T00:00:00\", \"2017-05-17T00:00:00\", \"2017-05-18T00:00:00\", \"2017-05-19T00:00:00\", \"2017-05-22T00:00:00\", \"2017-05-23T00:00:00\", \"2017-05-24T00:00:00\", \"2017-05-25T00:00:00\", \"2017-05-26T00:00:00\", \"2017-05-30T00:00:00\", \"2017-05-31T00:00:00\", \"2017-06-01T00:00:00\", \"2017-06-02T00:00:00\", \"2017-06-05T00:00:00\", \"2017-06-06T00:00:00\", \"2017-06-07T00:00:00\", \"2017-06-08T00:00:00\", \"2017-06-09T00:00:00\", \"2017-06-12T00:00:00\", \"2017-06-13T00:00:00\", \"2017-06-14T00:00:00\", \"2017-06-15T00:00:00\", \"2017-06-16T00:00:00\", \"2017-06-19T00:00:00\", \"2017-06-20T00:00:00\", \"2017-06-21T00:00:00\", \"2017-06-22T00:00:00\", \"2017-06-23T00:00:00\", \"2017-06-26T00:00:00\", \"2017-06-27T00:00:00\", \"2017-06-28T00:00:00\", \"2017-06-29T00:00:00\", \"2017-06-30T00:00:00\", \"2017-07-03T00:00:00\", \"2017-07-05T00:00:00\", \"2017-07-06T00:00:00\", \"2017-07-07T00:00:00\", \"2017-07-10T00:00:00\", \"2017-07-11T00:00:00\", \"2017-07-12T00:00:00\", \"2017-07-13T00:00:00\", \"2017-07-14T00:00:00\", \"2017-07-17T00:00:00\", \"2017-07-18T00:00:00\", \"2017-07-19T00:00:00\", \"2017-07-20T00:00:00\", \"2017-07-21T00:00:00\", \"2017-07-24T00:00:00\", \"2017-07-25T00:00:00\", \"2017-07-26T00:00:00\", \"2017-07-27T00:00:00\", \"2017-07-28T00:00:00\", \"2017-07-31T00:00:00\", \"2017-08-01T00:00:00\", \"2017-08-02T00:00:00\", \"2017-08-03T00:00:00\", \"2017-08-04T00:00:00\", \"2017-08-07T00:00:00\", \"2017-08-08T00:00:00\", \"2017-08-09T00:00:00\", \"2017-08-10T00:00:00\", \"2017-08-11T00:00:00\", \"2017-08-14T00:00:00\", \"2017-08-15T00:00:00\", \"2017-08-16T00:00:00\", \"2017-08-17T00:00:00\", \"2017-08-18T00:00:00\", \"2017-08-21T00:00:00\", \"2017-08-22T00:00:00\", \"2017-08-23T00:00:00\", \"2017-08-24T00:00:00\", \"2017-08-25T00:00:00\", \"2017-08-28T00:00:00\", \"2017-08-29T00:00:00\", \"2017-08-30T00:00:00\", \"2017-08-31T00:00:00\", \"2017-09-01T00:00:00\", \"2017-09-05T00:00:00\", \"2017-09-06T00:00:00\", \"2017-09-07T00:00:00\", \"2017-09-08T00:00:00\", \"2017-09-11T00:00:00\", \"2017-09-12T00:00:00\"], \"xaxis\": \"x\", \"y\": [50.84466523795116, 50.85429490939775, 51.884669754181985, 53.261712771043165, 54.13801287268209, 54.012827143876535, 54.359495315953474, 54.54245907343852, 54.205420572808166, 54.64838545935092, 55.2357954175924, 56.08320650489159, 55.264684431932146, 55.71727898992148, 55.5535745753296, 55.04320198866077, 55.80394603294072, 55.83283504728046, 54.77027244257444, 54.83789006287392, 54.62537754193271, 54.58673890176158, 54.44184400111985, 54.50946162141932, 54.741293462446095, 55.3305327250558, 55.69759980668152, 55.63964184642483, 55.83283504728046, 56.68288513104529, 56.035687908178886, 52.08488695068102, 53.48553765688442, 54.44184400111985, 54.02647861928022, 54.69299516223218, 54.75095312248887, 54.13273487975082, 53.83328541842457, 53.669071197697285, 53.16676887547261, 53.10881091521592, 53.263365475900436, 53.234386495772085, 53.03153363487366, 53.050852954959225, 53.678730857740064, 53.456558676756075, 54.32592808060647, 54.20035250005029, 53.95886099898074, 54.480482641290976, 53.94920133893796, 53.58213425731224, 53.562814937226676, 53.28268479598599, 53.58213425731224, 53.52417629705555, 53.118470575258705, 53.195747855600956, 52.67412621329073, 52.61616825303403, 52.11386593080937, 52.45195403230674, 53.02187397483088, 52.70310519341907, 52.393996072050044, 52.35535743187892, 51.93999205003929, 50.98368570580386, 50.037039021611214, 49.92112310109783, 50.00806004148287, 49.814866840627225, 50.4234254233225, 50.23989188250964, 50.56832032396423, 50.800152164991005, 51.11892094640281, 51.18653856670228, 50.693895904520396, 51.353013480334425, 51.382092196914456, 50.86836820400058, 51.59533611850135, 51.56625740192133, 51.81827294561492, 52.37076856063551, 52.64216991538247, 52.981421608816156, 51.275470236121016, 49.53074724131917, 50.42249454977345, 49.976620895546304, 50.974990164794036, 50.790824959787166, 51.22700570848763, 51.64380064613474, 51.3239347637544, 51.72134389034815, 51.537178685341296, 57.18814260739395, 56.848890913960254, 55.792364211552474, 55.40464799048539, 56.199466243672894, 56.92643415817367, 56.39332435420644, 56.43209597631314, 56.16069462156619, 56.218852054726256, 56.01530103866604, 55.87960036129256, 55.995915227612684, 57.28507166266072, 58.10896863242826, 57.139678079760564, 57.56616592293435, 56.56779665368662, 56.364245637626404, 56.86827672501361, 57.23660713502733, 58.00234667163481, 57.953882144001426, 58.29313383743512, 57.924803427421395, 57.953882144001426, 57.63401626162109, 58.06050410479487, 57.25599294608069, 57.15906389081392, 57.94418923847475, 56.76165476422017, 56.74226895316681, 55.6954351562857, 53.26251586908979, 51.96366652851508, 52.46769761590228, 51.96366652851508, 52.18660335562865, 52.24476078878871, 52.0799813948352, 51.1106908421675, 50.945911448214, 51.36270638586111, 51.89763326547148, 51.55722525117397, 51.31407666953289, 50.9542167687041, 50.76942384665688, 51.57667713770525, 51.93653703853405], \"yaxis\": \"y\"}, {\"hovertemplate\": \"Name=Disney<br>Date=%{x}<br>Adj_Close=%{y}<extra></extra>\", \"legendgroup\": \"Disney\", \"line\": {\"color\": \"#00cc96\", \"dash\": \"solid\"}, \"mode\": \"lines\", \"name\": \"Disney\", \"showlegend\": true, \"type\": \"scatter\", \"x\": [\"2017-02-06T00:00:00\", \"2017-02-07T00:00:00\", \"2017-02-08T00:00:00\", \"2017-02-09T00:00:00\", \"2017-02-10T00:00:00\", \"2017-02-13T00:00:00\", \"2017-02-14T00:00:00\", \"2017-02-15T00:00:00\", \"2017-02-16T00:00:00\", \"2017-02-17T00:00:00\", \"2017-02-21T00:00:00\", \"2017-02-22T00:00:00\", \"2017-02-23T00:00:00\", \"2017-02-24T00:00:00\", \"2017-02-27T00:00:00\", \"2017-02-28T00:00:00\", \"2017-03-01T00:00:00\", \"2017-03-02T00:00:00\", \"2017-03-03T00:00:00\", \"2017-03-06T00:00:00\", \"2017-03-07T00:00:00\", \"2017-03-08T00:00:00\", \"2017-03-09T00:00:00\", \"2017-03-10T00:00:00\", \"2017-03-13T00:00:00\", \"2017-03-14T00:00:00\", \"2017-03-15T00:00:00\", \"2017-03-16T00:00:00\", \"2017-03-17T00:00:00\", \"2017-03-20T00:00:00\", \"2017-03-21T00:00:00\", \"2017-03-22T00:00:00\", \"2017-03-23T00:00:00\", \"2017-03-24T00:00:00\", \"2017-03-27T00:00:00\", \"2017-03-28T00:00:00\", \"2017-03-29T00:00:00\", \"2017-03-30T00:00:00\", \"2017-03-31T00:00:00\", \"2017-04-03T00:00:00\", \"2017-04-04T00:00:00\", \"2017-04-05T00:00:00\", \"2017-04-06T00:00:00\", \"2017-04-07T00:00:00\", \"2017-04-10T00:00:00\", \"2017-04-11T00:00:00\", \"2017-04-12T00:00:00\", \"2017-04-13T00:00:00\", \"2017-04-17T00:00:00\", \"2017-04-18T00:00:00\", \"2017-04-19T00:00:00\", \"2017-04-20T00:00:00\", \"2017-04-21T00:00:00\", \"2017-04-24T00:00:00\", \"2017-04-25T00:00:00\", \"2017-04-26T00:00:00\", \"2017-04-27T00:00:00\", \"2017-04-28T00:00:00\", \"2017-05-01T00:00:00\", \"2017-05-02T00:00:00\", \"2017-05-03T00:00:00\", \"2017-05-04T00:00:00\", \"2017-05-05T00:00:00\", \"2017-05-08T00:00:00\", \"2017-05-09T00:00:00\", \"2017-05-10T00:00:00\", \"2017-05-11T00:00:00\", \"2017-05-12T00:00:00\", \"2017-05-15T00:00:00\", \"2017-05-16T00:00:00\", \"2017-05-17T00:00:00\", \"2017-05-18T00:00:00\", \"2017-05-19T00:00:00\", \"2017-05-22T00:00:00\", \"2017-05-23T00:00:00\", \"2017-05-24T00:00:00\", \"2017-05-25T00:00:00\", \"2017-05-26T00:00:00\", \"2017-05-30T00:00:00\", \"2017-05-31T00:00:00\", \"2017-06-01T00:00:00\", \"2017-06-02T00:00:00\", \"2017-06-05T00:00:00\", \"2017-06-06T00:00:00\", \"2017-06-07T00:00:00\", \"2017-06-08T00:00:00\", \"2017-06-09T00:00:00\", \"2017-06-12T00:00:00\", \"2017-06-13T00:00:00\", \"2017-06-14T00:00:00\", \"2017-06-15T00:00:00\", \"2017-06-16T00:00:00\", \"2017-06-19T00:00:00\", \"2017-06-20T00:00:00\", \"2017-06-21T00:00:00\", \"2017-06-22T00:00:00\", \"2017-06-23T00:00:00\", \"2017-06-26T00:00:00\", \"2017-06-27T00:00:00\", \"2017-06-28T00:00:00\", \"2017-06-29T00:00:00\", \"2017-06-30T00:00:00\", \"2017-07-03T00:00:00\", \"2017-07-05T00:00:00\", \"2017-07-06T00:00:00\", \"2017-07-07T00:00:00\", \"2017-07-10T00:00:00\", \"2017-07-11T00:00:00\", \"2017-07-12T00:00:00\", \"2017-07-13T00:00:00\", \"2017-07-14T00:00:00\", \"2017-07-17T00:00:00\", \"2017-07-18T00:00:00\", \"2017-07-19T00:00:00\", \"2017-07-20T00:00:00\", \"2017-07-21T00:00:00\", \"2017-07-24T00:00:00\", \"2017-07-25T00:00:00\", \"2017-07-26T00:00:00\", \"2017-07-27T00:00:00\", \"2017-07-28T00:00:00\", \"2017-07-31T00:00:00\", \"2017-08-01T00:00:00\", \"2017-08-02T00:00:00\", \"2017-08-03T00:00:00\", \"2017-08-04T00:00:00\", \"2017-08-07T00:00:00\", \"2017-08-08T00:00:00\", \"2017-08-09T00:00:00\", \"2017-08-10T00:00:00\", \"2017-08-11T00:00:00\", \"2017-08-14T00:00:00\", \"2017-08-15T00:00:00\", \"2017-08-16T00:00:00\", \"2017-08-17T00:00:00\", \"2017-08-18T00:00:00\", \"2017-08-21T00:00:00\", \"2017-08-22T00:00:00\", \"2017-08-23T00:00:00\", \"2017-08-24T00:00:00\", \"2017-08-25T00:00:00\", \"2017-08-28T00:00:00\", \"2017-08-29T00:00:00\", \"2017-08-30T00:00:00\", \"2017-08-31T00:00:00\", \"2017-09-01T00:00:00\", \"2017-09-05T00:00:00\", \"2017-09-06T00:00:00\", \"2017-09-07T00:00:00\", \"2017-09-08T00:00:00\", \"2017-09-11T00:00:00\", \"2017-09-12T00:00:00\"], \"xaxis\": \"x\", \"y\": [104.90476791552, 104.35903717068, 104.35903717068, 104.82817412677, 104.60796698411, 104.98136170426, 105.63240890863, 105.48879555473, 105.99622940519, 105.3739048716, 105.32603375364, 105.43135021317, 105.05795549301, 105.62283468504, 105.5366666727, 105.40262754239, 106.31217878378, 105.88133872207, 106.50366325565, 105.95793251082, 106.1398427591, 106.12069431191, 106.30260456019, 106.19728810066, 106.77174151628, 107.52810518017, 107.10683934205, 106.95365176455, 107.00152288252, 107.91107412392, 106.99194865893, 107.30789803752, 107.46108561502, 107.36534337908, 107.59512474533, 108.2365977261, 107.73873809923, 108.36106263282, 108.56212132829, 108.38021108001, 108.22702350251, 108.18872660813, 108.2365977261, 107.7866092172, 107.6429958633, 108.25574617329, 108.22702350251, 108.38021108001, 108.93551604844, 109.32805921578, 108.88764493047, 109.9025126314, 109.56741480562, 108.85892225969, 110.27590735155, 110.65887629529, 110.90780610873, 110.67802474248, 109.84506728983, 109.50039524046, 106.86748375221, 106.4366436905, 107.22173002518, 106.67599928034, 107.29832381393, 104.99093592786, 104.91434213911, 105.01965859864, 104.4835020774, 103.38246636413, 101.78357102399, 102.13781729695, 102.94205207882, 103.04736853835, 102.46334089914, 103.1239623271, 102.70269648898, 103.79415797865, 103.7271384135, 103.34416946975, 103.60267350678, 102.61652847664, 101.98462971946, 101.0080589129, 101.41017630384, 99.878300528855, 101.12294959603, 102.48248934632, 102.02292661383, 101.6208092229, 101.4676216454, 101.0176331365, 100.88359400619, 99.514480032296, 100.33786326135, 99.782558292918, 99.916597423229, 101.07507847806, 100.92189090056, 102.31015332164, 101.20911760837, 101.72612568243, 102.88460673726, 101.13252381962, 99.696390280576, 99.667450834921, 99.927905845814, 100.16906789294, 100.68997791472, 100.60315957776, 101.37487812855, 101.085483672, 102.01154593295, 103.04371949464, 103.56462951643, 103.30417450553, 103.21735616857, 102.65786021924, 103.15947727726, 106.11130073404, 106.0727148065, 106.04377536085, 106.69973612902, 104.82831864335, 105.26241032817, 103.88296341863, 102.59033484605, 103.1980632048, 99.19477322256, 97.767093903593, 98.384468744227, 97.815326313018, 97.921437613752, 98.587044863811, 97.796033349248, 97.140072581074, 97.593457229665, 99.136894331251, 97.911791131867, 97.931084095637, 98.789620983394, 98.934318211667, 98.943964693552, 99.2333591501, 97.622396675319, 97.911791131867, 98.008255950716, 97.911791131867, 93.628753174965, 93.63839965685, 93.65769262062, 94.429411171413], \"yaxis\": \"y\"}],\n",
       "                        {\"legend\": {\"title\": {\"text\": \"Name\"}, \"tracegroupgap\": 0}, \"margin\": {\"t\": 60}, \"template\": {\"data\": {\"bar\": [{\"error_x\": {\"color\": \"#2a3f5f\"}, \"error_y\": {\"color\": \"#2a3f5f\"}, \"marker\": {\"line\": {\"color\": \"#E5ECF6\", \"width\": 0.5}}, \"type\": \"bar\"}], \"barpolar\": [{\"marker\": {\"line\": {\"color\": \"#E5ECF6\", \"width\": 0.5}}, \"type\": \"barpolar\"}], \"carpet\": [{\"aaxis\": {\"endlinecolor\": \"#2a3f5f\", \"gridcolor\": \"white\", \"linecolor\": \"white\", \"minorgridcolor\": \"white\", \"startlinecolor\": \"#2a3f5f\"}, \"baxis\": {\"endlinecolor\": \"#2a3f5f\", \"gridcolor\": \"white\", \"linecolor\": \"white\", \"minorgridcolor\": \"white\", \"startlinecolor\": \"#2a3f5f\"}, \"type\": \"carpet\"}], \"choropleth\": [{\"colorbar\": {\"outlinewidth\": 0, \"ticks\": \"\"}, \"type\": \"choropleth\"}], \"contour\": [{\"colorbar\": {\"outlinewidth\": 0, \"ticks\": \"\"}, \"colorscale\": [[0.0, \"#0d0887\"], [0.1111111111111111, \"#46039f\"], [0.2222222222222222, \"#7201a8\"], [0.3333333333333333, \"#9c179e\"], [0.4444444444444444, \"#bd3786\"], [0.5555555555555556, \"#d8576b\"], [0.6666666666666666, \"#ed7953\"], [0.7777777777777778, \"#fb9f3a\"], [0.8888888888888888, \"#fdca26\"], [1.0, \"#f0f921\"]], \"type\": \"contour\"}], \"contourcarpet\": [{\"colorbar\": {\"outlinewidth\": 0, \"ticks\": \"\"}, \"type\": \"contourcarpet\"}], \"heatmap\": [{\"colorbar\": {\"outlinewidth\": 0, \"ticks\": \"\"}, \"colorscale\": [[0.0, \"#0d0887\"], [0.1111111111111111, \"#46039f\"], [0.2222222222222222, \"#7201a8\"], [0.3333333333333333, \"#9c179e\"], [0.4444444444444444, \"#bd3786\"], [0.5555555555555556, \"#d8576b\"], [0.6666666666666666, \"#ed7953\"], [0.7777777777777778, \"#fb9f3a\"], [0.8888888888888888, \"#fdca26\"], [1.0, \"#f0f921\"]], \"type\": \"heatmap\"}], \"heatmapgl\": [{\"colorbar\": {\"outlinewidth\": 0, \"ticks\": \"\"}, \"colorscale\": [[0.0, \"#0d0887\"], [0.1111111111111111, \"#46039f\"], [0.2222222222222222, \"#7201a8\"], [0.3333333333333333, \"#9c179e\"], [0.4444444444444444, \"#bd3786\"], [0.5555555555555556, \"#d8576b\"], [0.6666666666666666, \"#ed7953\"], [0.7777777777777778, \"#fb9f3a\"], [0.8888888888888888, \"#fdca26\"], [1.0, \"#f0f921\"]], \"type\": \"heatmapgl\"}], \"histogram\": [{\"marker\": {\"colorbar\": {\"outlinewidth\": 0, \"ticks\": \"\"}}, \"type\": \"histogram\"}], \"histogram2d\": [{\"colorbar\": {\"outlinewidth\": 0, \"ticks\": \"\"}, \"colorscale\": [[0.0, \"#0d0887\"], [0.1111111111111111, \"#46039f\"], [0.2222222222222222, \"#7201a8\"], [0.3333333333333333, \"#9c179e\"], [0.4444444444444444, \"#bd3786\"], [0.5555555555555556, \"#d8576b\"], [0.6666666666666666, \"#ed7953\"], [0.7777777777777778, \"#fb9f3a\"], [0.8888888888888888, \"#fdca26\"], [1.0, \"#f0f921\"]], \"type\": \"histogram2d\"}], \"histogram2dcontour\": [{\"colorbar\": {\"outlinewidth\": 0, \"ticks\": \"\"}, \"colorscale\": [[0.0, \"#0d0887\"], [0.1111111111111111, \"#46039f\"], [0.2222222222222222, \"#7201a8\"], [0.3333333333333333, \"#9c179e\"], [0.4444444444444444, \"#bd3786\"], [0.5555555555555556, \"#d8576b\"], [0.6666666666666666, \"#ed7953\"], [0.7777777777777778, \"#fb9f3a\"], [0.8888888888888888, \"#fdca26\"], [1.0, \"#f0f921\"]], \"type\": \"histogram2dcontour\"}], \"mesh3d\": [{\"colorbar\": {\"outlinewidth\": 0, \"ticks\": \"\"}, \"type\": \"mesh3d\"}], \"parcoords\": [{\"line\": {\"colorbar\": {\"outlinewidth\": 0, \"ticks\": \"\"}}, \"type\": \"parcoords\"}], \"pie\": [{\"automargin\": true, \"type\": \"pie\"}], \"scatter\": [{\"marker\": {\"colorbar\": {\"outlinewidth\": 0, \"ticks\": \"\"}}, \"type\": \"scatter\"}], \"scatter3d\": [{\"line\": {\"colorbar\": {\"outlinewidth\": 0, \"ticks\": \"\"}}, \"marker\": {\"colorbar\": {\"outlinewidth\": 0, \"ticks\": \"\"}}, \"type\": \"scatter3d\"}], \"scattercarpet\": [{\"marker\": {\"colorbar\": {\"outlinewidth\": 0, \"ticks\": \"\"}}, \"type\": \"scattercarpet\"}], \"scattergeo\": [{\"marker\": {\"colorbar\": {\"outlinewidth\": 0, \"ticks\": \"\"}}, \"type\": \"scattergeo\"}], \"scattergl\": [{\"marker\": {\"colorbar\": {\"outlinewidth\": 0, \"ticks\": \"\"}}, \"type\": \"scattergl\"}], \"scattermapbox\": [{\"marker\": {\"colorbar\": {\"outlinewidth\": 0, \"ticks\": \"\"}}, \"type\": \"scattermapbox\"}], \"scatterpolar\": [{\"marker\": {\"colorbar\": {\"outlinewidth\": 0, \"ticks\": \"\"}}, \"type\": \"scatterpolar\"}], \"scatterpolargl\": [{\"marker\": {\"colorbar\": {\"outlinewidth\": 0, \"ticks\": \"\"}}, \"type\": \"scatterpolargl\"}], \"scatterternary\": [{\"marker\": {\"colorbar\": {\"outlinewidth\": 0, \"ticks\": \"\"}}, \"type\": \"scatterternary\"}], \"surface\": [{\"colorbar\": {\"outlinewidth\": 0, \"ticks\": \"\"}, \"colorscale\": [[0.0, \"#0d0887\"], [0.1111111111111111, \"#46039f\"], [0.2222222222222222, \"#7201a8\"], [0.3333333333333333, \"#9c179e\"], [0.4444444444444444, \"#bd3786\"], [0.5555555555555556, \"#d8576b\"], [0.6666666666666666, \"#ed7953\"], [0.7777777777777778, \"#fb9f3a\"], [0.8888888888888888, \"#fdca26\"], [1.0, \"#f0f921\"]], \"type\": \"surface\"}], \"table\": [{\"cells\": {\"fill\": {\"color\": \"#EBF0F8\"}, \"line\": {\"color\": \"white\"}}, \"header\": {\"fill\": {\"color\": \"#C8D4E3\"}, \"line\": {\"color\": \"white\"}}, \"type\": \"table\"}]}, \"layout\": {\"annotationdefaults\": {\"arrowcolor\": \"#2a3f5f\", \"arrowhead\": 0, \"arrowwidth\": 1}, \"coloraxis\": {\"colorbar\": {\"outlinewidth\": 0, \"ticks\": \"\"}}, \"colorscale\": {\"diverging\": [[0, \"#8e0152\"], [0.1, \"#c51b7d\"], [0.2, \"#de77ae\"], [0.3, \"#f1b6da\"], [0.4, \"#fde0ef\"], [0.5, \"#f7f7f7\"], [0.6, \"#e6f5d0\"], [0.7, \"#b8e186\"], [0.8, \"#7fbc41\"], [0.9, \"#4d9221\"], [1, \"#276419\"]], \"sequential\": [[0.0, \"#0d0887\"], [0.1111111111111111, \"#46039f\"], [0.2222222222222222, \"#7201a8\"], [0.3333333333333333, \"#9c179e\"], [0.4444444444444444, \"#bd3786\"], [0.5555555555555556, \"#d8576b\"], [0.6666666666666666, \"#ed7953\"], [0.7777777777777778, \"#fb9f3a\"], [0.8888888888888888, \"#fdca26\"], [1.0, \"#f0f921\"]], \"sequentialminus\": [[0.0, \"#0d0887\"], [0.1111111111111111, \"#46039f\"], [0.2222222222222222, \"#7201a8\"], [0.3333333333333333, \"#9c179e\"], [0.4444444444444444, \"#bd3786\"], [0.5555555555555556, \"#d8576b\"], [0.6666666666666666, \"#ed7953\"], [0.7777777777777778, \"#fb9f3a\"], [0.8888888888888888, \"#fdca26\"], [1.0, \"#f0f921\"]]}, \"colorway\": [\"#636efa\", \"#EF553B\", \"#00cc96\", \"#ab63fa\", \"#FFA15A\", \"#19d3f3\", \"#FF6692\", \"#B6E880\", \"#FF97FF\", \"#FECB52\"], \"font\": {\"color\": \"#2a3f5f\"}, \"geo\": {\"bgcolor\": \"white\", \"lakecolor\": \"white\", \"landcolor\": \"#E5ECF6\", \"showlakes\": true, \"showland\": true, \"subunitcolor\": \"white\"}, \"hoverlabel\": {\"align\": \"left\"}, \"hovermode\": \"closest\", \"mapbox\": {\"style\": \"light\"}, \"paper_bgcolor\": \"white\", \"plot_bgcolor\": \"#E5ECF6\", \"polar\": {\"angularaxis\": {\"gridcolor\": \"white\", \"linecolor\": \"white\", \"ticks\": \"\"}, \"bgcolor\": \"#E5ECF6\", \"radialaxis\": {\"gridcolor\": \"white\", \"linecolor\": \"white\", \"ticks\": \"\"}}, \"scene\": {\"xaxis\": {\"backgroundcolor\": \"#E5ECF6\", \"gridcolor\": \"white\", \"gridwidth\": 2, \"linecolor\": \"white\", \"showbackground\": true, \"ticks\": \"\", \"zerolinecolor\": \"white\"}, \"yaxis\": {\"backgroundcolor\": \"#E5ECF6\", \"gridcolor\": \"white\", \"gridwidth\": 2, \"linecolor\": \"white\", \"showbackground\": true, \"ticks\": \"\", \"zerolinecolor\": \"white\"}, \"zaxis\": {\"backgroundcolor\": \"#E5ECF6\", \"gridcolor\": \"white\", \"gridwidth\": 2, \"linecolor\": \"white\", \"showbackground\": true, \"ticks\": \"\", \"zerolinecolor\": \"white\"}}, \"shapedefaults\": {\"line\": {\"color\": \"#2a3f5f\"}}, \"ternary\": {\"aaxis\": {\"gridcolor\": \"white\", \"linecolor\": \"white\", \"ticks\": \"\"}, \"baxis\": {\"gridcolor\": \"white\", \"linecolor\": \"white\", \"ticks\": \"\"}, \"bgcolor\": \"#E5ECF6\", \"caxis\": {\"gridcolor\": \"white\", \"linecolor\": \"white\", \"ticks\": \"\"}}, \"title\": {\"x\": 0.05}, \"xaxis\": {\"automargin\": true, \"gridcolor\": \"white\", \"linecolor\": \"white\", \"ticks\": \"\", \"title\": {\"standoff\": 15}, \"zerolinecolor\": \"white\", \"zerolinewidth\": 2}, \"yaxis\": {\"automargin\": true, \"gridcolor\": \"white\", \"linecolor\": \"white\", \"ticks\": \"\", \"title\": {\"standoff\": 15}, \"zerolinecolor\": \"white\", \"zerolinewidth\": 2}}}, \"xaxis\": {\"anchor\": \"y\", \"domain\": [0.0, 1.0], \"title\": {\"text\": \"Date\"}}, \"yaxis\": {\"anchor\": \"x\", \"domain\": [0.0, 1.0], \"title\": {\"text\": \"Adj_Close\"}}},\n",
       "                        {\"responsive\": true}\n",
       "                    ).then(function(){\n",
       "                            \n",
       "var gd = document.getElementById('7f2683c0-b618-4927-b419-047974b3fd71');\n",
       "var x = new MutationObserver(function (mutations, observer) {{\n",
       "        var display = window.getComputedStyle(gd).display;\n",
       "        if (!display || display === 'none') {{\n",
       "            console.log([gd, 'removed!']);\n",
       "            Plotly.purge(gd);\n",
       "            observer.disconnect();\n",
       "        }}\n",
       "}});\n",
       "\n",
       "// Listen for the removal of the full notebook cells\n",
       "var notebookContainer = gd.closest('#notebook-container');\n",
       "if (notebookContainer) {{\n",
       "    x.observe(notebookContainer, {childList: true});\n",
       "}}\n",
       "\n",
       "// Listen for the clearing of the current output cell\n",
       "var outputEl = gd.closest('.output');\n",
       "if (outputEl) {{\n",
       "    x.observe(outputEl, {childList: true});\n",
       "}}\n",
       "\n",
       "                        })\n",
       "                };\n",
       "                });\n",
       "            </script>\n",
       "        </div>"
      ]
     },
     "metadata": {},
     "output_type": "display_data"
    }
   ],
   "source": [
    "fig = px.line(info, x=\"Date\", y=\"Adj_Close\", color='Name')\n",
    "fig.show()"
   ]
  },
  {
   "cell_type": "code",
   "execution_count": 70,
   "metadata": {},
   "outputs": [],
   "source": [
    "achange = data['Adj_Close'].pct_change(1)\n",
    "dchange = disney['Adj_Close'].pct_change(1)\n",
    "nchange = nike['Adj_Close'].pct_change(1)"
   ]
  },
  {
   "cell_type": "code",
   "execution_count": 71,
   "metadata": {},
   "outputs": [],
   "source": [
    "disney['Percent'] = dchange\n",
    "apple['Percent'] = achange\n",
    "nike['Percent'] = nchange"
   ]
  },
  {
   "cell_type": "code",
   "execution_count": null,
   "metadata": {},
   "outputs": [],
   "source": []
  }
 ],
 "metadata": {
  "kernelspec": {
   "display_name": "Python 3",
   "language": "python",
   "name": "python3"
  },
  "language_info": {
   "codemirror_mode": {
    "name": "ipython",
    "version": 3
   },
   "file_extension": ".py",
   "mimetype": "text/x-python",
   "name": "python",
   "nbconvert_exporter": "python",
   "pygments_lexer": "ipython3",
   "version": "3.7.4"
  }
 },
 "nbformat": 4,
 "nbformat_minor": 2
}
